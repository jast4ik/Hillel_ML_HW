{
 "cells": [
  {
   "cell_type": "code",
   "execution_count": null,
   "metadata": {},
   "outputs": [],
   "source": [
    "import tensorflow_datasets as tfds\n",
    "import tensorflow as tf\n",
    "\n",
    "from tensorflow.keras.models import Sequential, load_model\n",
    "from tensorflow.keras.layers import Conv2D, AveragePooling2D, Dense, Dropout, Input, Flatten, MaxPooling2D\n",
    "from tensorflow.keras.callbacks import LearningRateScheduler, ModelCheckpoint\n",
    "from tensorflow.keras.optimizers import Adam\n",
    "\n",
    "import matplotlib.pyplot as plt\n",
    "\n",
    "import numpy as np\n",
    "\n",
    "from functools import partial\n",
    "\n",
    "from albumentations import (Compose, HorizontalFlip, Rotate, OneOf, ToGray, VerticalFlip,\n",
    "    RandomScale, ChannelShuffle, ChannelDropout, ToSepia, RandomBrightnessContrast\n",
    ")\n",
    "\n",
    "import random\n",
    "import os\n",
    "\n",
    "from os.path import isfile\n",
    "import pickle\n",
    "import lzma\n",
    "\n",
    "AUTOTUNE = tf.data.experimental.AUTOTUNE\n"
   ]
  },
  {
   "cell_type": "code",
   "execution_count": null,
   "metadata": {},
   "outputs": [],
   "source": [
    "def get_mkl_enabled_flag():\n",
    "    mkl_enabled = False\n",
    "    major_version = int(tf.__version__.split(\".\")[0])\n",
    "    minor_version = int(tf.__version__.split(\".\")[1])\n",
    "    if major_version >= 2:\n",
    "        if minor_version < 5:\n",
    "            from tensorflow.python import _pywrap_util_port\n",
    "        else:\n",
    "            from tensorflow.python.util import _pywrap_util_port\n",
    "            onednn_enabled = int(os.environ.get('TF_ENABLE_ONEDNN_OPTS', '0'))\n",
    "        mkl_enabled = _pywrap_util_port.IsMklEnabled() or (onednn_enabled == 1)\n",
    "    else:\n",
    "        mkl_enabled = tf.pywrap_tensorflow.IsMklEnabled()\n",
    "    return mkl_enabled\n",
    "\n",
    "\n",
    "print(\"We are using Tensorflow version\", tf.__version__)\n",
    "print(\"MKL enabled :\", get_mkl_enabled_flag())\n"
   ]
  },
  {
   "cell_type": "code",
   "execution_count": null,
   "metadata": {},
   "outputs": [],
   "source": [
    "cifar100_labels = [\n",
    "    'apple', 'aquarium_fish', 'baby', 'bear', 'beaver', 'bed', 'bee', 'beetle', 'bicycle', 'bottle', \n",
    "    'bowl', 'boy', 'bridge', 'bus', 'butterfly', 'camel', 'can', 'castle', 'caterpillar', 'cattle', 'chair', \n",
    "    'chimpanzee', 'clock', 'cloud', 'cockroach', 'couch', 'crab', 'crocodile', 'cup', 'dinosaur', 'dolphin', \n",
    "    'elephant', 'flatfish', 'forest', 'fox', 'girl', 'hamster', 'house', 'kangaroo', 'keyboard', 'lamp', \n",
    "    'lawn_mower', 'leopard', 'lion', 'lizard', 'lobster', 'man', 'maple_tree', 'motorcycle', 'mountain',\n",
    "    'mouse', 'mushroom', 'oak_tree', 'orange', 'orchid', 'otter', 'palm_tree', 'pear', 'pickup_truck', \n",
    "    'pine_tree', 'plain', 'plate', 'poppy', 'porcupine', 'possum', 'rabbit', 'raccoon', 'ray', 'road', \n",
    "    'rocket', 'rose', 'sea', 'seal', 'shark', 'shrew', 'skunk', 'skyscraper', 'snail', 'snake', 'spider', \n",
    "    'squirrel', 'streetcar', 'sunflower', 'sweet_pepper', 'table', 'tank', 'telephone', 'television', 'tiger', \n",
    "    'tractor', 'train', 'trout', 'tulip', 'turtle', 'wardrobe', 'whale', 'willow_tree', 'wolf', 'woman', 'worm'\n",
    "]\n"
   ]
  },
  {
   "cell_type": "code",
   "execution_count": null,
   "metadata": {},
   "outputs": [],
   "source": [
    "IMAGE_SHAPE = (32, 32, 3)\n",
    "AUG_PROBA = lambda x=0: random.uniform(0.35, 0.75)\n",
    "NUM_EPOCHS = 64\n",
    "BATCH_SIZE = 256\n",
    "VAL_BATCH_SIZE = 32\n",
    "NUM_CLASSES = 10\n",
    "INITIAL_LR = 0.01"
   ]
  },
  {
   "cell_type": "code",
   "execution_count": null,
   "metadata": {},
   "outputs": [],
   "source": [
    "def view_image(ds):\n",
    "    image, label = next(iter(ds)) \n",
    "    image = image.numpy()\n",
    "    label = label.numpy()\n",
    "\n",
    "    fig = plt.figure(figsize=(16, 16))\n",
    "\n",
    "    for i in range(20):\n",
    "        ax = fig.add_subplot(4, 5, i+1, xticks=[], yticks=[])\n",
    "        ax.imshow(image[i])\n",
    "        label_idx = np.argmax(label[i], axis=0)\n",
    "        ax.set_title(f\"Label: {cifar100_labels[label_idx]}\")\n"
   ]
  },
  {
   "cell_type": "code",
   "execution_count": null,
   "metadata": {},
   "outputs": [],
   "source": [
    "aug_transforms = Compose([\n",
    "        OneOf([\n",
    "                Rotate(limit=15, p=AUG_PROBA()),\n",
    "                Rotate(limit=45, p=AUG_PROBA()),\n",
    "                Rotate(limit=90, p=AUG_PROBA())\n",
    "            ], p=AUG_PROBA()),\n",
    "        OneOf([\n",
    "                HorizontalFlip(p=AUG_PROBA()),\n",
    "                VerticalFlip(p=AUG_PROBA())\n",
    "            ], p=AUG_PROBA()),\n",
    "        #RandomBrightnessContrast(p=AUG_PROBA()),\n",
    "        RandomScale(scale_limit=0.05, p=AUG_PROBA()),\n",
    "        # OneOf([\n",
    "        #        ChannelShuffle(p=AUG_PROBA()),\n",
    "        #        ChannelDropout(p=AUG_PROBA()),\n",
    "        #        ToGray(p=AUG_PROBA()),\n",
    "        #        ToSepia(p=AUG_PROBA())\n",
    "        #    ], p=AUG_PROBA()),\n",
    "    ]\n",
    ")\n"
   ]
  },
  {
   "cell_type": "code",
   "execution_count": null,
   "metadata": {},
   "outputs": [],
   "source": [
    "def get_dataset(ds_name: str):\n",
    "    def aug_fn(image):\n",
    "        data = {\"image\": image}\n",
    "        aug_data = aug_transforms(**data)\n",
    "        aug_img = aug_data[\"image\"]\n",
    "        aug_img = tf.image.resize(aug_img, size=[IMAGE_SHAPE[0], IMAGE_SHAPE[1]])\n",
    "        return aug_img\n",
    "\n",
    "    def process_data(image, label):\n",
    "        aug_img = tf.numpy_function(func=aug_fn, inp=[image], Tout=tf.float32)\n",
    "        return aug_img, label\n",
    "\n",
    "    def normilize_func(image):\n",
    "        return tf.cast(image/255.0, tf.float32)\n",
    "\n",
    "    def normilize_data(image, label):\n",
    "        image = tf.numpy_function(func=normilize_func, inp=[image], Tout=tf.float32)\n",
    "        return image, tf.one_hot(label, depth=NUM_CLASSES)\n",
    "\n",
    "    train_ds, test_ds = tfds.load(name=ds_name, split=['train[:85%]','test'], as_supervised=True, with_info=False, shuffle_files=True) \n",
    "\n",
    "    train_ds = train_ds.map(partial(process_data), num_parallel_calls=AUTOTUNE).prefetch(AUTOTUNE)\n",
    "    train_ds = train_ds.map(partial(normilize_data), num_parallel_calls=AUTOTUNE).batch(BATCH_SIZE).prefetch(AUTOTUNE)\n",
    "\n",
    "    test_ds = test_ds.map(partial(normilize_data), num_parallel_calls=AUTOTUNE).batch(VAL_BATCH_SIZE).prefetch(AUTOTUNE)\n",
    "\n",
    "    return train_ds, test_ds"
   ]
  },
  {
   "cell_type": "code",
   "execution_count": null,
   "metadata": {},
   "outputs": [],
   "source": [
    "# Learning rate exp decay\n",
    "def lr_exp_decay(epoch, lr):\n",
    "    k = 0.1\n",
    "    return INITIAL_LR * np.exp(-k * epoch)\n"
   ]
  },
  {
   "cell_type": "code",
   "execution_count": null,
   "metadata": {},
   "outputs": [],
   "source": [
    "def build_lenet_5(activation_f: str):\n",
    "    model = Sequential(\n",
    "        [\n",
    "            Conv2D(filters=6, kernel_size=(5, 5), activation=activation_f, strides=(1, 1), padding='valid', input_shape=IMAGE_SHAPE),\n",
    "            AveragePooling2D(pool_size=(2, 2), strides=(2, 2), padding='valid'),\n",
    "\n",
    "            Conv2D(filters=16, kernel_size=(5, 5), activation=activation_f, strides=(1, 1)),\n",
    "            AveragePooling2D(pool_size=(2, 2), strides=(2, 2), padding='valid'),\n",
    "\n",
    "            Flatten(),\n",
    "\n",
    "            Dense(units=120, activation=activation_f),\n",
    "            Dense(units=84, activation=activation_f),\n",
    "\n",
    "            Dense(units=NUM_CLASSES, activation='softmax')\n",
    "        ]\n",
    "    )\n",
    "\n",
    "    adam_optimizer = Adam(learning_rate=INITIAL_LR)\n",
    "\n",
    "    model.compile(optimizer=adam_optimizer, loss='categorical_crossentropy', metrics=['accuracy'])\n",
    "\n",
    "    return model"
   ]
  },
  {
   "cell_type": "code",
   "execution_count": null,
   "metadata": {},
   "outputs": [],
   "source": [
    "def train_model(model_name: str, model=None, train=None, test=None):\n",
    "    model_history = {}\n",
    "    model_history_fn = \"./data/models/\" + model_name + \"-history.xz\"\n",
    "    model_fn = './data/models/' + model_name + '-best_model.hdf5'\n",
    "    ret_model = model\n",
    "\n",
    "    if isfile(model_history_fn):\n",
    "        with lzma.open(model_history_fn, \"rb\") as m_file:\n",
    "            model_history = pickle.load(m_file)\n",
    "            ret_model = load_model(model_fn)\n",
    "    else:\n",
    "        # Early stop callback\n",
    "        early_stop = tf.keras.callbacks.EarlyStopping(monitor='val_loss', patience=2, mode='min', verbose=1)\n",
    "\n",
    "        # Save best model\n",
    "        checkpoint = ModelCheckpoint(filepath=model_fn,\n",
    "            monitor='val_loss',\n",
    "            verbose=1,\n",
    "            save_best_only=True,\n",
    "            mode='min'\n",
    "        )\n",
    "\n",
    "        model_history = ret_model.fit(\n",
    "            train, \n",
    "            batch_size=BATCH_SIZE, \n",
    "            epochs=NUM_EPOCHS,\n",
    "            validation_data=test,\n",
    "            validation_batch_size=VAL_BATCH_SIZE,\n",
    "            callbacks=[early_stop, LearningRateScheduler(lr_exp_decay, verbose=1), checkpoint]\n",
    "        )\n",
    "\n",
    "        with lzma.open(model_history_fn, \"wb\") as m_file:\n",
    "            pickle.dump(model_history, m_file)\n",
    "\n",
    "    return model_history, ret_model\n"
   ]
  },
  {
   "cell_type": "code",
   "execution_count": null,
   "metadata": {},
   "outputs": [],
   "source": [
    "train_ds, test_ds = get_dataset('cifar10')\n",
    "view_image(train_ds)"
   ]
  },
  {
   "cell_type": "code",
   "execution_count": null,
   "metadata": {},
   "outputs": [],
   "source": [
    "relu_lenet5_model = build_lenet_5(activation_f='relu')\n",
    "relu_lenet5_model_history, relu_lenet5_model = train_model(model_name='cifar_10-relu_lenet_5', model=relu_lenet5_model, train=train_ds, test=test_ds)"
   ]
  },
  {
   "cell_type": "code",
   "execution_count": null,
   "metadata": {},
   "outputs": [],
   "source": [
    "tanh_lenet5_model = build_lenet_5(activation_f='tanh')\n",
    "tanh_lenet5_model_history, tanh_lenet5_model = train_model(model_name='cifar_10-than_lenet_5', model=tanh_lenet5_model, train=train_ds, test=test_ds)"
   ]
  },
  {
   "cell_type": "code",
   "execution_count": null,
   "metadata": {},
   "outputs": [],
   "source": [
    "NUM_CLASSES = 100\n",
    "train_ds, test_ds = get_dataset('cifar100')"
   ]
  },
  {
   "cell_type": "code",
   "execution_count": null,
   "metadata": {},
   "outputs": [],
   "source": [
    "relu_cifar_100_lenet5_model = build_lenet_5(activation_f='relu')\n",
    "relu_cifar_100_lenet5_model_history, relu_cifar_100_lenet5_model = train_model(model_name='cifar_100-relu_lenet_5', model=relu_cifar_100_lenet5_model, train=train_ds, test=test_ds)"
   ]
  },
  {
   "cell_type": "code",
   "execution_count": null,
   "metadata": {},
   "outputs": [],
   "source": [
    "tanh_cifar_100_lenet5_model = build_lenet_5(activation_f='tanh')\n",
    "tanh_cifar_100_lenet5_model_history, tanh_cifar_100_lenet5_model = train_model(model_name='cifar_100-tanh_lenet_5', model=tanh_cifar_100_lenet5_model, train=train_ds, test=test_ds)"
   ]
  }
 ],
 "metadata": {
  "interpreter": {
   "hash": "916dbcbb3f70747c44a77c7bcd40155683ae19c65e1c03b4aa3499c5328201f1"
  },
  "kernelspec": {
   "display_name": "Python 3.8.10 64-bit",
   "language": "python",
   "name": "python3"
  },
  "language_info": {
   "codemirror_mode": {
    "name": "ipython",
    "version": 3
   },
   "file_extension": ".py",
   "mimetype": "text/x-python",
   "name": "python",
   "nbconvert_exporter": "python",
   "pygments_lexer": "ipython3",
   "version": "3.8.10"
  },
  "orig_nbformat": 4
 },
 "nbformat": 4,
 "nbformat_minor": 2
}
