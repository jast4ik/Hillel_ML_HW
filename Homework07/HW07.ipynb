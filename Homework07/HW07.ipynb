{
 "cells": [
  {
   "cell_type": "code",
   "execution_count": 1,
   "id": "d5ce05a2-9ee8-4875-86aa-f7c37150b116",
   "metadata": {},
   "outputs": [],
   "source": [
    "import pandas as pd\n",
    "import matplotlib.pyplot as plt\n",
    "import seaborn as sns\n",
    "import xgboost as xgb\n",
    "from sklearn.model_selection import train_test_split\n",
    "from os.path import isfile\n",
    "import pickle\n",
    "from sklearn.metrics import r2_score\n",
    "from sklearn.model_selection import KFold\n",
    "import re\n",
    "import numpy as np\n",
    "\n",
    "%matplotlib inline\n",
    "\n",
    "sns.set_style(style='white')\n",
    "sns.set_palette(sns.color_palette(\"Dark2\"))"
   ]
  },
  {
   "cell_type": "markdown",
   "id": "502f98cf-b4ea-4563-bff7-21908980a672",
   "metadata": {},
   "source": [
    "# **Анализ данных.**"
   ]
  },
  {
   "cell_type": "code",
   "execution_count": 2,
   "id": "08e521bf-7615-44b1-95ad-9114a6b5478d",
   "metadata": {},
   "outputs": [],
   "source": [
    "def proceed_cat_str(in_cat: pd.Series):\n",
    "    \n",
    "    res_cat = in_cat.map(\n",
    "        lambda x: str.upper(x).strip() if type(x) is str else np.NaN\n",
    "    )\n",
    "\n",
    "    return res_cat"
   ]
  },
  {
   "cell_type": "code",
   "execution_count": 3,
   "id": "bec4a0a0-08ef-45df-9b2a-7e0771064c10",
   "metadata": {},
   "outputs": [],
   "source": [
    "src_train = pd.read_csv('./data/train.csv')\n",
    "src_test = pd.read_csv('./data/test.csv')"
   ]
  },
  {
   "cell_type": "code",
   "execution_count": 4,
   "id": "e7612615-3f14-434e-b8c7-c1afd14e52cb",
   "metadata": {},
   "outputs": [
    {
     "name": "stdout",
     "output_type": "stream",
     "text": [
      "(1309, 12)\n"
     ]
    }
   ],
   "source": [
    "src_df = pd.concat([src_train, src_test], ignore_index=True).reset_index()\n",
    "src_df.drop(['index'], inplace=True, axis=1)\n",
    "print(src_df.shape)"
   ]
  },
  {
   "cell_type": "code",
   "execution_count": 5,
   "id": "c7dd4dc7-4ccf-4595-8f6a-c06f6b84a6e3",
   "metadata": {},
   "outputs": [
    {
     "name": "stdout",
     "output_type": "stream",
     "text": [
      "PassengerId       0\n",
      "Survived        418\n",
      "Pclass            0\n",
      "Name              0\n",
      "Sex               0\n",
      "Age             263\n",
      "SibSp             0\n",
      "Parch             0\n",
      "Ticket            0\n",
      "Fare              1\n",
      "Cabin          1014\n",
      "Embarked          2\n",
      "dtype: int64\n"
     ]
    }
   ],
   "source": [
    "print(src_df.isna().sum())"
   ]
  },
  {
   "cell_type": "markdown",
   "id": "7a611d97-9bfc-4b9d-9043-ebef0d46dbc6",
   "metadata": {},
   "source": [
    "Разберемся с названиями столбцов и что это значит.\n",
    "1. Survived - выжил человек или нет.\n",
    "2. Pclass - класс каюты.\n",
    "3. Name - имя.\n",
    "4. Sex - пол.\n",
    "5. Age - возраст.\n",
    "6. SibSp - количество родственников второго порядка. Муж, жена, братья, сестры.\n",
    "7. Parch - количество родственников первоко порядка. Мать, отец, ребенок.\n",
    "8. Ticket - номер билета.\n",
    "9. Fare - цена билета.\n",
    "10. Cabin - каюта.\n",
    "11. Embarked - порт посадки. C - Cherbourg. Q - Queenstown. S - Southampton."
   ]
  },
  {
   "cell_type": "markdown",
   "id": "921b2c7d-6e9f-4221-b7aa-771c84794ad3",
   "metadata": {},
   "source": [
    "Пол кодируется очевидно."
   ]
  },
  {
   "cell_type": "code",
   "execution_count": 6,
   "id": "9af39275-374d-41aa-ac16-51b08af4b5c2",
   "metadata": {},
   "outputs": [],
   "source": [
    "sex_cat = {'male': 0, 'female': 1}\n",
    "src_df['Sex'] = src_df['Sex'].map(sex_cat).astype('int')"
   ]
  },
  {
   "cell_type": "markdown",
   "id": "728e7a58-c9c1-41c8-9a17-fea884503856",
   "metadata": {},
   "source": [
    "Поскольку одно отсутствуещее значение цены билета принадлежит дядьке без родственников в третьем классе, присвоим ему среднее по третьему классу."
   ]
  },
  {
   "cell_type": "code",
   "execution_count": 7,
   "id": "4bc8789b-93ff-4c95-a158-2e0958d5bffa",
   "metadata": {},
   "outputs": [],
   "source": [
    "src_df['Fare'] = src_df['Fare'].fillna(src_df.groupby(['Pclass']).Fare.median()[3])"
   ]
  },
  {
   "cell_type": "markdown",
   "id": "064a4478-e794-43a8-b489-cbb914c36ccc",
   "metadata": {},
   "source": [
    "Пропущенное значение посадки можно просто нагуглить. Тупо в каком порту эти люди сели."
   ]
  },
  {
   "cell_type": "code",
   "execution_count": 8,
   "id": "372f2cf7-e17a-4c19-af00-0ad456e6aba3",
   "metadata": {},
   "outputs": [],
   "source": [
    "src_df['Embarked'] = src_df['Embarked'].fillna('S')"
   ]
  },
  {
   "cell_type": "code",
   "execution_count": 9,
   "id": "e8ab1421-a6e5-4c5e-9d61-75ff9f753a1b",
   "metadata": {},
   "outputs": [],
   "source": [
    "embarked_cat = dict(enumerate(src_df['Embarked'].astype('category').cat.categories))\n",
    "src_df['Embarked'] = src_df['Embarked'].astype('category').cat.codes"
   ]
  },
  {
   "cell_type": "markdown",
   "id": "bbbf8fcf-21c6-4f4b-a558-3505b702b278",
   "metadata": {},
   "source": [
    "Интересно, что есть нулевые цены билетов. Нужно взглянуть."
   ]
  },
  {
   "cell_type": "code",
   "execution_count": 10,
   "id": "36104278-7ff6-43b2-a2ae-0ab20ce319a2",
   "metadata": {},
   "outputs": [
    {
     "name": "stdout",
     "output_type": "stream",
     "text": [
      "      Pclass  Parch  SibSp\n",
      "1263       1      0      0\n",
      "263        1      0      0\n",
      "822        1      0      0\n",
      "815        1      0      0\n",
      "1157       1      0      0\n",
      "633        1      0      0\n",
      "806        1      0      0\n",
      "277        2      0      0\n",
      "413        2      0      0\n",
      "466        2      0      0\n",
      "481        2      0      0\n",
      "674        2      0      0\n",
      "732        2      0      0\n",
      "179        3      0      0\n",
      "271        3      0      0\n",
      "302        3      0      0\n",
      "597        3      0      0\n"
     ]
    }
   ],
   "source": [
    "zero_fare_idx = src_df.loc[src_df['Fare'] == 0].index\n",
    "print(src_df.loc[src_df['Fare'] == 0][['Pclass', 'Parch', 'SibSp']].sort_values(by=['Pclass']))"
   ]
  },
  {
   "cell_type": "markdown",
   "id": "05b7619d-321f-4a30-9ab8-3f11a8969f74",
   "metadata": {},
   "source": [
    "Похоже, что это кто-то из гостей или команды, или что-то вроде. Поставлю среднее."
   ]
  },
  {
   "cell_type": "code",
   "execution_count": 11,
   "id": "aecea87f-2c1f-44e9-af55-55da19184a63",
   "metadata": {},
   "outputs": [],
   "source": [
    "med_fare_1 = src_df.loc[src_df['Fare'] != 0].groupby(['Pclass']).Fare.median()[1]\n",
    "med_fare_2 = src_df.loc[src_df['Fare'] != 0].groupby(['Pclass']).Fare.median()[2]\n",
    "med_fare_3 = src_df.loc[src_df['Fare'] != 0].groupby(['Pclass']).Fare.median()[3]\n",
    "\n",
    "fare_medians = {1: med_fare_1, 2: med_fare_2, 3: med_fare_3}"
   ]
  },
  {
   "cell_type": "code",
   "execution_count": 12,
   "id": "e87f856a-bce3-479f-ac7a-0d946556c8ed",
   "metadata": {},
   "outputs": [],
   "source": [
    "for index in zero_fare_idx:\n",
    "    src_df.loc[index, 'Fare'] = fare_medians[src_df.loc[index, 'Pclass']]"
   ]
  },
  {
   "cell_type": "markdown",
   "id": "6cfecd65-b3d6-4201-9233-c3ea5f9fa3b4",
   "metadata": {},
   "source": [
    "Имена. Тут интересно. <br>\n",
    "    <br>Mr. Обращение к мужчине любого возраста и семейного положения.\n",
    "    <br>Master. Обращение к мальчику до 16 лет.\n",
    "    <br>Mrs. Обращение к женщине, о которой нам точно известно что она замужем или вдова.\n",
    "    <br>Miss. Mlle. Обращение к женщине, о которой нам точно известно что она не замужем.\n",
    "    <br>Ms. Обращение к женщине, семейный статус которой нам не известен.\n",
    "    <br>Rev. Обращение к священослужителю.\n",
    "    <br>Dr. Человек с докторской степенью.\n",
    "    <br>Sir. Lady. Don. Dona. Jonkheer. Countess. Mme. Дворянские титулы или люди \"высокого\" происхождения.\n",
    "    <br>Capt. Col. Major. Офицерские звания.\n",
    "    <br><br>Это может пригодиться для импутации возраста. Дополнительный фактор определения влияния цвета штанов на выживаемость.\n",
    "    "
   ]
  },
  {
   "cell_type": "code",
   "execution_count": 13,
   "id": "9526eaae-1d27-4a47-872a-29ba8d7af56d",
   "metadata": {},
   "outputs": [],
   "source": [
    "def proceed_name(name: str):\n",
    "    if 'MR.' in name:\n",
    "        return 0\n",
    "    elif 'MRS.' in name:\n",
    "        return 1\n",
    "    elif ('MISS.' in name) or ('MLLE.' in name):\n",
    "        return 2\n",
    "    elif 'MASTER.' in name:\n",
    "        return 3\n",
    "    elif 'REV.' in name:\n",
    "        return 4\n",
    "    elif 'MS.' in name:\n",
    "        return 5\n",
    "    elif 'DR.' in name:\n",
    "        return 6\n",
    "    elif ('SIR.' in name) or ('LADY.' in name) or ('DON.' in name) or ('DONA.' in name) or ('JONKHEER.' in name) or ('COUNTESS.' in name) or ('MME.' in name):\n",
    "        return 7\n",
    "    elif ('COL.' in name) or ('MAJOR.' in name) or ('CAPT.' in name):\n",
    "        return 8\n",
    "    else:\n",
    "        return 9"
   ]
  },
  {
   "cell_type": "code",
   "execution_count": 14,
   "id": "f8d4ca41-3113-4f2d-a8a3-37ce1f9aaf46",
   "metadata": {},
   "outputs": [],
   "source": [
    "src_df['Name'] = proceed_cat_str(src_df['Name']).map(proceed_name).astype('int')"
   ]
  },
  {
   "cell_type": "markdown",
   "id": "ac80f05a-1fe9-42d8-a08c-fb4eee5b9122",
   "metadata": {},
   "source": [
    "Из билета, вероятно, тоже можно что-то извлечь. Но я не нашел однозначного алгоритма формирования номера. Поэтому выкину."
   ]
  },
  {
   "cell_type": "markdown",
   "id": "f661589c-467c-47bc-a308-0193eb2f86eb",
   "metadata": {},
   "source": [
    "Каюта. Не бесполезный параметр. Но класс у нас уже есть, а как ТОЧНО определить каюту я не нашел. Можно пойти длинным путем и попробовать намайнить в интернете или поискать некую взаимосвязь между имеющимися данными и каютой. Но в данной конкретной работе я смысла в этом не вижу. Поэтому удалю."
   ]
  },
  {
   "cell_type": "code",
   "execution_count": 15,
   "id": "c8d31b9f-3b4d-4541-897a-79b8a0d7ab62",
   "metadata": {},
   "outputs": [],
   "source": [
    "src_df.drop(['Ticket', 'Cabin'], inplace=True, axis=1)"
   ]
  },
  {
   "cell_type": "code",
   "execution_count": 16,
   "id": "f24df1a1-3c6d-4f5b-b531-617bd2b3c2aa",
   "metadata": {},
   "outputs": [
    {
     "data": {
      "text/html": [
       "<div>\n",
       "<style scoped>\n",
       "    .dataframe tbody tr th:only-of-type {\n",
       "        vertical-align: middle;\n",
       "    }\n",
       "\n",
       "    .dataframe tbody tr th {\n",
       "        vertical-align: top;\n",
       "    }\n",
       "\n",
       "    .dataframe thead th {\n",
       "        text-align: right;\n",
       "    }\n",
       "</style>\n",
       "<table border=\"1\" class=\"dataframe\">\n",
       "  <thead>\n",
       "    <tr style=\"text-align: right;\">\n",
       "      <th></th>\n",
       "      <th>PassengerId</th>\n",
       "      <th>Survived</th>\n",
       "      <th>Pclass</th>\n",
       "      <th>Name</th>\n",
       "      <th>Sex</th>\n",
       "      <th>Age</th>\n",
       "      <th>SibSp</th>\n",
       "      <th>Parch</th>\n",
       "      <th>Fare</th>\n",
       "      <th>Embarked</th>\n",
       "    </tr>\n",
       "  </thead>\n",
       "  <tbody>\n",
       "    <tr>\n",
       "      <th>0</th>\n",
       "      <td>1</td>\n",
       "      <td>0.0</td>\n",
       "      <td>3</td>\n",
       "      <td>0</td>\n",
       "      <td>0</td>\n",
       "      <td>22.0</td>\n",
       "      <td>1</td>\n",
       "      <td>0</td>\n",
       "      <td>7.2500</td>\n",
       "      <td>2</td>\n",
       "    </tr>\n",
       "    <tr>\n",
       "      <th>1</th>\n",
       "      <td>2</td>\n",
       "      <td>1.0</td>\n",
       "      <td>1</td>\n",
       "      <td>1</td>\n",
       "      <td>1</td>\n",
       "      <td>38.0</td>\n",
       "      <td>1</td>\n",
       "      <td>0</td>\n",
       "      <td>71.2833</td>\n",
       "      <td>0</td>\n",
       "    </tr>\n",
       "    <tr>\n",
       "      <th>2</th>\n",
       "      <td>3</td>\n",
       "      <td>1.0</td>\n",
       "      <td>3</td>\n",
       "      <td>2</td>\n",
       "      <td>1</td>\n",
       "      <td>26.0</td>\n",
       "      <td>0</td>\n",
       "      <td>0</td>\n",
       "      <td>7.9250</td>\n",
       "      <td>2</td>\n",
       "    </tr>\n",
       "    <tr>\n",
       "      <th>3</th>\n",
       "      <td>4</td>\n",
       "      <td>1.0</td>\n",
       "      <td>1</td>\n",
       "      <td>1</td>\n",
       "      <td>1</td>\n",
       "      <td>35.0</td>\n",
       "      <td>1</td>\n",
       "      <td>0</td>\n",
       "      <td>53.1000</td>\n",
       "      <td>2</td>\n",
       "    </tr>\n",
       "    <tr>\n",
       "      <th>4</th>\n",
       "      <td>5</td>\n",
       "      <td>0.0</td>\n",
       "      <td>3</td>\n",
       "      <td>0</td>\n",
       "      <td>0</td>\n",
       "      <td>35.0</td>\n",
       "      <td>0</td>\n",
       "      <td>0</td>\n",
       "      <td>8.0500</td>\n",
       "      <td>2</td>\n",
       "    </tr>\n",
       "  </tbody>\n",
       "</table>\n",
       "</div>"
      ],
      "text/plain": [
       "   PassengerId  Survived  Pclass  Name  Sex   Age  SibSp  Parch     Fare  \\\n",
       "0            1       0.0       3     0    0  22.0      1      0   7.2500   \n",
       "1            2       1.0       1     1    1  38.0      1      0  71.2833   \n",
       "2            3       1.0       3     2    1  26.0      0      0   7.9250   \n",
       "3            4       1.0       1     1    1  35.0      1      0  53.1000   \n",
       "4            5       0.0       3     0    0  35.0      0      0   8.0500   \n",
       "\n",
       "   Embarked  \n",
       "0         2  \n",
       "1         0  \n",
       "2         2  \n",
       "3         2  \n",
       "4         2  "
      ]
     },
     "execution_count": 16,
     "metadata": {},
     "output_type": "execute_result"
    }
   ],
   "source": [
    "src_df.head()"
   ]
  },
  {
   "cell_type": "code",
   "execution_count": 17,
   "id": "48923e2c-d5ae-45a5-ba59-f2da8bfb62a0",
   "metadata": {},
   "outputs": [
    {
     "name": "stdout",
     "output_type": "stream",
     "text": [
      "PassengerId      0\n",
      "Survived       418\n",
      "Pclass           0\n",
      "Name             0\n",
      "Sex              0\n",
      "Age            263\n",
      "SibSp            0\n",
      "Parch            0\n",
      "Fare             0\n",
      "Embarked         0\n",
      "dtype: int64\n"
     ]
    }
   ],
   "source": [
    "print(src_df.isna().sum())"
   ]
  },
  {
   "cell_type": "markdown",
   "id": "8458c48f-aa76-40eb-a3f9-68d5af7f3a8b",
   "metadata": {},
   "source": [
    "Осталось импутировать возраст. Буду импутировать средним. "
   ]
  },
  {
   "cell_type": "markdown",
   "id": "ccf7d36f-94fd-4739-b962-ed4baa6dbdab",
   "metadata": {},
   "source": [
    "Посмотрим как выглядит средний возраст по имени и классу. Сюда бы, конечно, еще бы родственников. Но датасет слишком маленький."
   ]
  },
  {
   "cell_type": "code",
   "execution_count": 18,
   "id": "1fabf89f-79a0-49f4-b63d-71d27967724d",
   "metadata": {},
   "outputs": [
    {
     "name": "stdout",
     "output_type": "stream",
     "text": [
      "Name  Pclass\n",
      "0     1         41.450758\n",
      "      2         32.346715\n",
      "      3         28.318910\n",
      "1     1         43.208955\n",
      "      2         33.518519\n",
      "      3         32.326531\n",
      "2     1         30.131148\n",
      "      2         20.717083\n",
      "      3         17.360874\n",
      "3     1          6.984000\n",
      "      2          2.757273\n",
      "      3          6.090000\n",
      "4     2         41.250000\n",
      "5     2         28.000000\n",
      "6     1         45.600000\n",
      "      2         38.500000\n",
      "7     1         38.714286\n",
      "8     1         54.714286\n",
      "Name: Age, dtype: float64\n"
     ]
    }
   ],
   "source": [
    "mean_age_by_name_and_class = src_df.loc[~src_df['Age'].isna()].groupby(['Name', 'Pclass']).mean()['Age']\n",
    "print(mean_age_by_name_and_class)"
   ]
  },
  {
   "cell_type": "markdown",
   "id": "30cfafbc-6b84-4836-b1e4-525346c20c0c",
   "metadata": {},
   "source": [
    "Немного неудобно смотреть, но всё логично. Аристократы и офицеры в первом, ученые в первом-втором, женщины с неизветным статусом и священники во втором, ну и все остальные кому как повезло."
   ]
  },
  {
   "cell_type": "code",
   "execution_count": 19,
   "id": "01411468-c2c4-4ee3-abf3-88284c44651d",
   "metadata": {},
   "outputs": [
    {
     "name": "stdout",
     "output_type": "stream",
     "text": [
      "Int64Index([   5,   17,   19,   26,   28,   29,   31,   32,   36,   42,\n",
      "            ...\n",
      "            1256, 1257, 1271, 1273, 1275, 1299, 1301, 1304, 1307, 1308],\n",
      "           dtype='int64', length=263)\n"
     ]
    }
   ],
   "source": [
    "age_na_idx = src_df.loc[src_df['Age'].isna()].index\n",
    "print(age_na_idx)"
   ]
  },
  {
   "cell_type": "code",
   "execution_count": 20,
   "id": "2cf6b710-979c-4cba-bba7-334d89be4af4",
   "metadata": {},
   "outputs": [
    {
     "name": "stdout",
     "output_type": "stream",
     "text": [
      "5 28.0\n",
      "17 32.0\n",
      "19 32.0\n",
      "26 28.0\n",
      "28 17.0\n",
      "29 28.0\n",
      "31 43.0\n",
      "32 17.0\n",
      "36 28.0\n",
      "42 28.0\n",
      "45 28.0\n",
      "46 28.0\n",
      "47 17.0\n",
      "48 28.0\n",
      "55 41.0\n",
      "64 41.0\n",
      "65 6.0\n",
      "76 28.0\n",
      "77 28.0\n",
      "82 17.0\n",
      "87 28.0\n",
      "95 28.0\n",
      "101 28.0\n",
      "107 28.0\n",
      "109 17.0\n",
      "121 28.0\n",
      "126 28.0\n",
      "128 17.0\n",
      "140 32.0\n",
      "154 28.0\n",
      "158 28.0\n",
      "159 6.0\n",
      "166 43.0\n",
      "168 41.0\n",
      "176 6.0\n",
      "180 17.0\n",
      "181 32.0\n",
      "185 41.0\n",
      "186 32.0\n",
      "196 28.0\n",
      "198 17.0\n",
      "201 28.0\n",
      "214 28.0\n",
      "223 28.0\n",
      "229 17.0\n",
      "235 17.0\n",
      "240 17.0\n",
      "241 17.0\n",
      "250 28.0\n",
      "256 43.0\n",
      "260 28.0\n",
      "264 17.0\n",
      "270 41.0\n",
      "274 17.0\n",
      "277 32.0\n",
      "284 41.0\n",
      "295 41.0\n",
      "298 41.0\n",
      "300 17.0\n",
      "301 28.0\n",
      "303 20.0\n",
      "304 28.0\n",
      "306 30.0\n",
      "324 28.0\n",
      "330 17.0\n",
      "334 43.0\n",
      "335 28.0\n",
      "347 32.0\n",
      "351 41.0\n",
      "354 28.0\n",
      "358 17.0\n",
      "359 17.0\n",
      "364 28.0\n",
      "367 32.0\n",
      "368 17.0\n",
      "375 43.0\n",
      "384 28.0\n",
      "388 28.0\n",
      "409 17.0\n",
      "410 28.0\n",
      "411 28.0\n",
      "413 32.0\n",
      "415 32.0\n",
      "420 28.0\n",
      "425 28.0\n",
      "428 28.0\n",
      "431 32.0\n",
      "444 28.0\n",
      "451 28.0\n",
      "454 28.0\n",
      "457 43.0\n",
      "459 28.0\n",
      "464 28.0\n",
      "466 32.0\n",
      "468 28.0\n",
      "470 28.0\n",
      "475 41.0\n",
      "481 32.0\n",
      "485 17.0\n",
      "490 28.0\n",
      "495 28.0\n",
      "497 28.0\n",
      "502 17.0\n",
      "507 41.0\n",
      "511 28.0\n",
      "517 28.0\n",
      "522 28.0\n",
      "524 28.0\n",
      "527 41.0\n",
      "531 28.0\n",
      "533 32.0\n",
      "538 28.0\n",
      "547 32.0\n",
      "552 28.0\n",
      "557 41.0\n",
      "560 28.0\n",
      "563 28.0\n",
      "564 17.0\n",
      "568 28.0\n",
      "573 17.0\n",
      "578 32.0\n",
      "584 28.0\n",
      "589 28.0\n",
      "593 17.0\n",
      "596 20.0\n",
      "598 28.0\n",
      "601 28.0\n",
      "602 41.0\n",
      "611 28.0\n",
      "612 17.0\n",
      "613 28.0\n",
      "629 28.0\n",
      "633 41.0\n",
      "639 28.0\n",
      "643 28.0\n",
      "648 28.0\n",
      "650 28.0\n",
      "653 17.0\n",
      "656 28.0\n",
      "667 28.0\n",
      "669 43.0\n",
      "674 32.0\n",
      "680 17.0\n",
      "692 28.0\n",
      "697 17.0\n",
      "709 6.0\n",
      "711 41.0\n",
      "718 28.0\n",
      "727 17.0\n",
      "732 32.0\n",
      "738 28.0\n",
      "739 28.0\n",
      "740 41.0\n",
      "760 28.0\n",
      "766 45.0\n",
      "768 28.0\n",
      "773 28.0\n",
      "776 28.0\n",
      "778 28.0\n",
      "783 28.0\n",
      "790 28.0\n",
      "792 17.0\n",
      "793 41.0\n",
      "815 41.0\n",
      "825 28.0\n",
      "826 28.0\n",
      "828 28.0\n",
      "832 28.0\n",
      "837 28.0\n",
      "839 41.0\n",
      "846 28.0\n",
      "849 43.0\n",
      "859 28.0\n",
      "863 17.0\n",
      "868 28.0\n",
      "878 28.0\n",
      "888 17.0\n",
      "901 28.0\n",
      "913 43.0\n",
      "920 28.0\n",
      "924 32.0\n",
      "927 17.0\n",
      "930 28.0\n",
      "932 41.0\n",
      "938 28.0\n",
      "945 32.0\n",
      "949 28.0\n",
      "956 33.0\n",
      "967 28.0\n",
      "974 28.0\n",
      "975 32.0\n",
      "976 28.0\n"
     ]
    },
    {
     "ename": "KeyError",
     "evalue": "3",
     "output_type": "error",
     "traceback": [
      "\u001b[0;31m---------------------------------------------------------------------------\u001b[0m",
      "\u001b[0;31mKeyError\u001b[0m                                  Traceback (most recent call last)",
      "\u001b[0;32m~/.local/lib/python3.8/site-packages/pandas/core/indexes/base.py\u001b[0m in \u001b[0;36mget_loc\u001b[0;34m(self, key, method, tolerance)\u001b[0m\n\u001b[1;32m   3360\u001b[0m             \u001b[0;32mtry\u001b[0m\u001b[0;34m:\u001b[0m\u001b[0;34m\u001b[0m\u001b[0;34m\u001b[0m\u001b[0m\n\u001b[0;32m-> 3361\u001b[0;31m                 \u001b[0;32mreturn\u001b[0m \u001b[0mself\u001b[0m\u001b[0;34m.\u001b[0m\u001b[0m_engine\u001b[0m\u001b[0;34m.\u001b[0m\u001b[0mget_loc\u001b[0m\u001b[0;34m(\u001b[0m\u001b[0mcasted_key\u001b[0m\u001b[0;34m)\u001b[0m\u001b[0;34m\u001b[0m\u001b[0;34m\u001b[0m\u001b[0m\n\u001b[0m\u001b[1;32m   3362\u001b[0m             \u001b[0;32mexcept\u001b[0m \u001b[0mKeyError\u001b[0m \u001b[0;32mas\u001b[0m \u001b[0merr\u001b[0m\u001b[0;34m:\u001b[0m\u001b[0;34m\u001b[0m\u001b[0;34m\u001b[0m\u001b[0m\n",
      "\u001b[0;32m~/.local/lib/python3.8/site-packages/pandas/_libs/index.pyx\u001b[0m in \u001b[0;36mpandas._libs.index.IndexEngine.get_loc\u001b[0;34m()\u001b[0m\n",
      "\u001b[0;32m~/.local/lib/python3.8/site-packages/pandas/_libs/index.pyx\u001b[0m in \u001b[0;36mpandas._libs.index.IndexEngine.get_loc\u001b[0;34m()\u001b[0m\n",
      "\u001b[0;32mpandas/_libs/hashtable_class_helper.pxi\u001b[0m in \u001b[0;36mpandas._libs.hashtable.Int64HashTable.get_item\u001b[0;34m()\u001b[0m\n",
      "\u001b[0;32mpandas/_libs/hashtable_class_helper.pxi\u001b[0m in \u001b[0;36mpandas._libs.hashtable.Int64HashTable.get_item\u001b[0;34m()\u001b[0m\n",
      "\u001b[0;31mKeyError\u001b[0m: 3",
      "\nThe above exception was the direct cause of the following exception:\n",
      "\u001b[0;31mKeyError\u001b[0m                                  Traceback (most recent call last)",
      "\u001b[0;32m/tmp/ipykernel_18752/2142298376.py\u001b[0m in \u001b[0;36m<module>\u001b[0;34m\u001b[0m\n\u001b[1;32m      2\u001b[0m     \u001b[0mname_v\u001b[0m \u001b[0;34m=\u001b[0m \u001b[0mint\u001b[0m\u001b[0;34m(\u001b[0m\u001b[0msrc_df\u001b[0m\u001b[0;34m.\u001b[0m\u001b[0mloc\u001b[0m\u001b[0;34m[\u001b[0m\u001b[0mindex\u001b[0m\u001b[0;34m,\u001b[0m \u001b[0;34m'Name'\u001b[0m\u001b[0;34m]\u001b[0m\u001b[0;34m)\u001b[0m\u001b[0;34m\u001b[0m\u001b[0;34m\u001b[0m\u001b[0m\n\u001b[1;32m      3\u001b[0m     \u001b[0mclass_v\u001b[0m \u001b[0;34m=\u001b[0m \u001b[0mint\u001b[0m\u001b[0;34m(\u001b[0m\u001b[0msrc_df\u001b[0m\u001b[0;34m.\u001b[0m\u001b[0mloc\u001b[0m\u001b[0;34m[\u001b[0m\u001b[0mindex\u001b[0m\u001b[0;34m,\u001b[0m \u001b[0;34m'Pclass'\u001b[0m\u001b[0;34m]\u001b[0m\u001b[0;34m)\u001b[0m\u001b[0;34m\u001b[0m\u001b[0;34m\u001b[0m\u001b[0m\n\u001b[0;32m----> 4\u001b[0;31m     \u001b[0mage_m\u001b[0m \u001b[0;34m=\u001b[0m \u001b[0mnp\u001b[0m\u001b[0;34m.\u001b[0m\u001b[0mint\u001b[0m\u001b[0;34m(\u001b[0m\u001b[0mmean_age_by_name_and_class\u001b[0m\u001b[0;34m[\u001b[0m\u001b[0mname_v\u001b[0m\u001b[0;34m]\u001b[0m\u001b[0;34m[\u001b[0m\u001b[0mclass_v\u001b[0m\u001b[0;34m]\u001b[0m\u001b[0;34m)\u001b[0m\u001b[0;34m\u001b[0m\u001b[0;34m\u001b[0m\u001b[0m\n\u001b[0m\u001b[1;32m      5\u001b[0m     \u001b[0msrc_df\u001b[0m\u001b[0;34m.\u001b[0m\u001b[0mloc\u001b[0m\u001b[0;34m[\u001b[0m\u001b[0mindex\u001b[0m\u001b[0;34m,\u001b[0m \u001b[0;34m'Age'\u001b[0m\u001b[0;34m]\u001b[0m \u001b[0;34m=\u001b[0m \u001b[0mage_m\u001b[0m\u001b[0;34m\u001b[0m\u001b[0;34m\u001b[0m\u001b[0m\n\u001b[1;32m      6\u001b[0m     \u001b[0;31m#print(int(mean_age_by_name_and_class[name_v][class_v]))\u001b[0m\u001b[0;34m\u001b[0m\u001b[0;34m\u001b[0m\u001b[0;34m\u001b[0m\u001b[0m\n",
      "\u001b[0;32m~/.local/lib/python3.8/site-packages/pandas/core/series.py\u001b[0m in \u001b[0;36m__getitem__\u001b[0;34m(self, key)\u001b[0m\n\u001b[1;32m    940\u001b[0m \u001b[0;34m\u001b[0m\u001b[0m\n\u001b[1;32m    941\u001b[0m         \u001b[0;32melif\u001b[0m \u001b[0mkey_is_scalar\u001b[0m\u001b[0;34m:\u001b[0m\u001b[0;34m\u001b[0m\u001b[0;34m\u001b[0m\u001b[0m\n\u001b[0;32m--> 942\u001b[0;31m             \u001b[0;32mreturn\u001b[0m \u001b[0mself\u001b[0m\u001b[0;34m.\u001b[0m\u001b[0m_get_value\u001b[0m\u001b[0;34m(\u001b[0m\u001b[0mkey\u001b[0m\u001b[0;34m)\u001b[0m\u001b[0;34m\u001b[0m\u001b[0;34m\u001b[0m\u001b[0m\n\u001b[0m\u001b[1;32m    943\u001b[0m \u001b[0;34m\u001b[0m\u001b[0m\n\u001b[1;32m    944\u001b[0m         \u001b[0;32mif\u001b[0m \u001b[0mis_hashable\u001b[0m\u001b[0;34m(\u001b[0m\u001b[0mkey\u001b[0m\u001b[0;34m)\u001b[0m\u001b[0;34m:\u001b[0m\u001b[0;34m\u001b[0m\u001b[0;34m\u001b[0m\u001b[0m\n",
      "\u001b[0;32m~/.local/lib/python3.8/site-packages/pandas/core/series.py\u001b[0m in \u001b[0;36m_get_value\u001b[0;34m(self, label, takeable)\u001b[0m\n\u001b[1;32m   1049\u001b[0m \u001b[0;34m\u001b[0m\u001b[0m\n\u001b[1;32m   1050\u001b[0m         \u001b[0;31m# Similar to Index.get_value, but we do not fall back to positional\u001b[0m\u001b[0;34m\u001b[0m\u001b[0;34m\u001b[0m\u001b[0;34m\u001b[0m\u001b[0m\n\u001b[0;32m-> 1051\u001b[0;31m         \u001b[0mloc\u001b[0m \u001b[0;34m=\u001b[0m \u001b[0mself\u001b[0m\u001b[0;34m.\u001b[0m\u001b[0mindex\u001b[0m\u001b[0;34m.\u001b[0m\u001b[0mget_loc\u001b[0m\u001b[0;34m(\u001b[0m\u001b[0mlabel\u001b[0m\u001b[0;34m)\u001b[0m\u001b[0;34m\u001b[0m\u001b[0;34m\u001b[0m\u001b[0m\n\u001b[0m\u001b[1;32m   1052\u001b[0m         \u001b[0;32mreturn\u001b[0m \u001b[0mself\u001b[0m\u001b[0;34m.\u001b[0m\u001b[0mindex\u001b[0m\u001b[0;34m.\u001b[0m\u001b[0m_get_values_for_loc\u001b[0m\u001b[0;34m(\u001b[0m\u001b[0mself\u001b[0m\u001b[0;34m,\u001b[0m \u001b[0mloc\u001b[0m\u001b[0;34m,\u001b[0m \u001b[0mlabel\u001b[0m\u001b[0;34m)\u001b[0m\u001b[0;34m\u001b[0m\u001b[0;34m\u001b[0m\u001b[0m\n\u001b[1;32m   1053\u001b[0m \u001b[0;34m\u001b[0m\u001b[0m\n",
      "\u001b[0;32m~/.local/lib/python3.8/site-packages/pandas/core/indexes/base.py\u001b[0m in \u001b[0;36mget_loc\u001b[0;34m(self, key, method, tolerance)\u001b[0m\n\u001b[1;32m   3361\u001b[0m                 \u001b[0;32mreturn\u001b[0m \u001b[0mself\u001b[0m\u001b[0;34m.\u001b[0m\u001b[0m_engine\u001b[0m\u001b[0;34m.\u001b[0m\u001b[0mget_loc\u001b[0m\u001b[0;34m(\u001b[0m\u001b[0mcasted_key\u001b[0m\u001b[0;34m)\u001b[0m\u001b[0;34m\u001b[0m\u001b[0;34m\u001b[0m\u001b[0m\n\u001b[1;32m   3362\u001b[0m             \u001b[0;32mexcept\u001b[0m \u001b[0mKeyError\u001b[0m \u001b[0;32mas\u001b[0m \u001b[0merr\u001b[0m\u001b[0;34m:\u001b[0m\u001b[0;34m\u001b[0m\u001b[0;34m\u001b[0m\u001b[0m\n\u001b[0;32m-> 3363\u001b[0;31m                 \u001b[0;32mraise\u001b[0m \u001b[0mKeyError\u001b[0m\u001b[0;34m(\u001b[0m\u001b[0mkey\u001b[0m\u001b[0;34m)\u001b[0m \u001b[0;32mfrom\u001b[0m \u001b[0merr\u001b[0m\u001b[0;34m\u001b[0m\u001b[0;34m\u001b[0m\u001b[0m\n\u001b[0m\u001b[1;32m   3364\u001b[0m \u001b[0;34m\u001b[0m\u001b[0m\n\u001b[1;32m   3365\u001b[0m         \u001b[0;32mif\u001b[0m \u001b[0mis_scalar\u001b[0m\u001b[0;34m(\u001b[0m\u001b[0mkey\u001b[0m\u001b[0;34m)\u001b[0m \u001b[0;32mand\u001b[0m \u001b[0misna\u001b[0m\u001b[0;34m(\u001b[0m\u001b[0mkey\u001b[0m\u001b[0;34m)\u001b[0m \u001b[0;32mand\u001b[0m \u001b[0;32mnot\u001b[0m \u001b[0mself\u001b[0m\u001b[0;34m.\u001b[0m\u001b[0mhasnans\u001b[0m\u001b[0;34m:\u001b[0m\u001b[0;34m\u001b[0m\u001b[0;34m\u001b[0m\u001b[0m\n",
      "\u001b[0;31mKeyError\u001b[0m: 3"
     ]
    }
   ],
   "source": [
    "for index in age_na_idx:\n",
    "    name_v = int(src_df.loc[index, 'Name'])\n",
    "    class_v = int(src_df.loc[index, 'Pclass'])\n",
    "    age_m = np.int(mean_age_by_name_and_class[name_v][class_v])\n",
    "    src_df.loc[index, 'Age'] = age_m\n",
    "    #print(int(mean_age_by_name_and_class[name_v][class_v]))\n",
    "    print(index, src_df.loc[index, 'Age'])\n"
   ]
  },
  {
   "cell_type": "code",
   "execution_count": null,
   "id": "a60dcac6-5d02-4343-ba49-ee72e9611bd3",
   "metadata": {},
   "outputs": [],
   "source": []
  }
 ],
 "metadata": {
  "kernelspec": {
   "display_name": "Python 3 (ipykernel)",
   "language": "python",
   "name": "python3"
  },
  "language_info": {
   "codemirror_mode": {
    "name": "ipython",
    "version": 3
   },
   "file_extension": ".py",
   "mimetype": "text/x-python",
   "name": "python",
   "nbconvert_exporter": "python",
   "pygments_lexer": "ipython3",
   "version": "3.8.10"
  }
 },
 "nbformat": 4,
 "nbformat_minor": 5
}
