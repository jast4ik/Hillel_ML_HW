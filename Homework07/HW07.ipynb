{
 "cells": [
  {
   "cell_type": "code",
   "execution_count": 1,
   "id": "d5ce05a2-9ee8-4875-86aa-f7c37150b116",
   "metadata": {},
   "outputs": [],
   "source": [
    "import pandas as pd\n",
    "import matplotlib.pyplot as plt\n",
    "import seaborn as sns\n",
    "import xgboost as xgb\n",
    "from sklearn.model_selection import train_test_split\n",
    "from os.path import isfile\n",
    "import pickle\n",
    "from sklearn.metrics import confusion_matrix\n",
    "import re\n",
    "import numpy as np\n",
    "from scipy.stats import zscore\n",
    "from sklearn.model_selection import RepeatedStratifiedKFold\n",
    "from sklearn.model_selection import GridSearchCV\n",
    "from sklearn.linear_model import LogisticRegression, RidgeClassifier \n",
    "from sklearn.neighbors import KNeighborsClassifier\n",
    "from sklearn.svm import SVC\n",
    "from sklearn.ensemble import GradientBoostingClassifier\n",
    "from sklearn.ensemble import RandomForestClassifier\n",
    "from sklearn.ensemble import BaggingClassifier\n",
    "from sklearn.ensemble import VotingClassifier\n",
    "from sklearn.metrics import accuracy_score\n",
    "\n",
    "%matplotlib inline\n",
    "\n",
    "import warnings\n",
    "warnings.filterwarnings(\"ignore\", category=DeprecationWarning)\n",
    "\n",
    "sns.set_style(style='white')\n",
    "sns.set_palette(sns.color_palette(\"Dark2\"))"
   ]
  },
  {
   "cell_type": "markdown",
   "id": "502f98cf-b4ea-4563-bff7-21908980a672",
   "metadata": {},
   "source": [
    "# **Анализ данных.**"
   ]
  },
  {
   "cell_type": "code",
   "execution_count": 2,
   "id": "08e521bf-7615-44b1-95ad-9114a6b5478d",
   "metadata": {},
   "outputs": [],
   "source": [
    "def proceed_cat_str(in_cat: pd.Series):\n",
    "    \n",
    "    res_cat = in_cat.map(\n",
    "        lambda x: str.upper(x).strip() if type(x) is str else np.NaN\n",
    "    )\n",
    "\n",
    "    return res_cat"
   ]
  },
  {
   "cell_type": "code",
   "execution_count": 3,
   "id": "bec4a0a0-08ef-45df-9b2a-7e0771064c10",
   "metadata": {},
   "outputs": [],
   "source": [
    "src_train = pd.read_csv('./data/train.csv')\n",
    "src_test = pd.read_csv('./data/test.csv')"
   ]
  },
  {
   "cell_type": "code",
   "execution_count": 4,
   "id": "e7612615-3f14-434e-b8c7-c1afd14e52cb",
   "metadata": {},
   "outputs": [
    {
     "name": "stdout",
     "output_type": "stream",
     "text": [
      "(1309, 12)\n"
     ]
    }
   ],
   "source": [
    "src_df = pd.concat([src_train, src_test], ignore_index=True).reset_index()\n",
    "src_df.drop(['index'], inplace=True, axis=1)\n",
    "print(src_df.shape)"
   ]
  },
  {
   "cell_type": "code",
   "execution_count": 5,
   "id": "c7dd4dc7-4ccf-4595-8f6a-c06f6b84a6e3",
   "metadata": {},
   "outputs": [
    {
     "name": "stdout",
     "output_type": "stream",
     "text": [
      "PassengerId       0\n",
      "Survived        418\n",
      "Pclass            0\n",
      "Name              0\n",
      "Sex               0\n",
      "Age             263\n",
      "SibSp             0\n",
      "Parch             0\n",
      "Ticket            0\n",
      "Fare              1\n",
      "Cabin          1014\n",
      "Embarked          2\n",
      "dtype: int64\n"
     ]
    }
   ],
   "source": [
    "print(src_df.isna().sum())"
   ]
  },
  {
   "cell_type": "markdown",
   "id": "7a611d97-9bfc-4b9d-9043-ebef0d46dbc6",
   "metadata": {},
   "source": [
    "Разберемся с названиями столбцов и что это значит.\n",
    "1. Survived - выжил человек или нет.\n",
    "2. Pclass - класс каюты.\n",
    "3. Name - имя.\n",
    "4. Sex - пол.\n",
    "5. Age - возраст.\n",
    "6. SibSp - количество родственников второго порядка. Муж, жена, братья, сестры.\n",
    "7. Parch - количество родственников первоко порядка. Мать, отец, ребенок.\n",
    "8. Ticket - номер билета.\n",
    "9. Fare - цена билета.\n",
    "10. Cabin - каюта.\n",
    "11. Embarked - порт посадки. C - Cherbourg. Q - Queenstown. S - Southampton."
   ]
  },
  {
   "cell_type": "markdown",
   "id": "921b2c7d-6e9f-4221-b7aa-771c84794ad3",
   "metadata": {},
   "source": [
    "Пол кодируется очевидно."
   ]
  },
  {
   "cell_type": "code",
   "execution_count": 6,
   "id": "9af39275-374d-41aa-ac16-51b08af4b5c2",
   "metadata": {},
   "outputs": [],
   "source": [
    "sex_cat = {'male': 0, 'female': 1}\n",
    "src_df['Sex'] = src_df['Sex'].map(sex_cat).astype('int')"
   ]
  },
  {
   "cell_type": "markdown",
   "id": "728e7a58-c9c1-41c8-9a17-fea884503856",
   "metadata": {},
   "source": [
    "Поскольку одно отсутствуещее значение цены билета принадлежит дядьке без родственников в третьем классе, присвоим ему среднее по третьему классу."
   ]
  },
  {
   "cell_type": "code",
   "execution_count": 7,
   "id": "4bc8789b-93ff-4c95-a158-2e0958d5bffa",
   "metadata": {},
   "outputs": [],
   "source": [
    "src_df['Fare'] = src_df['Fare'].fillna(src_df.groupby(['Pclass']).Fare.median()[3])"
   ]
  },
  {
   "cell_type": "markdown",
   "id": "064a4478-e794-43a8-b489-cbb914c36ccc",
   "metadata": {},
   "source": [
    "Пропущенное значение посадки можно просто нагуглить. Тупо в каком порту эти люди сели."
   ]
  },
  {
   "cell_type": "code",
   "execution_count": 8,
   "id": "372f2cf7-e17a-4c19-af00-0ad456e6aba3",
   "metadata": {},
   "outputs": [],
   "source": [
    "src_df['Embarked'] = src_df['Embarked'].fillna('S')"
   ]
  },
  {
   "cell_type": "code",
   "execution_count": 9,
   "id": "e8ab1421-a6e5-4c5e-9d61-75ff9f753a1b",
   "metadata": {},
   "outputs": [],
   "source": [
    "embarked_cat = dict(enumerate(src_df['Embarked'].astype('category').cat.categories))\n",
    "src_df['Embarked'] = src_df['Embarked'].astype('category').cat.codes"
   ]
  },
  {
   "cell_type": "markdown",
   "id": "bbbf8fcf-21c6-4f4b-a558-3505b702b278",
   "metadata": {},
   "source": [
    "Интересно, что есть нулевые цены билетов. Нужно взглянуть."
   ]
  },
  {
   "cell_type": "code",
   "execution_count": 10,
   "id": "36104278-7ff6-43b2-a2ae-0ab20ce319a2",
   "metadata": {},
   "outputs": [
    {
     "name": "stdout",
     "output_type": "stream",
     "text": [
      "      Pclass  Parch  SibSp\n",
      "1263       1      0      0\n",
      "263        1      0      0\n",
      "822        1      0      0\n",
      "815        1      0      0\n",
      "1157       1      0      0\n",
      "633        1      0      0\n",
      "806        1      0      0\n",
      "277        2      0      0\n",
      "413        2      0      0\n",
      "466        2      0      0\n",
      "481        2      0      0\n",
      "674        2      0      0\n",
      "732        2      0      0\n",
      "179        3      0      0\n",
      "271        3      0      0\n",
      "302        3      0      0\n",
      "597        3      0      0\n"
     ]
    }
   ],
   "source": [
    "zero_fare_idx = src_df.loc[src_df['Fare'] == 0].index\n",
    "print(src_df.loc[src_df['Fare'] == 0][['Pclass', 'Parch', 'SibSp']].sort_values(by=['Pclass']))"
   ]
  },
  {
   "cell_type": "markdown",
   "id": "05b7619d-321f-4a30-9ab8-3f11a8969f74",
   "metadata": {},
   "source": [
    "Похоже, что это кто-то из гостей или команды, или что-то вроде. Поставлю среднее."
   ]
  },
  {
   "cell_type": "code",
   "execution_count": 11,
   "id": "aecea87f-2c1f-44e9-af55-55da19184a63",
   "metadata": {},
   "outputs": [],
   "source": [
    "med_fare_1 = src_df.loc[src_df['Fare'] != 0].groupby(['Pclass']).Fare.median()[1]\n",
    "med_fare_2 = src_df.loc[src_df['Fare'] != 0].groupby(['Pclass']).Fare.median()[2]\n",
    "med_fare_3 = src_df.loc[src_df['Fare'] != 0].groupby(['Pclass']).Fare.median()[3]\n",
    "\n",
    "fare_medians = {1: med_fare_1, 2: med_fare_2, 3: med_fare_3}"
   ]
  },
  {
   "cell_type": "code",
   "execution_count": 12,
   "id": "e87f856a-bce3-479f-ac7a-0d946556c8ed",
   "metadata": {},
   "outputs": [],
   "source": [
    "for index in zero_fare_idx:\n",
    "    src_df.loc[index, 'Fare'] = fare_medians[src_df.loc[index, 'Pclass']]"
   ]
  },
  {
   "cell_type": "markdown",
   "id": "6cfecd65-b3d6-4201-9233-c3ea5f9fa3b4",
   "metadata": {},
   "source": [
    "Имена. Тут интересно. <br>\n",
    "    <br>Mr. Обращение к мужчине любого возраста и семейного положения.\n",
    "    <br>Master. Обращение к мальчику до 16 лет.\n",
    "    <br>Mrs. Обращение к женщине, о которой нам точно известно что она замужем или вдова.\n",
    "    <br>Miss. Mlle. Обращение к женщине, о которой нам точно известно что она не замужем.\n",
    "    <br>Ms. Обращение к женщине, семейный статус которой нам не известен.\n",
    "    <br>Rev. Обращение к священослужителю.\n",
    "    <br>Dr. Человек с докторской степенью.\n",
    "    <br>Sir. Lady. Don. Dona. Jonkheer. Countess. Mme. Дворянские титулы или люди \"высокого\" происхождения.\n",
    "    <br>Capt. Col. Major. Офицерские звания.\n",
    "    <br><br>Это может пригодиться для импутации возраста. Дополнительный фактор определения влияния цвета штанов на выживаемость.\n",
    "    "
   ]
  },
  {
   "cell_type": "code",
   "execution_count": 13,
   "id": "9526eaae-1d27-4a47-872a-29ba8d7af56d",
   "metadata": {},
   "outputs": [],
   "source": [
    "def proceed_name(name: str):\n",
    "    if 'MR.' in name:\n",
    "        return 0\n",
    "    elif 'MRS.' in name:\n",
    "        return 1\n",
    "    elif ('MISS.' in name) or ('MLLE.' in name):\n",
    "        return 2\n",
    "    elif 'MASTER.' in name:\n",
    "        return 3\n",
    "    elif 'REV.' in name:\n",
    "        return 4\n",
    "    elif 'MS.' in name:\n",
    "        return 5\n",
    "    elif 'DR.' in name:\n",
    "        return 6\n",
    "    elif ('SIR.' in name) or ('LADY.' in name) or ('DON.' in name) or ('DONA.' in name) or ('JONKHEER.' in name) or ('COUNTESS.' in name) or ('MME.' in name):\n",
    "        return 7\n",
    "    elif ('COL.' in name) or ('MAJOR.' in name) or ('CAPT.' in name):\n",
    "        return 8\n",
    "    else:\n",
    "        return 9"
   ]
  },
  {
   "cell_type": "code",
   "execution_count": 14,
   "id": "f8d4ca41-3113-4f2d-a8a3-37ce1f9aaf46",
   "metadata": {},
   "outputs": [],
   "source": [
    "src_df['Name'] = proceed_cat_str(src_df['Name']).map(proceed_name).astype('int')"
   ]
  },
  {
   "cell_type": "markdown",
   "id": "ac80f05a-1fe9-42d8-a08c-fb4eee5b9122",
   "metadata": {},
   "source": [
    "Из билета, вероятно, тоже можно что-то извлечь. Но я не нашел однозначного алгоритма формирования номера. Поэтому выкину."
   ]
  },
  {
   "cell_type": "markdown",
   "id": "f661589c-467c-47bc-a308-0193eb2f86eb",
   "metadata": {},
   "source": [
    "Каюта. Не бесполезный параметр. Но класс у нас уже есть, а как ТОЧНО определить каюту я не нашел. Можно пойти длинным путем и попробовать намайнить в интернете или поискать некую взаимосвязь между имеющимися данными и каютой. Но в данной конкретной работе я смысла в этом не вижу. Поэтому удалю."
   ]
  },
  {
   "cell_type": "code",
   "execution_count": 15,
   "id": "c8d31b9f-3b4d-4541-897a-79b8a0d7ab62",
   "metadata": {},
   "outputs": [],
   "source": [
    "src_df.drop(['Ticket', 'Cabin'], inplace=True, axis=1)"
   ]
  },
  {
   "cell_type": "code",
   "execution_count": 16,
   "id": "f24df1a1-3c6d-4f5b-b531-617bd2b3c2aa",
   "metadata": {},
   "outputs": [
    {
     "data": {
      "text/html": [
       "<div>\n",
       "<style scoped>\n",
       "    .dataframe tbody tr th:only-of-type {\n",
       "        vertical-align: middle;\n",
       "    }\n",
       "\n",
       "    .dataframe tbody tr th {\n",
       "        vertical-align: top;\n",
       "    }\n",
       "\n",
       "    .dataframe thead th {\n",
       "        text-align: right;\n",
       "    }\n",
       "</style>\n",
       "<table border=\"1\" class=\"dataframe\">\n",
       "  <thead>\n",
       "    <tr style=\"text-align: right;\">\n",
       "      <th></th>\n",
       "      <th>PassengerId</th>\n",
       "      <th>Survived</th>\n",
       "      <th>Pclass</th>\n",
       "      <th>Name</th>\n",
       "      <th>Sex</th>\n",
       "      <th>Age</th>\n",
       "      <th>SibSp</th>\n",
       "      <th>Parch</th>\n",
       "      <th>Fare</th>\n",
       "      <th>Embarked</th>\n",
       "    </tr>\n",
       "  </thead>\n",
       "  <tbody>\n",
       "    <tr>\n",
       "      <th>0</th>\n",
       "      <td>1</td>\n",
       "      <td>0.0</td>\n",
       "      <td>3</td>\n",
       "      <td>0</td>\n",
       "      <td>0</td>\n",
       "      <td>22.0</td>\n",
       "      <td>1</td>\n",
       "      <td>0</td>\n",
       "      <td>7.2500</td>\n",
       "      <td>2</td>\n",
       "    </tr>\n",
       "    <tr>\n",
       "      <th>1</th>\n",
       "      <td>2</td>\n",
       "      <td>1.0</td>\n",
       "      <td>1</td>\n",
       "      <td>1</td>\n",
       "      <td>1</td>\n",
       "      <td>38.0</td>\n",
       "      <td>1</td>\n",
       "      <td>0</td>\n",
       "      <td>71.2833</td>\n",
       "      <td>0</td>\n",
       "    </tr>\n",
       "    <tr>\n",
       "      <th>2</th>\n",
       "      <td>3</td>\n",
       "      <td>1.0</td>\n",
       "      <td>3</td>\n",
       "      <td>2</td>\n",
       "      <td>1</td>\n",
       "      <td>26.0</td>\n",
       "      <td>0</td>\n",
       "      <td>0</td>\n",
       "      <td>7.9250</td>\n",
       "      <td>2</td>\n",
       "    </tr>\n",
       "    <tr>\n",
       "      <th>3</th>\n",
       "      <td>4</td>\n",
       "      <td>1.0</td>\n",
       "      <td>1</td>\n",
       "      <td>1</td>\n",
       "      <td>1</td>\n",
       "      <td>35.0</td>\n",
       "      <td>1</td>\n",
       "      <td>0</td>\n",
       "      <td>53.1000</td>\n",
       "      <td>2</td>\n",
       "    </tr>\n",
       "    <tr>\n",
       "      <th>4</th>\n",
       "      <td>5</td>\n",
       "      <td>0.0</td>\n",
       "      <td>3</td>\n",
       "      <td>0</td>\n",
       "      <td>0</td>\n",
       "      <td>35.0</td>\n",
       "      <td>0</td>\n",
       "      <td>0</td>\n",
       "      <td>8.0500</td>\n",
       "      <td>2</td>\n",
       "    </tr>\n",
       "  </tbody>\n",
       "</table>\n",
       "</div>"
      ],
      "text/plain": [
       "   PassengerId  Survived  Pclass  Name  Sex   Age  SibSp  Parch     Fare  \\\n",
       "0            1       0.0       3     0    0  22.0      1      0   7.2500   \n",
       "1            2       1.0       1     1    1  38.0      1      0  71.2833   \n",
       "2            3       1.0       3     2    1  26.0      0      0   7.9250   \n",
       "3            4       1.0       1     1    1  35.0      1      0  53.1000   \n",
       "4            5       0.0       3     0    0  35.0      0      0   8.0500   \n",
       "\n",
       "   Embarked  \n",
       "0         2  \n",
       "1         0  \n",
       "2         2  \n",
       "3         2  \n",
       "4         2  "
      ]
     },
     "execution_count": 16,
     "metadata": {},
     "output_type": "execute_result"
    }
   ],
   "source": [
    "src_df.head()"
   ]
  },
  {
   "cell_type": "code",
   "execution_count": 17,
   "id": "48923e2c-d5ae-45a5-ba59-f2da8bfb62a0",
   "metadata": {},
   "outputs": [
    {
     "name": "stdout",
     "output_type": "stream",
     "text": [
      "PassengerId      0\n",
      "Survived       418\n",
      "Pclass           0\n",
      "Name             0\n",
      "Sex              0\n",
      "Age            263\n",
      "SibSp            0\n",
      "Parch            0\n",
      "Fare             0\n",
      "Embarked         0\n",
      "dtype: int64\n"
     ]
    }
   ],
   "source": [
    "print(src_df.isna().sum())"
   ]
  },
  {
   "cell_type": "markdown",
   "id": "8458c48f-aa76-40eb-a3f9-68d5af7f3a8b",
   "metadata": {},
   "source": [
    "Осталось импутировать возраст. Буду импутировать средним. "
   ]
  },
  {
   "cell_type": "markdown",
   "id": "ccf7d36f-94fd-4739-b962-ed4baa6dbdab",
   "metadata": {},
   "source": [
    "Посмотрим как выглядит средний возраст по имени и классу. Сюда бы, конечно, еще бы родственников. Но датасет слишком маленький."
   ]
  },
  {
   "cell_type": "code",
   "execution_count": 18,
   "id": "1fabf89f-79a0-49f4-b63d-71d27967724d",
   "metadata": {},
   "outputs": [
    {
     "name": "stdout",
     "output_type": "stream",
     "text": [
      "Name  Pclass\n",
      "0     1         41.450758\n",
      "      2         32.346715\n",
      "      3         28.318910\n",
      "1     1         43.208955\n",
      "      2         33.518519\n",
      "      3         32.326531\n",
      "2     1         30.131148\n",
      "      2         20.717083\n",
      "      3         17.360874\n",
      "3     1          6.984000\n",
      "      2          2.757273\n",
      "      3          6.090000\n",
      "4     2         41.250000\n",
      "5     2         28.000000\n",
      "6     1         45.600000\n",
      "      2         38.500000\n",
      "7     1         38.714286\n",
      "8     1         54.714286\n",
      "Name: Age, dtype: float64\n"
     ]
    }
   ],
   "source": [
    "mean_age_by_name_and_class = src_df.loc[~src_df['Age'].isna()].groupby(['Name', 'Pclass']).mean()['Age']\n",
    "print(mean_age_by_name_and_class)"
   ]
  },
  {
   "cell_type": "markdown",
   "id": "30cfafbc-6b84-4836-b1e4-525346c20c0c",
   "metadata": {},
   "source": [
    "Немного неудобно смотреть, но всё логично. Аристократы и офицеры в первом, ученые в первом-втором, женщины с неизветным статусом и священники во втором, ну и все остальные кому как повезло. <br>\n",
    "Тут возможен вариант, что не будет соответствующего среднего, из-за малого датасета. Сделаю ещё среднее по полу и классу."
   ]
  },
  {
   "cell_type": "code",
   "execution_count": 19,
   "id": "2694efc8-aa0e-4443-acb5-d9a15279d4ee",
   "metadata": {},
   "outputs": [
    {
     "name": "stdout",
     "output_type": "stream",
     "text": [
      "Sex  Pclass\n",
      "0    1         41.029272\n",
      "     2         30.815380\n",
      "     3         25.962264\n",
      "1    1         37.037594\n",
      "     2         27.499223\n",
      "     3         22.185329\n",
      "Name: Age, dtype: float64\n"
     ]
    }
   ],
   "source": [
    "src_df['Family'] = src_df['SibSp'] + src_df['Parch']\n",
    "mean_age_by_sex_and_class = src_df.loc[~src_df['Age'].isna()].groupby(['Sex', 'Pclass']).mean()['Age']\n",
    "print(mean_age_by_sex_and_class)"
   ]
  },
  {
   "cell_type": "markdown",
   "id": "a950fda9-f8e6-46ec-a2ed-a9a20c62b1db",
   "metadata": {},
   "source": [
    "Причина, по которой я считаю класс и пол важным, очень проста. Уклад жизни в начале двадцатого века был крайне сословен и патриархален. У высших и низжих сословий, мужчин, женщин и детей были четкие шаблоны поведения. "
   ]
  },
  {
   "cell_type": "code",
   "execution_count": 20,
   "id": "01411468-c2c4-4ee3-abf3-88284c44651d",
   "metadata": {},
   "outputs": [],
   "source": [
    "age_na_idx = src_df.loc[src_df['Age'].isna()].index"
   ]
  },
  {
   "cell_type": "code",
   "execution_count": 21,
   "id": "2cf6b710-979c-4cba-bba7-334d89be4af4",
   "metadata": {},
   "outputs": [],
   "source": [
    "for index in age_na_idx:\n",
    "    name_v = int(src_df.loc[index, 'Name'])\n",
    "    class_v = int(src_df.loc[index, 'Pclass'])\n",
    "    sex_v = int(src_df.loc[index, 'Sex'])\n",
    "    if name_v in mean_age_by_name_and_class:\n",
    "        if class_v in mean_age_by_name_and_class[name_v]:\n",
    "            age_m = np.int(mean_age_by_name_and_class[name_v][class_v])\n",
    "            src_df.loc[index, 'Age'] = age_m\n",
    "        else:\n",
    "            age_m = np.int(mean_age_by_sex_and_class[sex_v][class_v])\n",
    "            src_df.loc[index, 'Age'] = age_m\n",
    "    else:\n",
    "        age_m = np.int(mean_age_by_sex_and_class[sex_v][class_v])\n",
    "        src_df.loc[index, 'Age'] = age_m\n",
    "        \n"
   ]
  },
  {
   "cell_type": "code",
   "execution_count": 22,
   "id": "a60dcac6-5d02-4343-ba49-ee72e9611bd3",
   "metadata": {},
   "outputs": [
    {
     "data": {
      "text/html": [
       "<div>\n",
       "<style scoped>\n",
       "    .dataframe tbody tr th:only-of-type {\n",
       "        vertical-align: middle;\n",
       "    }\n",
       "\n",
       "    .dataframe tbody tr th {\n",
       "        vertical-align: top;\n",
       "    }\n",
       "\n",
       "    .dataframe thead th {\n",
       "        text-align: right;\n",
       "    }\n",
       "</style>\n",
       "<table border=\"1\" class=\"dataframe\">\n",
       "  <thead>\n",
       "    <tr style=\"text-align: right;\">\n",
       "      <th></th>\n",
       "      <th>PassengerId</th>\n",
       "      <th>Survived</th>\n",
       "      <th>Pclass</th>\n",
       "      <th>Name</th>\n",
       "      <th>Sex</th>\n",
       "      <th>Age</th>\n",
       "      <th>SibSp</th>\n",
       "      <th>Parch</th>\n",
       "      <th>Fare</th>\n",
       "      <th>Embarked</th>\n",
       "      <th>Family</th>\n",
       "    </tr>\n",
       "  </thead>\n",
       "  <tbody>\n",
       "    <tr>\n",
       "      <th>5</th>\n",
       "      <td>6</td>\n",
       "      <td>0.0</td>\n",
       "      <td>3</td>\n",
       "      <td>0</td>\n",
       "      <td>0</td>\n",
       "      <td>28.0</td>\n",
       "      <td>0</td>\n",
       "      <td>0</td>\n",
       "      <td>8.4583</td>\n",
       "      <td>1</td>\n",
       "      <td>0</td>\n",
       "    </tr>\n",
       "    <tr>\n",
       "      <th>17</th>\n",
       "      <td>18</td>\n",
       "      <td>1.0</td>\n",
       "      <td>2</td>\n",
       "      <td>0</td>\n",
       "      <td>0</td>\n",
       "      <td>32.0</td>\n",
       "      <td>0</td>\n",
       "      <td>0</td>\n",
       "      <td>13.0000</td>\n",
       "      <td>2</td>\n",
       "      <td>0</td>\n",
       "    </tr>\n",
       "    <tr>\n",
       "      <th>19</th>\n",
       "      <td>20</td>\n",
       "      <td>1.0</td>\n",
       "      <td>3</td>\n",
       "      <td>1</td>\n",
       "      <td>1</td>\n",
       "      <td>32.0</td>\n",
       "      <td>0</td>\n",
       "      <td>0</td>\n",
       "      <td>7.2250</td>\n",
       "      <td>0</td>\n",
       "      <td>0</td>\n",
       "    </tr>\n",
       "    <tr>\n",
       "      <th>26</th>\n",
       "      <td>27</td>\n",
       "      <td>0.0</td>\n",
       "      <td>3</td>\n",
       "      <td>0</td>\n",
       "      <td>0</td>\n",
       "      <td>28.0</td>\n",
       "      <td>0</td>\n",
       "      <td>0</td>\n",
       "      <td>7.2250</td>\n",
       "      <td>0</td>\n",
       "      <td>0</td>\n",
       "    </tr>\n",
       "    <tr>\n",
       "      <th>28</th>\n",
       "      <td>29</td>\n",
       "      <td>1.0</td>\n",
       "      <td>3</td>\n",
       "      <td>2</td>\n",
       "      <td>1</td>\n",
       "      <td>17.0</td>\n",
       "      <td>0</td>\n",
       "      <td>0</td>\n",
       "      <td>7.8792</td>\n",
       "      <td>1</td>\n",
       "      <td>0</td>\n",
       "    </tr>\n",
       "  </tbody>\n",
       "</table>\n",
       "</div>"
      ],
      "text/plain": [
       "    PassengerId  Survived  Pclass  Name  Sex   Age  SibSp  Parch     Fare  \\\n",
       "5             6       0.0       3     0    0  28.0      0      0   8.4583   \n",
       "17           18       1.0       2     0    0  32.0      0      0  13.0000   \n",
       "19           20       1.0       3     1    1  32.0      0      0   7.2250   \n",
       "26           27       0.0       3     0    0  28.0      0      0   7.2250   \n",
       "28           29       1.0       3     2    1  17.0      0      0   7.8792   \n",
       "\n",
       "    Embarked  Family  \n",
       "5          1       0  \n",
       "17         2       0  \n",
       "19         0       0  \n",
       "26         0       0  \n",
       "28         1       0  "
      ]
     },
     "execution_count": 22,
     "metadata": {},
     "output_type": "execute_result"
    }
   ],
   "source": [
    "src_df.iloc[age_na_idx].head()"
   ]
  },
  {
   "cell_type": "code",
   "execution_count": 23,
   "id": "be923cfc-9af1-49ef-89f6-800fe7cd6d93",
   "metadata": {},
   "outputs": [
    {
     "name": "stdout",
     "output_type": "stream",
     "text": [
      "PassengerId      0\n",
      "Survived       418\n",
      "Pclass           0\n",
      "Name             0\n",
      "Sex              0\n",
      "Age              0\n",
      "SibSp            0\n",
      "Parch            0\n",
      "Fare             0\n",
      "Embarked         0\n",
      "Family           0\n",
      "dtype: int64\n"
     ]
    }
   ],
   "source": [
    "print(src_df.isna().sum())"
   ]
  },
  {
   "cell_type": "markdown",
   "id": "a65c334d-3a44-440a-a65c-d31788f14f5b",
   "metadata": {},
   "source": [
    "Попробую посмотреть на взаимосвязь каждого из параметров на выживание."
   ]
  },
  {
   "cell_type": "code",
   "execution_count": 24,
   "id": "8c611bde-396e-45a1-a9d9-293264e3acaf",
   "metadata": {},
   "outputs": [
    {
     "data": {
      "image/png": "[encoded data removed]",
      "text/plain": [
       "<Figure size 1440x720 with 12 Axes>"
      ]
     },
     "metadata": {},
     "output_type": "display_data"
    }
   ],
   "source": [
    "hist = src_df.loc[(~src_df['Survived'].isna())].hist(bins=10, figsize=(20, 10), legend=True)"
   ]
  },
  {
   "cell_type": "code",
   "execution_count": 25,
   "id": "0263a752-134b-41fd-9e76-0eb2b8a3b990",
   "metadata": {},
   "outputs": [],
   "source": [
    "src_df_clear = src_df[~src_df.isna()]\n",
    "src_df_clear.drop(['PassengerId'], axis=1, inplace=True)"
   ]
  },
  {
   "cell_type": "code",
   "execution_count": 26,
   "id": "cf41ff10-3abe-4115-9e6e-1940f929e8d2",
   "metadata": {},
   "outputs": [
    {
     "data": {
      "image/png": "[encoded data removed]",
      "text/plain": [
       "<Figure size 1411.2x504 with 4 Axes>"
      ]
     },
     "metadata": {},
     "output_type": "display_data"
    }
   ],
   "source": [
    "a = sns.pairplot(src_df_clear, x_vars=['Pclass', 'Name', 'Sex', 'Fare'], y_vars='Survived', height=7, aspect=0.7, kind='reg')"
   ]
  },
  {
   "cell_type": "code",
   "execution_count": 27,
   "id": "4ca27dd0-ee70-4625-9d28-5d15a57eb338",
   "metadata": {},
   "outputs": [
    {
     "data": {
      "image/png": "[encoded data removed]",
      "text/plain": [
       "<Figure size 1411.2x504 with 4 Axes>"
      ]
     },
     "metadata": {},
     "output_type": "display_data"
    }
   ],
   "source": [
    "a = sns.pairplot(src_df_clear, x_vars=['Age', 'SibSp', 'Parch', 'Family'], y_vars='Survived', height=7, aspect=0.7, kind='reg')"
   ]
  },
  {
   "cell_type": "code",
   "execution_count": 28,
   "id": "5cb964e6-fc23-4ee7-a712-7347ce500be8",
   "metadata": {},
   "outputs": [
    {
     "data": {
      "image/png": "[encoded data removed]",
      "text/plain": [
       "<Figure size 1152x864 with 2 Axes>"
      ]
     },
     "metadata": {},
     "output_type": "display_data"
    }
   ],
   "source": [
    "f, ax = plt.subplots(figsize=(16, 12))\n",
    "a = sns.heatmap(src_df_clear.corr(), annot=True)"
   ]
  },
  {
   "cell_type": "markdown",
   "id": "714746e4-711e-4e8c-ba15-5c22eedff0f5",
   "metadata": {},
   "source": [
    "**Наблюдения**"
   ]
  },
  {
   "cell_type": "markdown",
   "id": "924e3dd6-5c5c-41c8-b76a-3d9a0b6b9f94",
   "metadata": {},
   "source": [
    "Хорошие доверительные интервалы у пола и класса. Чем выше класс, тем выше шанс выжить, женщин выживает больше."
   ]
  },
  {
   "cell_type": "markdown",
   "id": "7631c821-a72c-4cdc-b7bf-c7684dd9560e",
   "metadata": {},
   "source": [
    "Общие закономерности:\n",
    "1. Чем выше возраст, тем меньше шанс.\n",
    "2. Наличие родственников второго порядка снижает шанс, первого-же наоборот - повышает. \n",
    "3. Сегментация родственников важна, поскольку количество родственников как таковое ничего не показвывает.\n",
    "4. Естественные закономерности как цена билета, привелегированность класса имеют те же тенденции, что и класс каюты."
   ]
  },
  {
   "cell_type": "markdown",
   "id": "94d469be-5577-42f1-b541-e744167f6602",
   "metadata": {},
   "source": [
    "Мне не нравятся числовые значения класса. Получается, что числовое значение низкого класса выше чем у высокого."
   ]
  },
  {
   "cell_type": "code",
   "execution_count": 29,
   "id": "ca686063-aaf0-4146-8703-3e6aaa53d957",
   "metadata": {},
   "outputs": [],
   "source": [
    "src_df['Pclass'] = 1 / src_df['Pclass']"
   ]
  },
  {
   "cell_type": "code",
   "execution_count": 30,
   "id": "2740f524-d184-4783-962a-6f2ff648a306",
   "metadata": {},
   "outputs": [
    {
     "data": {
      "text/html": [
       "<div>\n",
       "<style scoped>\n",
       "    .dataframe tbody tr th:only-of-type {\n",
       "        vertical-align: middle;\n",
       "    }\n",
       "\n",
       "    .dataframe tbody tr th {\n",
       "        vertical-align: top;\n",
       "    }\n",
       "\n",
       "    .dataframe thead th {\n",
       "        text-align: right;\n",
       "    }\n",
       "</style>\n",
       "<table border=\"1\" class=\"dataframe\">\n",
       "  <thead>\n",
       "    <tr style=\"text-align: right;\">\n",
       "      <th></th>\n",
       "      <th>PassengerId</th>\n",
       "      <th>Survived</th>\n",
       "      <th>Pclass</th>\n",
       "      <th>Name</th>\n",
       "      <th>Sex</th>\n",
       "      <th>Age</th>\n",
       "      <th>SibSp</th>\n",
       "      <th>Parch</th>\n",
       "      <th>Fare</th>\n",
       "      <th>Embarked</th>\n",
       "      <th>Family</th>\n",
       "    </tr>\n",
       "  </thead>\n",
       "  <tbody>\n",
       "    <tr>\n",
       "      <th>0</th>\n",
       "      <td>1</td>\n",
       "      <td>0.0</td>\n",
       "      <td>0.333333</td>\n",
       "      <td>0</td>\n",
       "      <td>0</td>\n",
       "      <td>22.0</td>\n",
       "      <td>1</td>\n",
       "      <td>0</td>\n",
       "      <td>7.2500</td>\n",
       "      <td>2</td>\n",
       "      <td>1</td>\n",
       "    </tr>\n",
       "    <tr>\n",
       "      <th>1</th>\n",
       "      <td>2</td>\n",
       "      <td>1.0</td>\n",
       "      <td>1.000000</td>\n",
       "      <td>1</td>\n",
       "      <td>1</td>\n",
       "      <td>38.0</td>\n",
       "      <td>1</td>\n",
       "      <td>0</td>\n",
       "      <td>71.2833</td>\n",
       "      <td>0</td>\n",
       "      <td>1</td>\n",
       "    </tr>\n",
       "    <tr>\n",
       "      <th>2</th>\n",
       "      <td>3</td>\n",
       "      <td>1.0</td>\n",
       "      <td>0.333333</td>\n",
       "      <td>2</td>\n",
       "      <td>1</td>\n",
       "      <td>26.0</td>\n",
       "      <td>0</td>\n",
       "      <td>0</td>\n",
       "      <td>7.9250</td>\n",
       "      <td>2</td>\n",
       "      <td>0</td>\n",
       "    </tr>\n",
       "    <tr>\n",
       "      <th>3</th>\n",
       "      <td>4</td>\n",
       "      <td>1.0</td>\n",
       "      <td>1.000000</td>\n",
       "      <td>1</td>\n",
       "      <td>1</td>\n",
       "      <td>35.0</td>\n",
       "      <td>1</td>\n",
       "      <td>0</td>\n",
       "      <td>53.1000</td>\n",
       "      <td>2</td>\n",
       "      <td>1</td>\n",
       "    </tr>\n",
       "    <tr>\n",
       "      <th>4</th>\n",
       "      <td>5</td>\n",
       "      <td>0.0</td>\n",
       "      <td>0.333333</td>\n",
       "      <td>0</td>\n",
       "      <td>0</td>\n",
       "      <td>35.0</td>\n",
       "      <td>0</td>\n",
       "      <td>0</td>\n",
       "      <td>8.0500</td>\n",
       "      <td>2</td>\n",
       "      <td>0</td>\n",
       "    </tr>\n",
       "  </tbody>\n",
       "</table>\n",
       "</div>"
      ],
      "text/plain": [
       "   PassengerId  Survived    Pclass  Name  Sex   Age  SibSp  Parch     Fare  \\\n",
       "0            1       0.0  0.333333     0    0  22.0      1      0   7.2500   \n",
       "1            2       1.0  1.000000     1    1  38.0      1      0  71.2833   \n",
       "2            3       1.0  0.333333     2    1  26.0      0      0   7.9250   \n",
       "3            4       1.0  1.000000     1    1  35.0      1      0  53.1000   \n",
       "4            5       0.0  0.333333     0    0  35.0      0      0   8.0500   \n",
       "\n",
       "   Embarked  Family  \n",
       "0         2       1  \n",
       "1         0       1  \n",
       "2         2       0  \n",
       "3         2       1  \n",
       "4         2       0  "
      ]
     },
     "execution_count": 30,
     "metadata": {},
     "output_type": "execute_result"
    }
   ],
   "source": [
    "src_df.head()"
   ]
  },
  {
   "cell_type": "code",
   "execution_count": 31,
   "id": "d4d086b5-1739-4b25-b214-085d53fb3271",
   "metadata": {},
   "outputs": [
    {
     "data": {
      "image/png": "[encoded data removed]",
      "text/plain": [
       "<Figure size 352.8x504 with 1 Axes>"
      ]
     },
     "metadata": {},
     "output_type": "display_data"
    }
   ],
   "source": [
    "a = sns.pairplot(src_df, x_vars=['Pclass'], y_vars='Survived', height=7, aspect=0.7, kind='reg')"
   ]
  },
  {
   "cell_type": "markdown",
   "id": "59b2bef1-02e1-40de-bc1f-a2f5f62256f0",
   "metadata": {},
   "source": [
    "О! Так мне больше нравится. Сделаю почти то-же самое с возрастом и родственниками второго порядка. <br>\n",
    "Зачем. Я предпологаю, что если зависимость выживания от каждой переменной будет иметь одиаковый характер, так будет лучше для модели. Это гипотиза. Нужно проверить."
   ]
  },
  {
   "cell_type": "code",
   "execution_count": 32,
   "id": "736e987f-83fc-42ad-9ed0-1f594922ad04",
   "metadata": {},
   "outputs": [],
   "source": [
    "src_df['Age'] = 1 / src_df['Age'] - 1\n",
    "src_df['SibSp'] = src_df['SibSp'].max() - src_df['SibSp']"
   ]
  },
  {
   "cell_type": "code",
   "execution_count": 33,
   "id": "73486d19-415a-46d7-8ab4-7d72b513c5fc",
   "metadata": {
    "tags": []
   },
   "outputs": [
    {
     "data": {
      "image/png": "[encoded data removed]",
      "text/plain": [
       "<Figure size 705.6x504 with 2 Axes>"
      ]
     },
     "metadata": {},
     "output_type": "display_data"
    }
   ],
   "source": [
    "a = sns.pairplot(src_df, x_vars=['Age', 'SibSp'], y_vars='Survived', height=7, aspect=0.7, kind='reg')"
   ]
  },
  {
   "cell_type": "code",
   "execution_count": 34,
   "id": "8446e52d-7d9f-4cf0-a96a-7984c6c3dfdf",
   "metadata": {},
   "outputs": [
    {
     "data": {
      "image/png": "[encoded data removed]",
      "text/plain": [
       "<Figure size 1152x864 with 2 Axes>"
      ]
     },
     "metadata": {},
     "output_type": "display_data"
    }
   ],
   "source": [
    "f, ax = plt.subplots(figsize=(16, 12))\n",
    "a = sns.heatmap(src_df.corr(), annot=True)"
   ]
  },
  {
   "cell_type": "markdown",
   "id": "396ddadc-1218-4452-97d3-690c23ca94e0",
   "metadata": {
    "tags": []
   },
   "source": [
    "Попробую стандартизвать данные."
   ]
  },
  {
   "cell_type": "code",
   "execution_count": 35,
   "id": "ee6427d0-b6aa-47c3-a626-c0f24229b9e8",
   "metadata": {},
   "outputs": [],
   "source": [
    "src_df.drop(['PassengerId', 'Family'], inplace=True, axis=1)"
   ]
  },
  {
   "cell_type": "code",
   "execution_count": 36,
   "id": "1216eb41-4583-4f85-8fdb-ba2edf56671f",
   "metadata": {},
   "outputs": [],
   "source": [
    "src_df.loc[:, src_df.columns != 'Survived'] = src_df.loc[:, src_df.columns != 'Survived'].apply(zscore)"
   ]
  },
  {
   "cell_type": "code",
   "execution_count": 37,
   "id": "87f13403-955d-4006-bbcf-af59af5cd2a3",
   "metadata": {},
   "outputs": [
    {
     "data": {
      "text/html": [
       "<div>\n",
       "<style scoped>\n",
       "    .dataframe tbody tr th:only-of-type {\n",
       "        vertical-align: middle;\n",
       "    }\n",
       "\n",
       "    .dataframe tbody tr th {\n",
       "        vertical-align: top;\n",
       "    }\n",
       "\n",
       "    .dataframe thead th {\n",
       "        text-align: right;\n",
       "    }\n",
       "</style>\n",
       "<table border=\"1\" class=\"dataframe\">\n",
       "  <thead>\n",
       "    <tr style=\"text-align: right;\">\n",
       "      <th></th>\n",
       "      <th>Survived</th>\n",
       "      <th>Pclass</th>\n",
       "      <th>Name</th>\n",
       "      <th>Sex</th>\n",
       "      <th>Age</th>\n",
       "      <th>SibSp</th>\n",
       "      <th>Parch</th>\n",
       "      <th>Fare</th>\n",
       "      <th>Embarked</th>\n",
       "    </tr>\n",
       "  </thead>\n",
       "  <tbody>\n",
       "    <tr>\n",
       "      <th>0</th>\n",
       "      <td>0.0</td>\n",
       "      <td>-0.726378</td>\n",
       "      <td>-0.658431</td>\n",
       "      <td>-0.743497</td>\n",
       "      <td>-0.110125</td>\n",
       "      <td>-0.481288</td>\n",
       "      <td>-0.445</td>\n",
       "      <td>-0.511989</td>\n",
       "      <td>0.622279</td>\n",
       "    </tr>\n",
       "    <tr>\n",
       "      <th>1</th>\n",
       "      <td>1.0</td>\n",
       "      <td>1.697659</td>\n",
       "      <td>0.125815</td>\n",
       "      <td>1.344995</td>\n",
       "      <td>-0.190529</td>\n",
       "      <td>-0.481288</td>\n",
       "      <td>-0.445</td>\n",
       "      <td>0.727588</td>\n",
       "      <td>-1.834926</td>\n",
       "    </tr>\n",
       "    <tr>\n",
       "      <th>2</th>\n",
       "      <td>1.0</td>\n",
       "      <td>-0.726378</td>\n",
       "      <td>0.910061</td>\n",
       "      <td>1.344995</td>\n",
       "      <td>-0.139504</td>\n",
       "      <td>0.479087</td>\n",
       "      <td>-0.445</td>\n",
       "      <td>-0.498922</td>\n",
       "      <td>0.622279</td>\n",
       "    </tr>\n",
       "    <tr>\n",
       "      <th>3</th>\n",
       "      <td>1.0</td>\n",
       "      <td>1.697659</td>\n",
       "      <td>0.125815</td>\n",
       "      <td>1.344995</td>\n",
       "      <td>-0.181053</td>\n",
       "      <td>-0.481288</td>\n",
       "      <td>-0.445</td>\n",
       "      <td>0.375590</td>\n",
       "      <td>0.622279</td>\n",
       "    </tr>\n",
       "    <tr>\n",
       "      <th>4</th>\n",
       "      <td>0.0</td>\n",
       "      <td>-0.726378</td>\n",
       "      <td>-0.658431</td>\n",
       "      <td>-0.743497</td>\n",
       "      <td>-0.181053</td>\n",
       "      <td>0.479087</td>\n",
       "      <td>-0.445</td>\n",
       "      <td>-0.496502</td>\n",
       "      <td>0.622279</td>\n",
       "    </tr>\n",
       "  </tbody>\n",
       "</table>\n",
       "</div>"
      ],
      "text/plain": [
       "   Survived    Pclass      Name       Sex       Age     SibSp  Parch  \\\n",
       "0       0.0 -0.726378 -0.658431 -0.743497 -0.110125 -0.481288 -0.445   \n",
       "1       1.0  1.697659  0.125815  1.344995 -0.190529 -0.481288 -0.445   \n",
       "2       1.0 -0.726378  0.910061  1.344995 -0.139504  0.479087 -0.445   \n",
       "3       1.0  1.697659  0.125815  1.344995 -0.181053 -0.481288 -0.445   \n",
       "4       0.0 -0.726378 -0.658431 -0.743497 -0.181053  0.479087 -0.445   \n",
       "\n",
       "       Fare  Embarked  \n",
       "0 -0.511989  0.622279  \n",
       "1  0.727588 -1.834926  \n",
       "2 -0.498922  0.622279  \n",
       "3  0.375590  0.622279  \n",
       "4 -0.496502  0.622279  "
      ]
     },
     "execution_count": 37,
     "metadata": {},
     "output_type": "execute_result"
    }
   ],
   "source": [
    "src_df.head()"
   ]
  },
  {
   "cell_type": "code",
   "execution_count": 38,
   "id": "3995cf5a-77ae-4808-8c8b-1d4f7ae93300",
   "metadata": {},
   "outputs": [
    {
     "name": "stdout",
     "output_type": "stream",
     "text": [
      "Survived    418\n",
      "Pclass        0\n",
      "Name          0\n",
      "Sex           0\n",
      "Age           0\n",
      "SibSp         0\n",
      "Parch         0\n",
      "Fare          0\n",
      "Embarked      0\n",
      "dtype: int64\n"
     ]
    }
   ],
   "source": [
    "print(src_df.isna().sum())"
   ]
  },
  {
   "cell_type": "markdown",
   "id": "77517c92-5ab5-4e1c-982c-e10fd9f74c87",
   "metadata": {},
   "source": [
    "# **Модель.**"
   ]
  },
  {
   "cell_type": "code",
   "execution_count": 39,
   "id": "016c5881-d7f9-4d2f-84e2-ea44f599a7b3",
   "metadata": {},
   "outputs": [],
   "source": [
    "work_df = src_df.loc[~src_df['Survived'].isna()]\n",
    "X = work_df.loc[:, src_df.columns != 'Survived']\n",
    "y = work_df['Survived'].ravel()"
   ]
  },
  {
   "cell_type": "code",
   "execution_count": 40,
   "id": "1c5e80a6-7d09-4d9a-93fc-73542a686ffb",
   "metadata": {},
   "outputs": [],
   "source": [
    "X_train, X_test, y_train, y_test = train_test_split(X, y, test_size=0.2, random_state=42)"
   ]
  },
  {
   "cell_type": "code",
   "execution_count": 41,
   "id": "80af114f-bb6e-4ea9-b602-6b4943b1d236",
   "metadata": {},
   "outputs": [
    {
     "data": {
      "text/html": [
       "<div>\n",
       "<style scoped>\n",
       "    .dataframe tbody tr th:only-of-type {\n",
       "        vertical-align: middle;\n",
       "    }\n",
       "\n",
       "    .dataframe tbody tr th {\n",
       "        vertical-align: top;\n",
       "    }\n",
       "\n",
       "    .dataframe thead th {\n",
       "        text-align: right;\n",
       "    }\n",
       "</style>\n",
       "<table border=\"1\" class=\"dataframe\">\n",
       "  <thead>\n",
       "    <tr style=\"text-align: right;\">\n",
       "      <th></th>\n",
       "      <th>Pclass</th>\n",
       "      <th>Name</th>\n",
       "      <th>Sex</th>\n",
       "      <th>Age</th>\n",
       "      <th>SibSp</th>\n",
       "      <th>Parch</th>\n",
       "      <th>Fare</th>\n",
       "      <th>Embarked</th>\n",
       "    </tr>\n",
       "  </thead>\n",
       "  <tbody>\n",
       "    <tr>\n",
       "      <th>0</th>\n",
       "      <td>-0.726378</td>\n",
       "      <td>-0.658431</td>\n",
       "      <td>-0.743497</td>\n",
       "      <td>-0.110125</td>\n",
       "      <td>-0.481288</td>\n",
       "      <td>-0.445</td>\n",
       "      <td>-0.511989</td>\n",
       "      <td>0.622279</td>\n",
       "    </tr>\n",
       "    <tr>\n",
       "      <th>1</th>\n",
       "      <td>1.697659</td>\n",
       "      <td>0.125815</td>\n",
       "      <td>1.344995</td>\n",
       "      <td>-0.190529</td>\n",
       "      <td>-0.481288</td>\n",
       "      <td>-0.445</td>\n",
       "      <td>0.727588</td>\n",
       "      <td>-1.834926</td>\n",
       "    </tr>\n",
       "    <tr>\n",
       "      <th>2</th>\n",
       "      <td>-0.726378</td>\n",
       "      <td>0.910061</td>\n",
       "      <td>1.344995</td>\n",
       "      <td>-0.139504</td>\n",
       "      <td>0.479087</td>\n",
       "      <td>-0.445</td>\n",
       "      <td>-0.498922</td>\n",
       "      <td>0.622279</td>\n",
       "    </tr>\n",
       "    <tr>\n",
       "      <th>3</th>\n",
       "      <td>1.697659</td>\n",
       "      <td>0.125815</td>\n",
       "      <td>1.344995</td>\n",
       "      <td>-0.181053</td>\n",
       "      <td>-0.481288</td>\n",
       "      <td>-0.445</td>\n",
       "      <td>0.375590</td>\n",
       "      <td>0.622279</td>\n",
       "    </tr>\n",
       "    <tr>\n",
       "      <th>4</th>\n",
       "      <td>-0.726378</td>\n",
       "      <td>-0.658431</td>\n",
       "      <td>-0.743497</td>\n",
       "      <td>-0.181053</td>\n",
       "      <td>0.479087</td>\n",
       "      <td>-0.445</td>\n",
       "      <td>-0.496502</td>\n",
       "      <td>0.622279</td>\n",
       "    </tr>\n",
       "  </tbody>\n",
       "</table>\n",
       "</div>"
      ],
      "text/plain": [
       "     Pclass      Name       Sex       Age     SibSp  Parch      Fare  Embarked\n",
       "0 -0.726378 -0.658431 -0.743497 -0.110125 -0.481288 -0.445 -0.511989  0.622279\n",
       "1  1.697659  0.125815  1.344995 -0.190529 -0.481288 -0.445  0.727588 -1.834926\n",
       "2 -0.726378  0.910061  1.344995 -0.139504  0.479087 -0.445 -0.498922  0.622279\n",
       "3  1.697659  0.125815  1.344995 -0.181053 -0.481288 -0.445  0.375590  0.622279\n",
       "4 -0.726378 -0.658431 -0.743497 -0.181053  0.479087 -0.445 -0.496502  0.622279"
      ]
     },
     "execution_count": 41,
     "metadata": {},
     "output_type": "execute_result"
    }
   ],
   "source": [
    "X.head()"
   ]
  },
  {
   "cell_type": "markdown",
   "id": "c0b20759-ee80-457b-9d11-566d06008976",
   "metadata": {},
   "source": [
    "Предварительные тесты выдали достаточно низкую точность предсказания логистической регрессии. Порядка 80%. Попробую обучение ансамблем. Также попробую подобрать оптисальные гиперпараметры для каждой содели."
   ]
  },
  {
   "cell_type": "markdown",
   "id": "f9f1e052-bfb6-40ce-8cdb-2b3b236999d2",
   "metadata": {},
   "source": [
    "**Logistic Regression**"
   ]
  },
  {
   "cell_type": "code",
   "execution_count": 42,
   "id": "b4f06767-0661-46f8-8c5b-8dacf9f9fbec",
   "metadata": {},
   "outputs": [
    {
     "name": "stdout",
     "output_type": "stream",
     "text": [
      "Best score is 0.8075. ({'C': 1.0, 'penalty': 'l2', 'solver': 'liblinear'})\n"
     ]
    }
   ],
   "source": [
    "lr_result = None\n",
    "\n",
    "if isfile(\"./data/models/model_lr.pkl\"):\n",
    "    with open(\"./data/models/model_lr.pkl\", \"rb\") as m_file:\n",
    "        lr_result = pickle.load(m_file)\n",
    "else:\n",
    "    model_lr = LogisticRegression()\n",
    "    \n",
    "    solvers = ['newton-cg', 'lbfgs', 'liblinear']\n",
    "    penalty = ['l2']\n",
    "    c_values = np.arange(0.5, 100, .5)\n",
    "    lr_params = dict(solver=solvers,penalty=penalty,C=c_values)\n",
    "\n",
    "    cross_val = RepeatedStratifiedKFold(n_splits=10, n_repeats=3, random_state=42)\n",
    "\n",
    "    grid_search = GridSearchCV(estimator=model_lr, param_grid=lr_params, n_jobs=-1, cv=cross_val, scoring='accuracy',error_score=0)\n",
    "\n",
    "    lr_result = grid_search.fit(X_train, y_train)\n",
    "    \n",
    "    with open(\"./data/models/model_lr.pkl\", \"wb\") as m_file:\n",
    "        pickle.dump(lr_result, m_file)\n",
    "\n",
    "print(\"Best score is {:.4f}. ({})\".format(lr_result.best_score_, lr_result.best_params_))"
   ]
  },
  {
   "cell_type": "code",
   "execution_count": 43,
   "id": "14bb062e-0ccf-4476-ade2-3a1617a78bee",
   "metadata": {},
   "outputs": [
    {
     "name": "stdout",
     "output_type": "stream",
     "text": [
      "[[88 17]\n",
      " [21 53]]\n"
     ]
    }
   ],
   "source": [
    "lr_predict = lr_result.best_estimator_.predict(X_test)\n",
    "lr_cm = confusion_matrix(y_test, lr_predict)\n",
    "\n",
    "print(lr_cm)"
   ]
  },
  {
   "cell_type": "markdown",
   "id": "5d2ad1b1-1295-4ad5-965d-c43c4119fd53",
   "metadata": {},
   "source": [
    "**Ridge Classifier**"
   ]
  },
  {
   "cell_type": "code",
   "execution_count": 44,
   "id": "98bd8af1-38cf-444a-9df4-a879ddd6fdae",
   "metadata": {},
   "outputs": [
    {
     "name": "stdout",
     "output_type": "stream",
     "text": [
      "Best score is 0.8019. ({'alpha': 0.001})\n"
     ]
    }
   ],
   "source": [
    "rc_result = None\n",
    "\n",
    "if isfile(\"./data/models/model_rc.pkl\"):\n",
    "    with open(\"./data/models/model_rc.pkl\", \"rb\") as m_file:\n",
    "        rc_result = pickle.load(m_file)\n",
    "else:\n",
    "    model_rc = RidgeClassifier()\n",
    "    \n",
    "    alpha = np.arange(0.001, 1, 0.001)\n",
    "\n",
    "    rc_params = dict(alpha=alpha)\n",
    "    cross_val = RepeatedStratifiedKFold(n_splits=10, n_repeats=3, random_state=42)\n",
    "\n",
    "    grid_search = GridSearchCV(estimator=model_rc, param_grid=rc_params, n_jobs=-1, cv=cross_val, scoring='accuracy',error_score=0)\n",
    "    rc_result = grid_search.fit(X_train, y_train)\n",
    "    \n",
    "    with open(\"./data/models/model_rc.pkl\", \"wb\") as m_file:\n",
    "        pickle.dump(rc_result, m_file)\n",
    "\n",
    "print(\"Best score is {:.4f}. ({})\".format(rc_result.best_score_, rc_result.best_params_))"
   ]
  },
  {
   "cell_type": "code",
   "execution_count": 45,
   "id": "eb4bead8-13fe-4314-a18d-789394a50570",
   "metadata": {},
   "outputs": [
    {
     "name": "stdout",
     "output_type": "stream",
     "text": [
      "[[89 16]\n",
      " [21 53]]\n"
     ]
    }
   ],
   "source": [
    "rc_predict = rc_result.best_estimator_.predict(X_test)\n",
    "rc_cm = confusion_matrix(y_test, rc_predict)\n",
    "\n",
    "print(rc_cm)"
   ]
  },
  {
   "cell_type": "markdown",
   "id": "2a259629-3bfe-4131-8ffb-14cc6a935c05",
   "metadata": {},
   "source": [
    "**K-Nearest Neighbors (KNN)**"
   ]
  },
  {
   "cell_type": "code",
   "execution_count": 46,
   "id": "86ccb142-e935-4a92-938e-3f86d13d9636",
   "metadata": {},
   "outputs": [
    {
     "name": "stdout",
     "output_type": "stream",
     "text": [
      "Best score is 0.8244. ({'metric': 'manhattan', 'n_neighbors': 9, 'weights': 'uniform'})\n"
     ]
    }
   ],
   "source": [
    "knn_result = None\n",
    "\n",
    "if isfile(\"./data/models/model_knn.pkl\"):\n",
    "    with open(\"./data/models/model_knn.pkl\", \"rb\") as m_file:\n",
    "        knn_result = pickle.load(m_file)\n",
    "else:\n",
    "    model_knn = KNeighborsClassifier()\n",
    "    \n",
    "    n_neighbors = range(1, 21, 2)\n",
    "    weights = ['uniform', 'distance']\n",
    "    metric = ['euclidean', 'manhattan', 'minkowski']\n",
    "\n",
    "    knn_params = dict(n_neighbors=n_neighbors,weights=weights,metric=metric)\n",
    "    cross_val = RepeatedStratifiedKFold(n_splits=10, n_repeats=3, random_state=42)\n",
    "\n",
    "    grid_search = GridSearchCV(estimator=model_knn, param_grid=knn_params, n_jobs=-1, cv=cross_val, scoring='accuracy',error_score=0)\n",
    "    knn_result = grid_search.fit(X_train, y_train)\n",
    "    \n",
    "    with open(\"./data/models/model_knn.pkl\", \"wb\") as m_file:\n",
    "        pickle.dump(knn_result, m_file)\n",
    "\n",
    "print(\"Best score is {:.4f}. ({})\".format(knn_result.best_score_, knn_result.best_params_))"
   ]
  },
  {
   "cell_type": "code",
   "execution_count": 47,
   "id": "272b40ad-e43f-4c47-bfda-3c5e4a4885f1",
   "metadata": {},
   "outputs": [
    {
     "name": "stdout",
     "output_type": "stream",
     "text": [
      "[[91 14]\n",
      " [15 59]]\n"
     ]
    }
   ],
   "source": [
    "knn_predict = knn_result.best_estimator_.predict(X_test)\n",
    "knn_cm = confusion_matrix(y_test, knn_predict)\n",
    "\n",
    "print(knn_cm)"
   ]
  },
  {
   "cell_type": "markdown",
   "id": "de6ff351-037d-43c2-98c0-c916566cf3e1",
   "metadata": {},
   "source": [
    "**Random Forest**"
   ]
  },
  {
   "cell_type": "code",
   "execution_count": 48,
   "id": "a217fcb4-a7a1-4340-bb53-c1e562e03c5b",
   "metadata": {},
   "outputs": [
    {
     "name": "stdout",
     "output_type": "stream",
     "text": [
      "Best score is 0.8071. ({'max_features': 'log2', 'n_estimators': 400})\n"
     ]
    }
   ],
   "source": [
    "rf_result = None\n",
    "\n",
    "if isfile(\"./data/models/model_rf.pkl\"):\n",
    "    with open(\"./data/models/model_rf.pkl\", \"rb\") as m_file:\n",
    "        rf_result = pickle.load(m_file)\n",
    "else:\n",
    "    model_rf = RandomForestClassifier()\n",
    "    \n",
    "    n_estimators = np.arange(100, 1000, 50)\n",
    "    max_features = ['sqrt', 'log2']\n",
    "\n",
    "    rf_params = dict(n_estimators=n_estimators,max_features=max_features)\n",
    "    cross_val = RepeatedStratifiedKFold(n_splits=10, n_repeats=3, random_state=42)\n",
    "\n",
    "    grid_search = GridSearchCV(estimator=model_rf, param_grid=rf_params, n_jobs=-1, cv=cross_val, scoring='accuracy',error_score=0)\n",
    "    rf_result = grid_search.fit(X_train, y_train)\n",
    "    \n",
    "    with open(\"./data/models/model_rf.pkl\", \"wb\") as m_file:\n",
    "        pickle.dump(rf_result, m_file)\n",
    "\n",
    "print(\"Best score is {:.4f}. ({})\".format(rf_result.best_score_, rf_result.best_params_))"
   ]
  },
  {
   "cell_type": "code",
   "execution_count": 49,
   "id": "04d5978d-e935-4367-b68a-38fa3ef38cd6",
   "metadata": {},
   "outputs": [
    {
     "name": "stdout",
     "output_type": "stream",
     "text": [
      "[[94 11]\n",
      " [16 58]]\n"
     ]
    }
   ],
   "source": [
    "rf_predict = rf_result.best_estimator_.predict(X_test)\n",
    "rf_cm = confusion_matrix(y_test, rf_predict)\n",
    "\n",
    "print(rf_cm)"
   ]
  },
  {
   "cell_type": "markdown",
   "id": "56b140b5-0ba2-4ada-891c-6e2f68539eea",
   "metadata": {},
   "source": [
    "**Bagged Decision Trees (Bagging)**"
   ]
  },
  {
   "cell_type": "code",
   "execution_count": 50,
   "id": "aaf71c1f-af2b-4754-b073-e3b4d0ea99aa",
   "metadata": {},
   "outputs": [
    {
     "name": "stdout",
     "output_type": "stream",
     "text": [
      "Best score is 0.8033. ({'n_estimators': 350})\n"
     ]
    }
   ],
   "source": [
    "bc_result = None\n",
    "\n",
    "if isfile(\"./data/models/model_bc.pkl\"):\n",
    "    with open(\"./data/models/model_bc.pkl\", \"rb\") as m_file:\n",
    "        bc_result = pickle.load(m_file)\n",
    "else:\n",
    "    model_bc = BaggingClassifier()\n",
    "    \n",
    "    n_estimators = np.concatenate((np.arange(10, 100, 10), np.arange(150, 500, 50), np.arange(600, 1000, 100)), axis=0).flatten()\n",
    "\n",
    "    bc_params = dict(n_estimators=n_estimators)\n",
    "    cross_val = RepeatedStratifiedKFold(n_splits=10, n_repeats=3, random_state=42)\n",
    "\n",
    "    grid_search = GridSearchCV(estimator=model_bc, param_grid=bc_params, n_jobs=-1, cv=cross_val, scoring='accuracy',error_score=0)\n",
    "    bc_result = grid_search.fit(X_train, y_train)\n",
    "    \n",
    "    with open(\"./data/models/model_bc.pkl\", \"wb\") as m_file:\n",
    "        pickle.dump(bc_result, m_file)\n",
    "\n",
    "print(\"Best score is {:.4f}. ({})\".format(bc_result.best_score_, bc_result.best_params_))"
   ]
  },
  {
   "cell_type": "code",
   "execution_count": 51,
   "id": "b157bb39-7294-4563-b799-e1b5bf557a7c",
   "metadata": {},
   "outputs": [
    {
     "name": "stdout",
     "output_type": "stream",
     "text": [
      "[[92 13]\n",
      " [17 57]]\n"
     ]
    }
   ],
   "source": [
    "bc_predict = bc_result.best_estimator_.predict(X_test)\n",
    "bc_cm = confusion_matrix(y_test, bc_predict)\n",
    "\n",
    "print(bc_cm)"
   ]
  },
  {
   "cell_type": "markdown",
   "id": "619786b8-3c8d-4bda-a188-7bf674e0cad0",
   "metadata": {},
   "source": [
    "**Stochastic Gradient Boosting**"
   ]
  },
  {
   "cell_type": "code",
   "execution_count": 52,
   "id": "a53461cb-601c-4495-b90e-2bc2bd04911e",
   "metadata": {},
   "outputs": [
    {
     "name": "stdout",
     "output_type": "stream",
     "text": [
      "Best score is 0.8314. ({'learning_rate': 0.03, 'n_estimators': 600})\n"
     ]
    }
   ],
   "source": [
    "gb_result = None\n",
    "\n",
    "if isfile(\"./data/models/model_gb.pkl\"):\n",
    "    with open(\"./data/models/model_gb.pkl\", \"rb\") as m_file:\n",
    "        gb_result = pickle.load(m_file)\n",
    "else:\n",
    "    model_gb = GradientBoostingClassifier()\n",
    "    \n",
    "    n_estimators = [10, 100, 300, 600, 1000]\n",
    "    learning_rate = [0.1, 0.03, 0.3, 0.5, 0.7, 1.0]\n",
    "\n",
    "    gb_params = dict(learning_rate=learning_rate, n_estimators=n_estimators)\n",
    "    cross_val = RepeatedStratifiedKFold(n_splits=10, n_repeats=3, random_state=42)\n",
    "\n",
    "    grid_search = GridSearchCV(estimator=model_gb, param_grid=gb_params, n_jobs=-1, cv=cross_val, scoring='accuracy',error_score=0)\n",
    "    gb_result = grid_search.fit(X_train, y_train)\n",
    "    \n",
    "    with open(\"./data/models/model_gb.pkl\", \"wb\") as m_file:\n",
    "        pickle.dump(gb_result, m_file)\n",
    "\n",
    "print(\"Best score is {:.4f}. ({})\".format(gb_result.best_score_, gb_result.best_params_))"
   ]
  },
  {
   "cell_type": "code",
   "execution_count": 53,
   "id": "300a5652-aed3-4c5f-9c68-76f199004376",
   "metadata": {},
   "outputs": [
    {
     "name": "stdout",
     "output_type": "stream",
     "text": [
      "[[93 12]\n",
      " [18 56]]\n"
     ]
    }
   ],
   "source": [
    "gb_predict = gb_result.best_estimator_.predict(X_test)\n",
    "gb_cm = confusion_matrix(y_test, gb_predict)\n",
    "\n",
    "print(gb_cm)"
   ]
  },
  {
   "cell_type": "markdown",
   "id": "181388ec-abd8-497d-8d4f-8e751e4fdb12",
   "metadata": {},
   "source": [
    "**Support Vector Machine (SVM)**"
   ]
  },
  {
   "cell_type": "code",
   "execution_count": 54,
   "id": "73944b9b-867e-448b-9ec0-0567e92eeb41",
   "metadata": {},
   "outputs": [
    {
     "name": "stdout",
     "output_type": "stream",
     "text": [
      "Best score is 0.8291. ({'C': 1.5, 'gamma': 'auto', 'kernel': 'rbf'})\n"
     ]
    }
   ],
   "source": [
    "svm_result = None\n",
    "\n",
    "if isfile(\"./data/models/model_svm.pkl\"):\n",
    "    with open(\"./data/models/model_svm.pkl\", \"rb\") as m_file:\n",
    "        svm_result = pickle.load(m_file)\n",
    "else:\n",
    "    model_svm = SVC()\n",
    "    \n",
    "    kernel_p = ['linear', 'poly', 'sigmoid', 'rbf']\n",
    "    C = [0.1, 0.3, 0.7, 1.0, 1.5, 2.0, 3.0]\n",
    "    gamma_p = ['scale', 'auto']\n",
    "\n",
    "    svm_params = dict(kernel=kernel_p, gamma=gamma_p, C=C)\n",
    "    cross_val = RepeatedStratifiedKFold(n_splits=10, n_repeats=3, random_state=42)\n",
    "\n",
    "    grid_search = GridSearchCV(estimator=model_svm, param_grid=svm_params, n_jobs=-1, cv=cross_val, scoring='accuracy',error_score=0)\n",
    "    svm_result = grid_search.fit(X_train, y_train)\n",
    "    \n",
    "    with open(\"./data/models/model_svm.pkl\", \"wb\") as m_file:\n",
    "        pickle.dump(svm_result, m_file)\n",
    "\n",
    "print(\"Best score is {:.4f}. ({})\".format(svm_result.best_score_, svm_result.best_params_))"
   ]
  },
  {
   "cell_type": "code",
   "execution_count": 55,
   "id": "1467aea7-9604-426d-8a52-43fa2bf641ab",
   "metadata": {},
   "outputs": [
    {
     "name": "stdout",
     "output_type": "stream",
     "text": [
      "[[91 14]\n",
      " [17 57]]\n"
     ]
    }
   ],
   "source": [
    "svm_predict = svm_result.best_estimator_.predict(X_test)\n",
    "svm_cm = confusion_matrix(y_test, svm_predict)\n",
    "\n",
    "print(svm_cm)"
   ]
  },
  {
   "cell_type": "markdown",
   "id": "1dbe4646-b5ec-44b9-a60b-aaeeba427ed1",
   "metadata": {},
   "source": [
    "Итак, модели обучены. Попробую сделать ансамбль. "
   ]
  },
  {
   "cell_type": "code",
   "execution_count": 56,
   "id": "2e5b74ff-22f1-473b-9537-5db15be044f4",
   "metadata": {},
   "outputs": [],
   "source": [
    "lr_predict = lr_result.best_estimator_.predict(X_train)\n",
    "rc_predict = rc_result.best_estimator_.predict(X_train)\n",
    "knn_predict = knn_result.best_estimator_.predict(X_train)\n",
    "gb_predict = gb_result.best_estimator_.predict(X_train)\n",
    "svm_predict = svm_result.best_estimator_.predict(X_train)\n",
    "bc_predict = bc_result.best_estimator_.predict(X_train)\n",
    "rf_predict = rf_result.best_estimator_.predict(X_train)\n",
    "\n",
    "predicted_df = pd.DataFrame()\n",
    "predicted_df['Log'] = lr_predict\n",
    "predicted_df['Ridge'] = rc_predict\n",
    "predicted_df['KNN'] = knn_predict\n",
    "predicted_df['GradBoost'] = gb_predict\n",
    "predicted_df['SVC'] = svm_predict\n",
    "predicted_df['Bag'] = bc_predict\n",
    "predicted_df['RandForest'] = rf_predict\n",
    "predicted_df.set_index(X_train.index, inplace=True)"
   ]
  },
  {
   "cell_type": "code",
   "execution_count": 57,
   "id": "476180aa-17dc-4d2a-b64e-ebf08d5154f8",
   "metadata": {},
   "outputs": [
    {
     "data": {
      "text/html": [
       "<div>\n",
       "<style scoped>\n",
       "    .dataframe tbody tr th:only-of-type {\n",
       "        vertical-align: middle;\n",
       "    }\n",
       "\n",
       "    .dataframe tbody tr th {\n",
       "        vertical-align: top;\n",
       "    }\n",
       "\n",
       "    .dataframe thead th {\n",
       "        text-align: right;\n",
       "    }\n",
       "</style>\n",
       "<table border=\"1\" class=\"dataframe\">\n",
       "  <thead>\n",
       "    <tr style=\"text-align: right;\">\n",
       "      <th></th>\n",
       "      <th>Log</th>\n",
       "      <th>Ridge</th>\n",
       "      <th>KNN</th>\n",
       "      <th>GradBoost</th>\n",
       "      <th>SVC</th>\n",
       "      <th>Bag</th>\n",
       "      <th>RandForest</th>\n",
       "    </tr>\n",
       "  </thead>\n",
       "  <tbody>\n",
       "    <tr>\n",
       "      <th>count</th>\n",
       "      <td>712.000000</td>\n",
       "      <td>712.000000</td>\n",
       "      <td>712.000000</td>\n",
       "      <td>712.000000</td>\n",
       "      <td>712.000000</td>\n",
       "      <td>712.000000</td>\n",
       "      <td>712.000000</td>\n",
       "    </tr>\n",
       "    <tr>\n",
       "      <th>mean</th>\n",
       "      <td>0.341292</td>\n",
       "      <td>0.349719</td>\n",
       "      <td>0.330056</td>\n",
       "      <td>0.328652</td>\n",
       "      <td>0.341292</td>\n",
       "      <td>0.365169</td>\n",
       "      <td>0.365169</td>\n",
       "    </tr>\n",
       "    <tr>\n",
       "      <th>std</th>\n",
       "      <td>0.474477</td>\n",
       "      <td>0.477216</td>\n",
       "      <td>0.470564</td>\n",
       "      <td>0.470053</td>\n",
       "      <td>0.474477</td>\n",
       "      <td>0.481816</td>\n",
       "      <td>0.481816</td>\n",
       "    </tr>\n",
       "    <tr>\n",
       "      <th>min</th>\n",
       "      <td>0.000000</td>\n",
       "      <td>0.000000</td>\n",
       "      <td>0.000000</td>\n",
       "      <td>0.000000</td>\n",
       "      <td>0.000000</td>\n",
       "      <td>0.000000</td>\n",
       "      <td>0.000000</td>\n",
       "    </tr>\n",
       "    <tr>\n",
       "      <th>25%</th>\n",
       "      <td>0.000000</td>\n",
       "      <td>0.000000</td>\n",
       "      <td>0.000000</td>\n",
       "      <td>0.000000</td>\n",
       "      <td>0.000000</td>\n",
       "      <td>0.000000</td>\n",
       "      <td>0.000000</td>\n",
       "    </tr>\n",
       "    <tr>\n",
       "      <th>50%</th>\n",
       "      <td>0.000000</td>\n",
       "      <td>0.000000</td>\n",
       "      <td>0.000000</td>\n",
       "      <td>0.000000</td>\n",
       "      <td>0.000000</td>\n",
       "      <td>0.000000</td>\n",
       "      <td>0.000000</td>\n",
       "    </tr>\n",
       "    <tr>\n",
       "      <th>75%</th>\n",
       "      <td>1.000000</td>\n",
       "      <td>1.000000</td>\n",
       "      <td>1.000000</td>\n",
       "      <td>1.000000</td>\n",
       "      <td>1.000000</td>\n",
       "      <td>1.000000</td>\n",
       "      <td>1.000000</td>\n",
       "    </tr>\n",
       "    <tr>\n",
       "      <th>max</th>\n",
       "      <td>1.000000</td>\n",
       "      <td>1.000000</td>\n",
       "      <td>1.000000</td>\n",
       "      <td>1.000000</td>\n",
       "      <td>1.000000</td>\n",
       "      <td>1.000000</td>\n",
       "      <td>1.000000</td>\n",
       "    </tr>\n",
       "  </tbody>\n",
       "</table>\n",
       "</div>"
      ],
      "text/plain": [
       "              Log       Ridge         KNN   GradBoost         SVC         Bag  \\\n",
       "count  712.000000  712.000000  712.000000  712.000000  712.000000  712.000000   \n",
       "mean     0.341292    0.349719    0.330056    0.328652    0.341292    0.365169   \n",
       "std      0.474477    0.477216    0.470564    0.470053    0.474477    0.481816   \n",
       "min      0.000000    0.000000    0.000000    0.000000    0.000000    0.000000   \n",
       "25%      0.000000    0.000000    0.000000    0.000000    0.000000    0.000000   \n",
       "50%      0.000000    0.000000    0.000000    0.000000    0.000000    0.000000   \n",
       "75%      1.000000    1.000000    1.000000    1.000000    1.000000    1.000000   \n",
       "max      1.000000    1.000000    1.000000    1.000000    1.000000    1.000000   \n",
       "\n",
       "       RandForest  \n",
       "count  712.000000  \n",
       "mean     0.365169  \n",
       "std      0.481816  \n",
       "min      0.000000  \n",
       "25%      0.000000  \n",
       "50%      0.000000  \n",
       "75%      1.000000  \n",
       "max      1.000000  "
      ]
     },
     "execution_count": 57,
     "metadata": {},
     "output_type": "execute_result"
    }
   ],
   "source": [
    "predicted_df.describe()"
   ]
  },
  {
   "cell_type": "markdown",
   "id": "d7ab2ca0-9f39-48d0-9781-a16f26181cd8",
   "metadata": {},
   "source": [
    "Попробую использовать VotingClassifier."
   ]
  },
  {
   "cell_type": "code",
   "execution_count": 58,
   "id": "fd757e51-a959-4bc4-890b-1a5772f91d69",
   "metadata": {},
   "outputs": [],
   "source": [
    "log_clf = LogisticRegression(C=1.0, penalty='l2', solver='liblinear', random_state=42)\n",
    "ridge_clf = RidgeClassifier(alpha=0.001, random_state=42)\n",
    "knn_clf = KNeighborsClassifier(metric = 'manhattan', n_neighbors = 9, weights = 'uniform')\n",
    "rnd_forest_clf = RandomForestClassifier(max_features = 'log2', n_estimators = 400, random_state=42)\n",
    "bag_clf = BaggingClassifier(n_estimators = 350, random_state=42)\n",
    "gb_clf = GradientBoostingClassifier(learning_rate = 0.03, n_estimators = 600, random_state=42)\n",
    "svc_clf = SVC(C = 1.5, gamma = 'auto', kernel = 'rbf', random_state=42)"
   ]
  },
  {
   "cell_type": "code",
   "execution_count": 59,
   "id": "8db7f389-f84a-4144-8cba-7d5e37328e33",
   "metadata": {},
   "outputs": [],
   "source": [
    "estimators_list = [\n",
    "    ('lc', log_clf), \n",
    "    ('rc', ridge_clf), \n",
    "    ('knnc', knn_clf), \n",
    "    ('rfc', rnd_forest_clf), \n",
    "    ('bdtc', bag_clf), \n",
    "    ('gbc', gb_clf), \n",
    "    ('svcc', svc_clf)\n",
    "]"
   ]
  },
  {
   "cell_type": "code",
   "execution_count": 60,
   "id": "f93dae74-d222-43a4-a8c6-ef470db5b162",
   "metadata": {},
   "outputs": [
    {
     "name": "stdout",
     "output_type": "stream",
     "text": [
      "[[91 14]\n",
      " [16 58]]\n",
      "Best score is 0.8324\n"
     ]
    }
   ],
   "source": [
    "ensemble_clf = VotingClassifier(estimators=estimators_list, voting='hard', n_jobs=-1, verbose=0)\n",
    "ensemble_clf = ensemble_clf.fit(X_train, y_train)\n",
    "ensemble_predict = ensemble_clf.predict(X_test)\n",
    "ensemble_cm = confusion_matrix(y_test, ensemble_predict)\n",
    "print(ensemble_cm)\n",
    "print(\"Best score is {:.4f}\".format(ensemble_clf.score(X_test, y_test)))"
   ]
  },
  {
   "cell_type": "markdown",
   "id": "0f1dc51e-c044-4ca7-9a8b-066ae87e5ec9",
   "metadata": {},
   "source": [
    "Точность, конечно подросла, но не глобально. Попробую soft voting."
   ]
  },
  {
   "cell_type": "code",
   "execution_count": 61,
   "id": "d53bd821-e0a3-4caa-a6e1-a6a9230eafc6",
   "metadata": {},
   "outputs": [],
   "source": [
    "log_clf = LogisticRegression(C=1.0, penalty='l2', solver='liblinear', random_state=42)\n",
    "knn_clf = KNeighborsClassifier(metric = 'manhattan', n_neighbors = 9, weights = 'uniform')\n",
    "rnd_forest_clf = RandomForestClassifier(max_features = 'log2', n_estimators = 400, random_state=42)\n",
    "bag_clf = BaggingClassifier(n_estimators = 350, random_state=42)\n",
    "gb_clf = GradientBoostingClassifier(learning_rate = 0.03, n_estimators = 600, random_state=42)\n",
    "svc_clf = SVC(C = 1.5, gamma = 'auto', kernel = 'rbf', random_state=42, probability=True)"
   ]
  },
  {
   "cell_type": "code",
   "execution_count": 62,
   "id": "271dad79-bdbc-46fb-9cab-79c5f26b4b2e",
   "metadata": {},
   "outputs": [],
   "source": [
    "estimators_list = [\n",
    "    ('lc', log_clf), \n",
    "    ('knnc', knn_clf), \n",
    "    ('rfc', rnd_forest_clf), \n",
    "    ('bdtc', bag_clf), \n",
    "    ('gbc', gb_clf), \n",
    "    ('svcc', svc_clf)\n",
    "]"
   ]
  },
  {
   "cell_type": "code",
   "execution_count": 63,
   "id": "a876df8a-55fd-46ce-ac9a-e403bd736fc7",
   "metadata": {},
   "outputs": [
    {
     "name": "stdout",
     "output_type": "stream",
     "text": [
      "[[91 14]\n",
      " [16 58]]\n",
      "Best score is 0.8324\n"
     ]
    }
   ],
   "source": [
    "ensemble_clf = VotingClassifier(estimators=estimators_list, voting='soft', n_jobs=-1, verbose=0)\n",
    "ensemble_clf = ensemble_clf.fit(X_train, y_train)\n",
    "ensemble_predict = ensemble_clf.predict(X_test)\n",
    "ensemble_cm = confusion_matrix(y_test, ensemble_predict)\n",
    "print(ensemble_cm)\n",
    "print(\"Best score is {:.4f}\".format(ensemble_clf.score(X_test, y_test)))"
   ]
  },
  {
   "cell_type": "markdown",
   "id": "b6f76380-f046-4622-bf7b-cbf9af826165",
   "metadata": {},
   "source": [
    "Даже упала. Теперь попробую менять веса для моделей."
   ]
  },
  {
   "cell_type": "code",
   "execution_count": 75,
   "id": "01b56e49-c31c-40ce-bf80-27bb261d1576",
   "metadata": {},
   "outputs": [
    {
     "name": "stdout",
     "output_type": "stream",
     "text": [
      "[[96  9]\n",
      " [16 58]]\n",
      "Best score is 0.8603\n"
     ]
    }
   ],
   "source": [
    "ensemble_clf = VotingClassifier(estimators=estimators_list, voting='soft', n_jobs=-1, verbose=0, weights=[1, 3, 3, 4, 0, 1])\n",
    "ensemble_clf = ensemble_clf.fit(X_train, y_train)\n",
    "ensemble_predict = ensemble_clf.predict(X_test)\n",
    "ensemble_cm = confusion_matrix(y_test, ensemble_predict)\n",
    "print(ensemble_cm)\n",
    "print(\"Best score is {:.4f}\".format(ensemble_clf.score(X_test, y_test)))"
   ]
  },
  {
   "cell_type": "markdown",
   "id": "034c363a-194b-4c19-af4e-98d10a75f6a6",
   "metadata": {},
   "source": [
    "Точность выросла, но этот момент нужно исследовать."
   ]
  },
  {
   "cell_type": "markdown",
   "id": "f0e28515-ad4c-443c-9859-8f79228dc9c8",
   "metadata": {},
   "source": [
    "И последнее, предскажу отсутствующие выживания."
   ]
  },
  {
   "cell_type": "code",
   "execution_count": 84,
   "id": "cd93a425-82b6-4acc-a726-9c6608591d62",
   "metadata": {},
   "outputs": [],
   "source": [
    "y_df = pd.read_csv('./data/gender_submission.csv')\n",
    "y = y_df['Survived'].to_numpy()\n",
    "y = y.reshape(-1, 1)\n",
    "#print(y)"
   ]
  },
  {
   "cell_type": "code",
   "execution_count": 90,
   "id": "d5ec6daa-2587-4533-b623-b25117ab167f",
   "metadata": {},
   "outputs": [],
   "source": [
    "X = src_df.loc[src_df['Survived'].isna()]\n",
    "X = X.drop('Survived', axis=1)\n",
    "#print(X.head)"
   ]
  },
  {
   "cell_type": "code",
   "execution_count": 92,
   "id": "fe599bb3-74a5-449e-bf7a-7bcf72fa2e01",
   "metadata": {},
   "outputs": [],
   "source": [
    "ensemble_predict = ensemble_clf.predict(X)"
   ]
  },
  {
   "cell_type": "code",
   "execution_count": 95,
   "id": "aa3d09d9-c6ce-4d52-acaa-17a8bb1dfe3b",
   "metadata": {},
   "outputs": [
    {
     "name": "stdout",
     "output_type": "stream",
     "text": [
      "[[238  28]\n",
      " [ 27 125]]\n",
      "Best score is 0.8603\n"
     ]
    }
   ],
   "source": [
    "ensemble_cm = confusion_matrix(y, ensemble_predict)\n",
    "print(ensemble_cm)\n",
    "print(\"Best score is {:.4f}\".format(ensemble_clf.score(X_test, y_test)))"
   ]
  },
  {
   "cell_type": "markdown",
   "id": "77bb7ca3-0e9a-419c-a790-bc01efe727f5",
   "metadata": {},
   "source": [
    "# **Заключение.**"
   ]
  },
  {
   "cell_type": "markdown",
   "id": "6829c3d2-87f8-4906-a06a-3f81ed3bbeed",
   "metadata": {},
   "source": [
    "Вобще довольно удивительно, что \"предсказывать\" и \"математика\" уживаются в одном предложении."
   ]
  },
  {
   "cell_type": "markdown",
   "id": "430ce67d-4ff0-404b-98ac-8320b8f71986",
   "metadata": {},
   "source": [
    "Интересно, что есть строки, в которых ошибаются все модели из семи. Беглый анализ показал, что это те самые строки, где была сделана импутация возраста. Их не много, но они есть. То есть импутация средним не особо хороший вариант. Но датасет маленький и ни выкинуть эти строки, ни использовать нечто более внятное не получилось."
   ]
  },
  {
   "cell_type": "markdown",
   "id": "eb0ab04d-1a8b-44b2-8f78-d7f9ab01825d",
   "metadata": {},
   "source": [
    "Нужно использовать sklearn.pipeline. Потому что руками очень не удобно. Я хотел бы попробовать одни и те-же столбцы с разной обработкой, но сделать это тяжело. По сути, нужно заново каждый раз датасет готовить."
   ]
  },
  {
   "cell_type": "markdown",
   "id": "17b2e39d-4a56-4c30-9612-ff677e9a087f",
   "metadata": {},
   "source": [
    "Обучение ансамблем работает. Но эту тему еще нужно изучать."
   ]
  },
  {
   "cell_type": "markdown",
   "id": "6d61f0db-0c72-4f41-843f-e994c1ad5312",
   "metadata": {},
   "source": [
    "Интересно, что можно разработать значимый предиктор \"силой мысли\", так сказать. Как это получилось с Name."
   ]
  },
  {
   "cell_type": "markdown",
   "id": "e6a61d03-ec94-4422-a87d-65f0a79cd903",
   "metadata": {},
   "source": [
    "Ещё раз убедился, что навык мышления в ML более значим, чем всё "
   ]
  }
 ],
 "metadata": {
  "kernelspec": {
   "display_name": "Python 3 (ipykernel)",
   "language": "python",
   "name": "python3"
  },
  "language_info": {
   "codemirror_mode": {
    "name": "ipython",
    "version": 3
   },
   "file_extension": ".py",
   "mimetype": "text/x-python",
   "name": "python",
   "nbconvert_exporter": "python",
   "pygments_lexer": "ipython3",
   "version": "3.8.10"
  }
 },
 "nbformat": 4,
 "nbformat_minor": 5
}
