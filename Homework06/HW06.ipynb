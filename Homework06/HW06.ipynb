{
 "cells": [
  {
   "cell_type": "code",
   "execution_count": 1,
   "id": "483cfab8-e298-44fe-ac96-8cce26ddcc7b",
   "metadata": {
    "tags": []
   },
   "outputs": [],
   "source": [
    "from os.path import isfile\n",
    "import pandas as pd\n",
    "import gc\n",
    "import re\n",
    "import numpy as np\n",
    "import scipy.stats\n",
    "from scipy.stats import zscore\n",
    "import matplotlib.pyplot as plt\n",
    "import seaborn as sns\n",
    "import xgboost as xgb\n",
    "from sklearn.model_selection import train_test_split\n",
    "from sklearn.metrics import r2_score\n",
    "import pickle\n",
    "from sklearn.impute import KNNImputer\n",
    "\n",
    "pd.set_option('float_format', '{:.4f}'.format)\n",
    "%matplotlib inline"
   ]
  },
  {
   "cell_type": "code",
   "execution_count": 2,
   "id": "7d410afd-2e09-44a7-bb9e-a70355faa2ee",
   "metadata": {},
   "outputs": [],
   "source": [
    "def_column_order = ['Price', 'Year', 'Mileage', 'City', 'State', 'Make', 'Model']\n",
    "numeric_types = ['int16', 'int32', 'int64', 'float16', 'float32', 'float64']\n",
    "\n",
    "\n",
    "def get_column_order(current_order: list):\n",
    "    return [x for x in def_column_order if x in current_order]\n",
    "\n",
    "\n",
    "def proceed_cat_str(in_cat: pd.Series, trim=-1):\n",
    "    res_cat = in_cat.map(\n",
    "        lambda x: \"\".join(re.findall(\"[a-zA-Z0-9]+\", x)) if type(x) is str else np.NaN\n",
    "    )\n",
    "\n",
    "    res_cat = res_cat.map(\n",
    "        lambda x: str.upper(x) if type(x) is str else np.NaN\n",
    "    )\n",
    "\n",
    "    if trim != -1:\n",
    "        res_cat = res_cat.str[:trim]\n",
    "\n",
    "    return res_cat\n",
    "\n",
    "\n",
    "def concat_cat(src_df: pd.DataFrame, name: str):\n",
    "    res_cat = pd.Series(dtype=str)\n",
    "    res_cat.name = name\n",
    "\n",
    "    for col in src_df:\n",
    "        if res_cat.shape[0] == 0:\n",
    "            res_cat = src_df[col].astype(str)\n",
    "        else:\n",
    "            res_cat = res_cat + src_df[col].astype(str)\n",
    "\n",
    "    return res_cat"
   ]
  },
  {
   "cell_type": "markdown",
   "id": "e1f13a22-1105-4f96-9f58-9f2cf136b2e3",
   "metadata": {
    "tags": []
   },
   "source": [
    "# **Анализ данных.**"
   ]
  },
  {
   "cell_type": "markdown",
   "id": "ed5f05ef-ba22-4672-950e-f859995089c4",
   "metadata": {},
   "source": [
    "Взглянем издалека на числовые данные."
   ]
  },
  {
   "cell_type": "code",
   "execution_count": 3,
   "id": "6e04123e-31ea-4952-b7fa-bc6d60a21d3e",
   "metadata": {},
   "outputs": [
    {
     "name": "stdout",
     "output_type": "stream",
     "text": [
      "            Price        Year      Mileage\n",
      "count 852105.0000 852105.0000  731162.0000\n",
      "mean   20121.2714   2013.2891   52519.6486\n",
      "std    14123.2041      3.4150   42036.4440\n",
      "min        0.0000   1997.0000       5.0000\n",
      "25%    11997.0000   2012.0000   23837.0000\n",
      "50%    17900.0000   2014.0000   40265.0000\n",
      "75%    26398.0000   2016.0000   72228.0000\n",
      "max   499500.0000   2018.0000 2856196.0000\n"
     ]
    }
   ],
   "source": [
    "src_df = pd.read_csv('./data/true_car_listings_prepeared.csv')\n",
    "src_df.drop_duplicates(inplace=True)\n",
    "\n",
    "numeric = src_df.select_dtypes(include=numeric_types)\n",
    "\n",
    "print(numeric.describe())"
   ]
  },
  {
   "cell_type": "markdown",
   "id": "f873177d-4751-46a8-96d3-100c3285608c",
   "metadata": {},
   "source": [
    "Выбросы точно присутствуют. Попробую визуально."
   ]
  },
  {
   "cell_type": "markdown",
   "id": "73926544-9af1-435a-95e1-957bc7657b23",
   "metadata": {},
   "source": [
    "![title](img/06.png)"
   ]
  },
  {
   "cell_type": "markdown",
   "id": "b7531136-edd1-4241-92ce-0a3e6508e5d5",
   "metadata": {},
   "source": [
    "Что и требовалось показать, что называется."
   ]
  },
  {
   "cell_type": "code",
   "execution_count": 4,
   "id": "17017277-f11f-4e3a-ba9a-c86c3761e605",
   "metadata": {
    "tags": []
   },
   "outputs": [
    {
     "name": "stdout",
     "output_type": "stream",
     "text": [
      "            Price        Year      Mileage\n",
      "count 852105.0000 852105.0000  731162.0000\n",
      "mean   20121.2714   2013.2891   52519.6486\n",
      "std    14123.2041      3.4150   42036.4440\n",
      "min        0.0000   1997.0000       5.0000\n",
      "0%         0.0000   1997.0000       5.0000\n",
      "5%         0.0000   2006.0000    6577.0000\n",
      "10%     6550.0000   2008.0000   12126.0000\n",
      "15%     8995.0000   2010.0000   16514.0000\n",
      "20%    10850.0000   2011.0000   20251.0000\n",
      "25%    11997.0000   2012.0000   23837.0000\n",
      "30%    13277.0000   2013.0000   27300.0000\n",
      "35%    14455.0000   2013.0000   30543.0000\n",
      "40%    15500.0000   2014.0000   33685.0000\n",
      "45%    16733.0000   2014.0000   36745.0000\n",
      "50%    17900.0000   2014.0000   40265.0000\n",
      "55%    18990.0000   2014.0000   43982.0000\n",
      "60%    20295.0000   2015.0000   48539.0000\n",
      "65%    21999.0000   2015.0000   54845.0000\n",
      "70%    23998.0000   2015.0000   62988.0000\n",
      "75%    26398.0000   2016.0000   72228.0000\n",
      "80%    28900.0000   2016.0000   82443.0000\n",
      "85%    31843.0000   2016.0000   94358.0000\n",
      "90%    35595.0000   2017.0000  109636.9000\n",
      "95%    42840.8000   2017.0000  134379.7000\n",
      "max   499500.0000   2018.0000 2856196.0000\n"
     ]
    }
   ],
   "source": [
    "print(numeric.describe(percentiles=np.arange(start=0.0, stop=1.00, step=0.05)))"
   ]
  },
  {
   "cell_type": "markdown",
   "id": "e78519f3-c01f-4b9a-a0fe-30cbb4c09fb6",
   "metadata": {},
   "source": [
    "Интересно. А сколько у нас записей до, скажем, 2000-го года?"
   ]
  },
  {
   "cell_type": "code",
   "execution_count": 5,
   "id": "7d28eddf-22b0-4b81-9589-5538fc57518e",
   "metadata": {},
   "outputs": [
    {
     "name": "stdout",
     "output_type": "stream",
     "text": [
      "            Price      Year     Mileage\n",
      "count   4557.0000 4557.0000   3871.0000\n",
      "mean    6905.0266 1998.9928 144933.2304\n",
      "std    10903.3134    1.0571  69101.1093\n",
      "min        0.0000 1997.0000    111.0000\n",
      "25%     2995.0000 1998.0000  98420.5000\n",
      "50%     4680.0000 1999.0000 140723.0000\n",
      "75%     7500.0000 2000.0000 183427.0000\n",
      "max   224995.0000 2000.0000 999999.0000\n"
     ]
    }
   ],
   "source": [
    "print(numeric.where(src_df['Year'] <= 2000).describe())"
   ]
  },
  {
   "cell_type": "markdown",
   "id": "4614775f-5cc5-40c2-88b1-3ec0f97cf843",
   "metadata": {},
   "source": [
    "2010-го?"
   ]
  },
  {
   "cell_type": "code",
   "execution_count": 6,
   "id": "6ae04883-d27b-4ca9-9602-1cdcab5b5984",
   "metadata": {},
   "outputs": [
    {
     "name": "stdout",
     "output_type": "stream",
     "text": [
      "            Price        Year      Mileage\n",
      "count 143274.0000 143274.0000  122931.0000\n",
      "mean   10920.9394   2006.9331  112431.4654\n",
      "std     9615.6580      2.7149   47737.7481\n",
      "min        0.0000   1997.0000       5.0000\n",
      "25%     5999.2500   2006.0000   82909.5000\n",
      "50%     9299.0000   2007.0000  107684.0000\n",
      "75%    13980.0000   2009.0000  136679.5000\n",
      "max   490000.0000   2010.0000 2856196.0000\n"
     ]
    }
   ],
   "source": [
    "print(numeric.where(src_df['Year'] <= 2010).describe())"
   ]
  },
  {
   "cell_type": "markdown",
   "id": "cb539461-3e5c-4ac2-9b07-28dc2bd1da79",
   "metadata": {},
   "source": [
    "Пока только ясно, что древних машин в наборе мало. Попробую оценить выбросы по пробегу."
   ]
  },
  {
   "cell_type": "code",
   "execution_count": 7,
   "id": "9236292f-abeb-493f-aa86-e05867289291",
   "metadata": {},
   "outputs": [
    {
     "name": "stdout",
     "output_type": "stream",
     "text": [
      "           Price      Year      Mileage\n",
      "count    12.0000   12.0000      12.0000\n",
      "mean   8907.3333 2006.5833 1680738.5000\n",
      "std    9008.4631    3.1176  555704.0516\n",
      "min       0.0000 2002.0000 1000000.0000\n",
      "25%    3899.7500 2005.0000 1392331.0000\n",
      "50%    5490.5000 2006.0000 1511505.5000\n",
      "75%   14013.2500 2008.0000 1895310.2500\n",
      "max   31500.0000 2013.0000 2856196.0000\n"
     ]
    }
   ],
   "source": [
    "print(numeric.where(src_df['Mileage'] >= 1000000).describe())"
   ]
  },
  {
   "cell_type": "code",
   "execution_count": 8,
   "id": "06470a89-bea5-4638-9867-4184c3a2387d",
   "metadata": {},
   "outputs": [
    {
     "name": "stdout",
     "output_type": "stream",
     "text": [
      "           Price      Year      Mileage\n",
      "count    47.0000   47.0000      47.0000\n",
      "mean  15533.0851 2007.2766 1066293.6596\n",
      "std   18357.8012    4.8486  476885.9661\n",
      "min       0.0000 1997.0000  527411.0000\n",
      "25%    3449.5000 2004.5000  777427.0000\n",
      "50%    5999.0000 2006.0000  999999.0000\n",
      "75%   25835.0000 2011.0000  999999.5000\n",
      "max   99999.0000 2017.0000 2856196.0000\n"
     ]
    }
   ],
   "source": [
    "print(numeric.where(src_df['Mileage'] >= 500000).describe())"
   ]
  },
  {
   "cell_type": "code",
   "execution_count": 9,
   "id": "d56f97fc-6952-461c-a114-b9d419dee22d",
   "metadata": {},
   "outputs": [
    {
     "name": "stdout",
     "output_type": "stream",
     "text": [
      "           Price      Year      Mileage\n",
      "count  4838.0000 4838.0000    4838.0000\n",
      "mean   7299.2433 2004.5043  241234.6561\n",
      "std    6862.7746    3.6458  100097.1164\n",
      "min       0.0000 1997.0000  200000.0000\n",
      "25%    3498.2500 2002.0000  209619.2500\n",
      "50%    5500.0000 2004.0000  223245.5000\n",
      "75%    9599.7500 2007.0000  246694.0000\n",
      "max   99999.0000 2017.0000 2856196.0000\n"
     ]
    }
   ],
   "source": [
    "print(numeric.where(src_df['Mileage'] >= 200000).describe())"
   ]
  },
  {
   "cell_type": "markdown",
   "id": "f4230b85-62b0-4065-a9a4-c7d72d8bce5a",
   "metadata": {},
   "source": [
    "**Дилема.** Всё было бы понятно, если бы не 100+К значений NaN пробега. Нужно проанализировать какие авто попали в пробег более 200К."
   ]
  },
  {
   "cell_type": "markdown",
   "id": "46421bab-69cf-4def-a57c-6dd7a64ec09d",
   "metadata": {},
   "source": [
    "А сколько моделей есть в наборе до 2004 и нет в после?"
   ]
  },
  {
   "cell_type": "code",
   "execution_count": 10,
   "id": "cbb44d72-d8f9-4e84-a6e6-92339bd02490",
   "metadata": {},
   "outputs": [
    {
     "name": "stdout",
     "output_type": "stream",
     "text": [
      "There is 269 unique models before 2004.\n"
     ]
    }
   ],
   "source": [
    "src_df['Model'] = proceed_cat_str(src_df['Model'])\n",
    "\n",
    "before2004 = src_df.where(src_df['Year'] <= 2004)['Model'].value_counts().keys()\n",
    "after2004 = src_df.where(src_df['Year'] > 2004)['Model'].value_counts().keys()\n",
    "\n",
    "inter = np.setdiff1d(before2004, after2004)\n",
    "print(\"There is {} unique models before 2004.\".format(len(inter)))"
   ]
  },
  {
   "cell_type": "markdown",
   "id": "7d8772fe-bb9e-4c1f-8df8-8549bcd0df9e",
   "metadata": {},
   "source": [
    "И сколько записей входит в это условие?"
   ]
  },
  {
   "cell_type": "code",
   "execution_count": 11,
   "id": "cb3800aa-03bc-44eb-b6f7-a58bfc12d075",
   "metadata": {},
   "outputs": [
    {
     "name": "stdout",
     "output_type": "stream",
     "text": [
      "There is 2765 rows to delete.\n"
     ]
    }
   ],
   "source": [
    "old_model_df = src_df.query('Model in @inter')\n",
    "print(\"There is {} rows to delete.\".format(old_model_df.shape[0]))"
   ]
  },
  {
   "cell_type": "markdown",
   "id": "08844f43-4589-4379-b8cb-13cff14254ab",
   "metadata": {},
   "source": [
    "Итак, попробуем удалить записи, где: <br>\n",
    "1. Уникальные модели до 2004-го года.\n",
    "2. До 2004-го года выпуска.\n",
    "3. Пробег более 200К"
   ]
  },
  {
   "cell_type": "code",
   "execution_count": 12,
   "id": "99a99c87-e5a4-4b9b-bf12-b0dc11fe69ed",
   "metadata": {},
   "outputs": [
    {
     "name": "stdout",
     "output_type": "stream",
     "text": [
      "144512 rows was deleted.\n"
     ]
    }
   ],
   "source": [
    "src_row_c = src_df.shape[0]\n",
    "\n",
    "src_df = src_df.loc[\n",
    "        (~src_df['Model'].isin(old_model_df['Model'])) &\n",
    "        (src_df['Year'] > 2004) &\n",
    "        (src_df['Mileage'] < 200000)\n",
    "]\n",
    "\n",
    "processed_row_c = src_df.shape[0]\n",
    "\n",
    "print(\"{} rows was deleted.\".format(src_row_c - processed_row_c))"
   ]
  },
  {
   "cell_type": "markdown",
   "id": "23e4be87-f1f5-4e92-bd51-e509556737ee",
   "metadata": {},
   "source": [
    "Интересно, а сколько порченых записей осталось."
   ]
  },
  {
   "cell_type": "code",
   "execution_count": 13,
   "id": "64b5126f-33b0-4342-aeb5-8ef26fbd17f2",
   "metadata": {},
   "outputs": [
    {
     "name": "stdout",
     "output_type": "stream",
     "text": [
      "Price          0\n",
      "Year           0\n",
      "Mileage        0\n",
      "City           0\n",
      "State          0\n",
      "Vin            0\n",
      "Make           0\n",
      "Model      64071\n",
      "dtype: int64\n"
     ]
    }
   ],
   "source": [
    "print(src_df.isna().sum())"
   ]
  },
  {
   "cell_type": "markdown",
   "id": "74d2f392-4b31-42dc-a5ba-46827f4223ae",
   "metadata": {},
   "source": [
    "Вот это номер - ушли все порченные значения пробега!"
   ]
  },
  {
   "cell_type": "markdown",
   "id": "5303460d-8b6a-453f-8555-c202db5c9855",
   "metadata": {},
   "source": [
    "**Рассуждение.**"
   ]
  },
  {
   "cell_type": "markdown",
   "id": "2ee583c1-beb3-4a26-80be-566680df46ba",
   "metadata": {},
   "source": [
    "На первый взгляд, то к чему я пришел выглядит не обоснованным. Шутка ли, 140К записей убрать? <br>\n",
    "Но на самом деле, всё логично. \n",
    "1. США автомобильная страна. Автомобили стоят там дешево. Для штатов автомобиль старше 15 лет - металлолом. Или коллекционная модель. Поэтому при заполнении базы для таких авто могли просто пробег не указывать - зачем?\n",
    "2. Автомобили с большим пробегом вполне могут стоить денег - грузовики и коммерческий ресурсный транспорт. И вот вопрос - а он нам в модели нужен? Мы же явно работаем с легковыми автомобилями.\n",
    "3. Рассуждение касательно коллекционных автомобилей то-же, что для коммерческих."
   ]
  },
  {
   "cell_type": "code",
   "execution_count": 14,
   "id": "0ffc6b54-6656-4704-b7ee-3abb144c70fd",
   "metadata": {},
   "outputs": [
    {
     "name": "stdout",
     "output_type": "stream",
     "text": [
      "44210\n"
     ]
    }
   ],
   "source": [
    "print(src_df.loc[src_df['Price'] == 0].shape[0])"
   ]
  },
  {
   "cell_type": "markdown",
   "id": "5442360e-c505-4840-b25e-a1b4f0dd2843",
   "metadata": {},
   "source": [
    "Как видно, нам ещё есть что предсказывать."
   ]
  },
  {
   "cell_type": "markdown",
   "id": "5f9141d0-b838-4d4d-83e4-965ce330edc6",
   "metadata": {},
   "source": [
    "![title](img/09.png)"
   ]
  },
  {
   "cell_type": "markdown",
   "id": "a1f26f3d-1bb0-4599-bf92-d71fe6afef43",
   "metadata": {},
   "source": [
    "Намного более приятная картина."
   ]
  },
  {
   "cell_type": "markdown",
   "id": "08f0b8c8-8b98-4fa0-a018-5d0c3d30e416",
   "metadata": {},
   "source": [
    "Хотя явно видно, что за какую-то модель золотишка отсыпают вне зависимости от пробега. Уж не NaN ли это? Узнаем истину вместе, как говорится."
   ]
  },
  {
   "cell_type": "markdown",
   "id": "a05400f4-0ce6-42fb-87a5-efb8a0184560",
   "metadata": {},
   "source": [
    "# **Категориальные данные.**"
   ]
  },
  {
   "cell_type": "markdown",
   "id": "a5101357-d67f-415c-8d9b-ccc07a21c0f9",
   "metadata": {},
   "source": [
    "В общем случае есть два варианта, закодировать числом или унитарным кодом. Я экспериментировал с унитарным кодом - мне очень не понравилось. Если категорий мало, до десятка, то еще ничего. \n",
    "Но при большом количестве категорий унитарный код создает слишком большую матрицу, что приводит к катострофическому расходу памяти. Поэтому я буду использовать Label encodng. "
   ]
  },
  {
   "cell_type": "code",
   "execution_count": 15,
   "id": "88e02ea4-930f-4887-8b9d-9e24833392c4",
   "metadata": {},
   "outputs": [
    {
     "name": "stdout",
     "output_type": "stream",
     "text": [
      "<bound method NDFrame.head of         Price  Year    Mileage  City  State  Make     Model\n",
      "0        8995  2014 35725.0000   626     43     0 1045.0000\n",
      "2        8995  2013 48851.0000   626     43     0 1045.0000\n",
      "3       10999  2014 39922.0000  2334      5     0 1044.0000\n",
      "6       14490  2014 34032.0000   835     34     0 2030.0000\n",
      "7       13995  2013 32384.0000  2280     44     0 2026.0000\n",
      "...       ...   ...        ...   ...    ...   ...       ...\n",
      "852117  63215  2017     9.0000   477      4    53 1756.0000\n",
      "852118  72260  2017  3201.0000   636     31    53 2216.0000\n",
      "852119  55999  2016 28941.0000   717      5    53 2210.0000\n",
      "852120  60240  2017  3005.0000  1875      4    53 2069.0000\n",
      "852121  76995  2017  2502.0000  1484     34    53 2217.0000\n",
      "\n",
      "[707593 rows x 7 columns]>\n"
     ]
    }
   ],
   "source": [
    "src_df.drop('Vin', inplace=True, axis=1)\n",
    "\n",
    "src_df['Make'] = proceed_cat_str(src_df['Make'])\n",
    "src_df['City'] = proceed_cat_str(src_df['City'])\n",
    "src_df['State'] = proceed_cat_str(src_df['State'])\n",
    "\n",
    "temp_df = src_df[['Model', 'Make', 'City', 'State']].astype('category').apply(lambda x: x.cat.codes)\n",
    "temp_df = temp_df.where(~src_df.isna(), src_df)\n",
    "\n",
    "src_df['Model'] = temp_df['Model'].astype('float')\n",
    "src_df['Make'] = temp_df['Make']\n",
    "src_df['City'] = temp_df['City']\n",
    "src_df['State'] = temp_df['State']\n",
    "\n",
    "del temp_df\n",
    "gc.collect()\n",
    "\n",
    "print(src_df.head)"
   ]
  },
  {
   "cell_type": "code",
   "execution_count": 16,
   "id": "0b886bef-25f3-4d6c-b990-58118b4a804e",
   "metadata": {},
   "outputs": [
    {
     "name": "stdout",
     "output_type": "stream",
     "text": [
      "Price          0\n",
      "Year           0\n",
      "Mileage        0\n",
      "City           0\n",
      "State          0\n",
      "Make           0\n",
      "Model      64071\n",
      "dtype: int64\n"
     ]
    }
   ],
   "source": [
    "print(src_df.isna().sum())"
   ]
  },
  {
   "cell_type": "markdown",
   "id": "922691a1-41b6-4ecf-bfc6-8acaabe606e5",
   "metadata": {},
   "source": [
    "![title](img/10.png)"
   ]
  },
  {
   "cell_type": "markdown",
   "id": "3a8ced76-efab-421e-9e1c-f795dc78a7c0",
   "metadata": {},
   "source": [
    "![title](img/11.png)"
   ]
  },
  {
   "cell_type": "markdown",
   "id": "cea2d16e-9756-4830-a2ba-11cd0a5029af",
   "metadata": {},
   "source": [
    "На данный момент никаких аномалий я не наблюдаю."
   ]
  },
  {
   "cell_type": "markdown",
   "id": "4232a6fd-7e2f-4b89-9bf9-ea299358c166",
   "metadata": {},
   "source": [
    "# **Импутация данных.**"
   ]
  },
  {
   "cell_type": "markdown",
   "id": "37811a5d-6513-4502-b716-02650a362ea8",
   "metadata": {},
   "source": [
    "Собственно, нужно импутировать только модель."
   ]
  },
  {
   "cell_type": "markdown",
   "id": "e5e7a8db-4463-4290-bb87-4a06c2811cfa",
   "metadata": {},
   "source": [
    "Поскольку это явно задача классификации, попробую KNN."
   ]
  },
  {
   "cell_type": "code",
   "execution_count": 17,
   "id": "1a925c97-5043-4617-b229-d2b99012ad20",
   "metadata": {},
   "outputs": [],
   "source": [
    "#imputer = KNNImputer(n_neighbors=3)\n",
    "\n",
    "#src_df_imputed = pd.DataFrame(imputer.fit_transform(src_df), columns=src_df.columns)\n",
    "\n",
    "#src_df_imputed.to_pickle(path=\"./data/src_df_model_imputed.pkl\", compression='zip')"
   ]
  },
  {
   "cell_type": "code",
   "execution_count": 18,
   "id": "18299b9d-34bc-4da1-9243-5f812fab8d82",
   "metadata": {},
   "outputs": [],
   "source": [
    "src_df_imputed = pd.read_pickle(filepath_or_buffer=\"./data/src_df_model_imputed.pkl\", compression='zip')\n",
    "src_df_imputed.index = src_df.index\n",
    "src_df_imputed = src_df_imputed.astype('int64')"
   ]
  },
  {
   "cell_type": "code",
   "execution_count": 19,
   "id": "9fe41a05-fd2b-4b7a-8f7f-a9196b0e5c7a",
   "metadata": {},
   "outputs": [
    {
     "name": "stdout",
     "output_type": "stream",
     "text": [
      "        Price  Year    Mileage  City  State  Make  Model\n",
      "9        9995  2013 63887.0000   626     43     0    NaN\n",
      "12       7750  2009 91980.0000  1857     43     0    NaN\n",
      "31      14999  2015 28326.0000  1312      9     0    NaN\n",
      "41      14994  2014 22266.0000  1918      9     0    NaN\n",
      "45      15965  2015 30091.0000  2216     34     0    NaN\n",
      "...       ...   ...        ...   ...    ...   ...    ...\n",
      "852105  59970  2017  2773.0000  1550     14    53    NaN\n",
      "852108      0  2017     8.0000  1875      4    53    NaN\n",
      "852113  63995  2017  4304.0000  1484     34    53    NaN\n",
      "852114  53855  2017  7530.0000  1248     10    53    NaN\n",
      "852116  54995  2017  2474.0000   154     38    53    NaN\n",
      "\n",
      "[64071 rows x 7 columns]\n",
      "        Price  Year  Mileage  City  State  Make  Model\n",
      "9        9995  2013    63887   626     43     0   1120\n",
      "12       7750  2009    91980  1857     43     0   1040\n",
      "31      14999  2015    28326  1312      9     0    355\n",
      "41      14994  2014    22266  1918      9     0   1106\n",
      "45      15965  2015    30091  2216     34     0   1038\n",
      "...       ...   ...      ...   ...    ...   ...    ...\n",
      "852105  59970  2017     2773  1550     14    53   1930\n",
      "852108      0  2017        8  1875      4    53   1446\n",
      "852113  63995  2017     4304  1484     34    53   1521\n",
      "852114  53855  2017     7530  1248     10    53    984\n",
      "852116  54995  2017     2474   154     38    53   1092\n",
      "\n",
      "[64071 rows x 7 columns]\n"
     ]
    }
   ],
   "source": [
    "idx = src_df.loc[src_df['Model'].isna()].index\n",
    "\n",
    "print(src_df.loc[src_df.index.isin(idx)])\n",
    "print(src_df_imputed.loc[src_df_imputed.index.isin(idx)])"
   ]
  },
  {
   "cell_type": "markdown",
   "id": "f8dfcb1a-b6e4-482c-a341-2729336c3590",
   "metadata": {},
   "source": [
    "Ну, ничего не поломалось на первый взгляд."
   ]
  },
  {
   "cell_type": "markdown",
   "id": "e562d3b2-df34-4d36-9571-ccae625cdeb5",
   "metadata": {
    "tags": []
   },
   "source": [
    "# **Обучение модели и конструирование параметров.**"
   ]
  },
  {
   "cell_type": "code",
   "execution_count": 20,
   "id": "b10f0d1c-724f-46d7-b106-a0fcb7c3f3d6",
   "metadata": {},
   "outputs": [
    {
     "name": "stdout",
     "output_type": "stream",
     "text": [
      "(44210, 7)\n",
      "(663383, 7)\n"
     ]
    }
   ],
   "source": [
    "to_predict_ds = src_df_imputed.loc[src_df_imputed['Price'] == 0]\n",
    "work_ds = src_df_imputed.loc[src_df_imputed['Price'] != 0]\n",
    "\n",
    "print(to_predict_ds.shape)\n",
    "print(work_ds.shape)"
   ]
  },
  {
   "cell_type": "code",
   "execution_count": 21,
   "id": "c0242edd-0daa-4850-9ab7-1430a75ffaa8",
   "metadata": {},
   "outputs": [
    {
     "data": {
      "text/plain": [
       "0"
      ]
     },
     "execution_count": 21,
     "metadata": {},
     "output_type": "execute_result"
    }
   ],
   "source": [
    "del numeric\n",
    "del src_df\n",
    "del src_df_imputed\n",
    "\n",
    "gc.collect()"
   ]
  },
  {
   "cell_type": "code",
   "execution_count": 22,
   "id": "1c206141-ce68-4ec6-9ee4-137887022e9c",
   "metadata": {},
   "outputs": [
    {
     "name": "stdout",
     "output_type": "stream",
     "text": [
      "[0]\ttrain-rmse:19556.93359\tvalidation-rmse:19432.81055\n",
      "[20]\ttrain-rmse:6976.86523\tvalidation-rmse:7049.74023\n",
      "[40]\ttrain-rmse:5983.23242\tvalidation-rmse:6191.86328\n",
      "[60]\ttrain-rmse:5573.94043\tvalidation-rmse:5870.74023\n",
      "[80]\ttrain-rmse:5295.96826\tvalidation-rmse:5650.96973\n",
      "[100]\ttrain-rmse:5106.25586\tvalidation-rmse:5502.21094\n",
      "[120]\ttrain-rmse:4951.09033\tvalidation-rmse:5395.62256\n",
      "[140]\ttrain-rmse:4828.49561\tvalidation-rmse:5323.85889\n",
      "[160]\ttrain-rmse:4754.31836\tvalidation-rmse:5267.44873\n",
      "[180]\ttrain-rmse:4679.37353\tvalidation-rmse:5222.06934\n",
      "[200]\ttrain-rmse:4611.77881\tvalidation-rmse:5186.14404\n",
      "[220]\ttrain-rmse:4559.47656\tvalidation-rmse:5153.81348\n",
      "[240]\ttrain-rmse:4508.40918\tvalidation-rmse:5125.82568\n",
      "[260]\ttrain-rmse:4449.27393\tvalidation-rmse:5089.31836\n",
      "[280]\ttrain-rmse:4411.40527\tvalidation-rmse:5069.95459\n",
      "[300]\ttrain-rmse:4378.22607\tvalidation-rmse:5054.82080\n",
      "[320]\ttrain-rmse:4332.27393\tvalidation-rmse:5031.58984\n",
      "[340]\ttrain-rmse:4298.65820\tvalidation-rmse:5016.24805\n",
      "[360]\ttrain-rmse:4263.85059\tvalidation-rmse:5008.93262\n",
      "[380]\ttrain-rmse:4232.14111\tvalidation-rmse:4995.80029\n",
      "[400]\ttrain-rmse:4201.07227\tvalidation-rmse:4979.00293\n",
      "[420]\ttrain-rmse:4176.41211\tvalidation-rmse:4970.78223\n",
      "[440]\ttrain-rmse:4154.18945\tvalidation-rmse:4965.10254\n",
      "[460]\ttrain-rmse:4126.21631\tvalidation-rmse:4953.66064\n",
      "[480]\ttrain-rmse:4106.58984\tvalidation-rmse:4951.21582\n",
      "[500]\ttrain-rmse:4089.46167\tvalidation-rmse:4947.33789\n",
      "[520]\ttrain-rmse:4070.78052\tvalidation-rmse:4940.36182\n",
      "[540]\ttrain-rmse:4042.08569\tvalidation-rmse:4935.72119\n",
      "[560]\ttrain-rmse:4028.15625\tvalidation-rmse:4933.80908\n",
      "[580]\ttrain-rmse:4010.03223\tvalidation-rmse:4931.95947\n",
      "[600]\ttrain-rmse:3988.71020\tvalidation-rmse:4925.21387\n",
      "[620]\ttrain-rmse:3977.10938\tvalidation-rmse:4922.32080\n",
      "[640]\ttrain-rmse:3960.35132\tvalidation-rmse:4917.44482\n",
      "[660]\ttrain-rmse:3944.25537\tvalidation-rmse:4913.35205\n",
      "[680]\ttrain-rmse:3925.35278\tvalidation-rmse:4908.80420\n",
      "[700]\ttrain-rmse:3913.83618\tvalidation-rmse:4906.13037\n",
      "[720]\ttrain-rmse:3899.59521\tvalidation-rmse:4903.07031\n",
      "[740]\ttrain-rmse:3888.52368\tvalidation-rmse:4902.72461\n",
      "[760]\ttrain-rmse:3874.82715\tvalidation-rmse:4897.95508\n",
      "[780]\ttrain-rmse:3852.35425\tvalidation-rmse:4891.38135\n",
      "[800]\ttrain-rmse:3838.71460\tvalidation-rmse:4890.73828\n",
      "[820]\ttrain-rmse:3823.91943\tvalidation-rmse:4887.75586\n",
      "[840]\ttrain-rmse:3811.08350\tvalidation-rmse:4887.07764\n",
      "[860]\ttrain-rmse:3797.32568\tvalidation-rmse:4884.41699\n",
      "[880]\ttrain-rmse:3787.22583\tvalidation-rmse:4880.91992\n",
      "[900]\ttrain-rmse:3767.64307\tvalidation-rmse:4877.34277\n",
      "[920]\ttrain-rmse:3757.81030\tvalidation-rmse:4876.60156\n",
      "[940]\ttrain-rmse:3744.78540\tvalidation-rmse:4875.14795\n",
      "[960]\ttrain-rmse:3732.11719\tvalidation-rmse:4872.02051\n",
      "[980]\ttrain-rmse:3720.83862\tvalidation-rmse:4872.01074\n",
      "[1000]\ttrain-rmse:3709.25049\tvalidation-rmse:4870.53125\n",
      "[1014]\ttrain-rmse:3699.31641\tvalidation-rmse:4870.96240\n"
     ]
    }
   ],
   "source": [
    "xgb_model_01 = xgb.XGBRegressor()\n",
    "\n",
    "X = work_ds[['Year', 'Make', 'State', 'City', 'Mileage', 'Model']]\n",
    "y = work_ds['Price']\n",
    "\n",
    "X_train, X_test, y_train, y_test = train_test_split(X, y, test_size=0.1, random_state=42)\n",
    "\n",
    "dmatrix_train = xgb.DMatrix(data=X_train, label=y_train)\n",
    "dmatrix_test = xgb.DMatrix(data=X_test, label=y_test)\n",
    "\n",
    "if isfile(\"./data/models/iter_01_model.pkl\"):\n",
    "    with open(\"./data/models/iter_01_model.pkl\", \"rb\") as m_file:\n",
    "        xgb_model_01 = pickle.load(m_file)\n",
    "else:\n",
    "    xgb_model_01 = xgb.train(params={'objective': 'reg:squarederror'},\n",
    "                             dtrain=dmatrix_train,\n",
    "                             evals=[(dmatrix_train, \"train\"), (dmatrix_test, \"validation\")],\n",
    "                             num_boost_round=10000,\n",
    "                             verbose_eval=20,\n",
    "                             early_stopping_rounds=25\n",
    "                             )\n",
    "    \n",
    "    with open(\"./data/models/iter_01_model.pkl\", \"wb\") as m_file:\n",
    "        pickle.dump(xgb_model_01, m_file)"
   ]
  },
  {
   "cell_type": "code",
   "execution_count": 23,
   "id": "cc45b0b4-39ad-4b1b-87d6-69ab42ed5b67",
   "metadata": {},
   "outputs": [
    {
     "name": "stdout",
     "output_type": "stream",
     "text": [
      "Model trained with R2 = 0.8660.\n"
     ]
    }
   ],
   "source": [
    "xgb_preds = xgb_model_01.predict(dmatrix_test)\n",
    "r2 = r2_score(y_test, xgb_preds)\n",
    "print(\"Model trained with R2 = {:.4f}.\".format(r2))"
   ]
  },
  {
   "cell_type": "code",
   "execution_count": 24,
   "id": "f1e35f87-86de-4f5d-b7ec-9b684b4a4b34",
   "metadata": {},
   "outputs": [
    {
     "data": {
      "image/png": "[encoded data removed]",
      "text/plain": [
       "<Figure size 432x288 with 1 Axes>"
      ]
     },
     "metadata": {
      "needs_background": "light"
     },
     "output_type": "display_data"
    }
   ],
   "source": [
    "xgb.plot_importance(xgb_model_01)\n",
    "plt.show()"
   ]
  },
  {
   "cell_type": "markdown",
   "id": "5c0d2abe-c4db-4d48-8816-abd238801378",
   "metadata": {},
   "source": [
    "Можно попробовать создать два полиноминальных признака год-производитель-модель и штат-город."
   ]
  },
  {
   "cell_type": "code",
   "execution_count": 25,
   "id": "9915b117-b16c-4f8a-a88c-59c876a25044",
   "metadata": {},
   "outputs": [],
   "source": [
    "work_ds['YMM'] = work_ds['Year'] + work_ds['Make'] + work_ds['Model']\n",
    "work_ds['SC'] = work_ds['State'] + work_ds['City']\n"
   ]
  },
  {
   "cell_type": "code",
   "execution_count": 26,
   "id": "16dd9324-c554-4ea6-8490-65ddb7f16e11",
   "metadata": {},
   "outputs": [
    {
     "name": "stdout",
     "output_type": "stream",
     "text": [
      "<bound method NDFrame.head of         Price  Year  Mileage  City  State  Make  Model   YMM    SC\n",
      "0        8995  2014    35725   626     43     0   1045  3059   669\n",
      "2        8995  2013    48851   626     43     0   1045  3058   669\n",
      "3       10999  2014    39922  2334      5     0   1044  3058  2339\n",
      "6       14490  2014    34032   835     34     0   2030  4044   869\n",
      "7       13995  2013    32384  2280     44     0   2026  4039  2324\n",
      "...       ...   ...      ...   ...    ...   ...    ...   ...   ...\n",
      "852117  63215  2017        9   477      4    53   1756  3826   481\n",
      "852118  72260  2017     3201   636     31    53   2216  4286   667\n",
      "852119  55999  2016    28941   717      5    53   2210  4279   722\n",
      "852120  60240  2017     3005  1875      4    53   2069  4139  1879\n",
      "852121  76995  2017     2502  1484     34    53   2217  4287  1518\n",
      "\n",
      "[663383 rows x 9 columns]>\n"
     ]
    }
   ],
   "source": [
    "print(work_ds.head)"
   ]
  },
  {
   "cell_type": "code",
   "execution_count": 27,
   "id": "fb80eab6-c7b9-49f0-95c3-a495dd298ed5",
   "metadata": {},
   "outputs": [
    {
     "name": "stdout",
     "output_type": "stream",
     "text": [
      "[0]\ttrain-rmse:19551.51953\tvalidation-rmse:19429.12500\n",
      "[20]\ttrain-rmse:7023.21875\tvalidation-rmse:7092.03223\n",
      "[40]\ttrain-rmse:6004.72656\tvalidation-rmse:6197.96533\n",
      "[60]\ttrain-rmse:5562.85449\tvalidation-rmse:5843.29492\n",
      "[80]\ttrain-rmse:5282.26709\tvalidation-rmse:5650.15381\n",
      "[100]\ttrain-rmse:5085.44775\tvalidation-rmse:5498.14355\n",
      "[120]\ttrain-rmse:4943.39941\tvalidation-rmse:5415.23047\n",
      "[140]\ttrain-rmse:4816.58545\tvalidation-rmse:5311.21680\n",
      "[160]\ttrain-rmse:4735.54199\tvalidation-rmse:5256.11133\n",
      "[180]\ttrain-rmse:4649.92236\tvalidation-rmse:5204.39795\n",
      "[200]\ttrain-rmse:4586.06348\tvalidation-rmse:5169.10742\n",
      "[220]\ttrain-rmse:4524.71728\tvalidation-rmse:5140.28125\n",
      "[240]\ttrain-rmse:4474.16211\tvalidation-rmse:5106.49316\n",
      "[260]\ttrain-rmse:4434.62988\tvalidation-rmse:5082.20312\n",
      "[280]\ttrain-rmse:4388.68945\tvalidation-rmse:5066.01953\n",
      "[300]\ttrain-rmse:4361.68799\tvalidation-rmse:5058.68359\n",
      "[320]\ttrain-rmse:4319.25977\tvalidation-rmse:5037.08301\n",
      "[340]\ttrain-rmse:4283.34424\tvalidation-rmse:5023.91602\n",
      "[360]\ttrain-rmse:4253.94580\tvalidation-rmse:5014.15186\n",
      "[380]\ttrain-rmse:4231.74268\tvalidation-rmse:5007.13770\n",
      "[400]\ttrain-rmse:4205.47803\tvalidation-rmse:4995.16260\n",
      "[420]\ttrain-rmse:4173.56201\tvalidation-rmse:4975.34961\n",
      "[440]\ttrain-rmse:4151.34961\tvalidation-rmse:4968.57080\n",
      "[460]\ttrain-rmse:4120.17676\tvalidation-rmse:4957.80615\n",
      "[480]\ttrain-rmse:4098.28369\tvalidation-rmse:4950.65772\n",
      "[500]\ttrain-rmse:4074.01782\tvalidation-rmse:4943.63428\n",
      "[520]\ttrain-rmse:4052.40454\tvalidation-rmse:4936.83350\n",
      "[540]\ttrain-rmse:4029.94922\tvalidation-rmse:4933.69629\n",
      "[560]\ttrain-rmse:4012.34253\tvalidation-rmse:4932.13281\n",
      "[580]\ttrain-rmse:3991.64136\tvalidation-rmse:4927.00195\n",
      "[600]\ttrain-rmse:3975.24976\tvalidation-rmse:4924.45996\n",
      "[620]\ttrain-rmse:3951.95679\tvalidation-rmse:4918.54004\n",
      "[640]\ttrain-rmse:3930.94751\tvalidation-rmse:4911.18213\n",
      "[660]\ttrain-rmse:3912.52051\tvalidation-rmse:4906.74023\n",
      "[680]\ttrain-rmse:3891.76929\tvalidation-rmse:4902.25391\n",
      "[700]\ttrain-rmse:3872.17798\tvalidation-rmse:4898.69531\n",
      "[720]\ttrain-rmse:3858.40088\tvalidation-rmse:4897.63574\n",
      "[740]\ttrain-rmse:3841.95874\tvalidation-rmse:4894.54199\n",
      "[760]\ttrain-rmse:3828.80298\tvalidation-rmse:4891.90820\n",
      "[780]\ttrain-rmse:3811.89453\tvalidation-rmse:4885.60498\n",
      "[800]\ttrain-rmse:3796.52759\tvalidation-rmse:4882.35596\n",
      "[820]\ttrain-rmse:3775.62231\tvalidation-rmse:4879.13330\n",
      "[840]\ttrain-rmse:3762.54785\tvalidation-rmse:4877.38330\n",
      "[860]\ttrain-rmse:3751.68384\tvalidation-rmse:4877.02637\n",
      "[880]\ttrain-rmse:3740.37573\tvalidation-rmse:4875.71924\n",
      "[900]\ttrain-rmse:3725.64429\tvalidation-rmse:4874.06689\n",
      "[920]\ttrain-rmse:3714.71387\tvalidation-rmse:4874.18506\n",
      "[940]\ttrain-rmse:3700.14307\tvalidation-rmse:4869.77832\n",
      "[960]\ttrain-rmse:3688.92358\tvalidation-rmse:4867.44678\n",
      "[980]\ttrain-rmse:3679.15381\tvalidation-rmse:4864.34522\n",
      "[1000]\ttrain-rmse:3663.39844\tvalidation-rmse:4863.19922\n",
      "[1020]\ttrain-rmse:3649.78320\tvalidation-rmse:4865.06494\n",
      "[1024]\ttrain-rmse:3647.89941\tvalidation-rmse:4864.90088\n"
     ]
    }
   ],
   "source": [
    "xgb_model_02 = xgb.XGBRegressor()\n",
    "\n",
    "X = work_ds[['Year', 'Make', 'State', 'City', 'Mileage', 'Model', 'YMM', 'SC']]\n",
    "y = work_ds['Price']\n",
    "\n",
    "X_train, X_test, y_train, y_test = train_test_split(X, y, test_size=0.1, random_state=42)\n",
    "\n",
    "dmatrix_train = xgb.DMatrix(data=X_train, label=y_train)\n",
    "dmatrix_test = xgb.DMatrix(data=X_test, label=y_test)\n",
    "\n",
    "if isfile(\"./data/models/iter_02_model.pkl\"):\n",
    "    with open(\"./data/models/iter_02_model.pkl\", \"rb\") as m_file:\n",
    "        xgb_model_02 = pickle.load(m_file)\n",
    "else:\n",
    "    xgb_model_02 = xgb.train(params={'objective': 'reg:squarederror'},\n",
    "                             dtrain=dmatrix_train,\n",
    "                             evals=[(dmatrix_train, \"train\"), (dmatrix_test, \"validation\")],\n",
    "                             num_boost_round=10000,\n",
    "                             verbose_eval=20,\n",
    "                             early_stopping_rounds=25\n",
    "                             )\n",
    "    \n",
    "    with open(\"./data/models/iter_02_model.pkl\", \"wb\") as m_file:\n",
    "        pickle.dump(xgb_model_02, m_file)"
   ]
  },
  {
   "cell_type": "code",
   "execution_count": 28,
   "id": "705d1afe-254b-43b8-bf47-3049a0195da2",
   "metadata": {},
   "outputs": [
    {
     "name": "stdout",
     "output_type": "stream",
     "text": [
      "Model trained with R2 = 0.8664.\n"
     ]
    }
   ],
   "source": [
    "xgb_preds = xgb_model_02.predict(dmatrix_test)\n",
    "r2 = r2_score(y_test, xgb_preds)\n",
    "print(\"Model trained with R2 = {:.4f}.\".format(r2))"
   ]
  },
  {
   "cell_type": "code",
   "execution_count": 29,
   "id": "a30980dd-dd69-46b7-931f-3cf096f5a8a4",
   "metadata": {},
   "outputs": [
    {
     "data": {
      "image/png": "[encoded data removed]",
      "text/plain": [
       "<Figure size 432x288 with 1 Axes>"
      ]
     },
     "metadata": {
      "needs_background": "light"
     },
     "output_type": "display_data"
    }
   ],
   "source": [
    "xgb.plot_importance(xgb_model_02)\n",
    "plt.show()"
   ]
  },
  {
   "cell_type": "code",
   "execution_count": null,
   "id": "26ced082-8efb-4dfc-9496-c55a97444ecc",
   "metadata": {},
   "outputs": [],
   "source": []
  }
 ],
 "metadata": {
  "kernelspec": {
   "display_name": "Python 3 (ipykernel)",
   "language": "python",
   "name": "python3"
  },
  "language_info": {
   "codemirror_mode": {
    "name": "ipython",
    "version": 3
   },
   "file_extension": ".py",
   "mimetype": "text/x-python",
   "name": "python",
   "nbconvert_exporter": "python",
   "pygments_lexer": "ipython3",
   "version": "3.8.10"
  }
 },
 "nbformat": 4,
 "nbformat_minor": 5
}
