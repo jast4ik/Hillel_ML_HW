{
 "cells": [
  {
   "cell_type": "code",
   "execution_count": 1,
   "id": "483cfab8-e298-44fe-ac96-8cce26ddcc7b",
   "metadata": {
    "tags": []
   },
   "outputs": [],
   "source": [
    "from os.path import isfile\n",
    "import pandas as pd\n",
    "import gc\n",
    "import re\n",
    "import numpy as np\n",
    "import scipy.stats\n",
    "from scipy.stats import zscore\n",
    "import matplotlib.pyplot as plt\n",
    "import seaborn as sns\n",
    "import xgboost as xgb\n",
    "from sklearn.model_selection import train_test_split\n",
    "from sklearn.metrics import r2_score\n",
    "import pickle\n",
    "\n",
    "pd.set_option('float_format', '{:.4f}'.format)"
   ]
  },
  {
   "cell_type": "code",
   "execution_count": 2,
   "id": "7d410afd-2e09-44a7-bb9e-a70355faa2ee",
   "metadata": {},
   "outputs": [],
   "source": [
    "def_column_order = ['Price', 'Year', 'Mileage', 'City', 'State', 'Make', 'Model']\n",
    "numeric_types = ['int16', 'int32', 'int64', 'float16', 'float32', 'float64']\n",
    "\n",
    "\n",
    "def get_column_order(current_order: list):\n",
    "    return [x for x in def_column_order if x in current_order]\n",
    "\n",
    "\n",
    "def proceed_cat_str(in_cat: pd.Series, trim=-1):\n",
    "    res_cat = in_cat.map(\n",
    "        lambda x: \"\".join(re.findall(\"[a-zA-Z0-9]+\", x)) if type(x) is str else np.NaN\n",
    "    )\n",
    "\n",
    "    res_cat = res_cat.map(\n",
    "        lambda x: str.upper(x) if type(x) is str else np.NaN\n",
    "    )\n",
    "\n",
    "    if trim != -1:\n",
    "        res_cat = res_cat.str[:trim]\n",
    "\n",
    "    return res_cat\n",
    "\n",
    "\n",
    "def concat_cat(src_df: pd.DataFrame, name: str):\n",
    "    res_cat = pd.Series(dtype=str)\n",
    "    res_cat.name = name\n",
    "\n",
    "    for col in src_df:\n",
    "        if res_cat.shape[0] == 0:\n",
    "            res_cat = src_df[col].astype(str)\n",
    "        else:\n",
    "            res_cat = res_cat + src_df[col].astype(str)\n",
    "\n",
    "    return res_cat"
   ]
  },
  {
   "cell_type": "markdown",
   "id": "e1f13a22-1105-4f96-9f58-9f2cf136b2e3",
   "metadata": {
    "tags": []
   },
   "source": [
    "# **Анализ данных.**"
   ]
  },
  {
   "cell_type": "markdown",
   "id": "ed5f05ef-ba22-4672-950e-f859995089c4",
   "metadata": {},
   "source": [
    "Взглянем издалека на числовые данные."
   ]
  },
  {
   "cell_type": "code",
   "execution_count": 3,
   "id": "6e04123e-31ea-4952-b7fa-bc6d60a21d3e",
   "metadata": {},
   "outputs": [
    {
     "name": "stdout",
     "output_type": "stream",
     "text": [
      "            Price        Year      Mileage\n",
      "count 852105.0000 852105.0000  731162.0000\n",
      "mean   20121.2714   2013.2891   52519.6486\n",
      "std    14123.2041      3.4150   42036.4440\n",
      "min        0.0000   1997.0000       5.0000\n",
      "25%    11997.0000   2012.0000   23837.0000\n",
      "50%    17900.0000   2014.0000   40265.0000\n",
      "75%    26398.0000   2016.0000   72228.0000\n",
      "max   499500.0000   2018.0000 2856196.0000\n"
     ]
    }
   ],
   "source": [
    "src_df = pd.read_csv('./data/true_car_listings_prepeared.csv')\n",
    "src_df.drop_duplicates(inplace=True)\n",
    "\n",
    "numeric = src_df.select_dtypes(include=numeric_types)\n",
    "\n",
    "print(numeric.describe())"
   ]
  },
  {
   "cell_type": "markdown",
   "id": "f873177d-4751-46a8-96d3-100c3285608c",
   "metadata": {},
   "source": [
    "Выбросы точно присутствуют. Попробую визуально."
   ]
  },
  {
   "cell_type": "markdown",
   "id": "73926544-9af1-435a-95e1-957bc7657b23",
   "metadata": {},
   "source": [
    "![title](img/06.png)"
   ]
  },
  {
   "cell_type": "markdown",
   "id": "b7531136-edd1-4241-92ce-0a3e6508e5d5",
   "metadata": {},
   "source": [
    "Что и требовалось показать, что называется."
   ]
  },
  {
   "cell_type": "code",
   "execution_count": 4,
   "id": "17017277-f11f-4e3a-ba9a-c86c3761e605",
   "metadata": {
    "tags": []
   },
   "outputs": [
    {
     "name": "stdout",
     "output_type": "stream",
     "text": [
      "            Price        Year      Mileage\n",
      "count 852105.0000 852105.0000  731162.0000\n",
      "mean   20121.2714   2013.2891   52519.6486\n",
      "std    14123.2041      3.4150   42036.4440\n",
      "min        0.0000   1997.0000       5.0000\n",
      "0%         0.0000   1997.0000       5.0000\n",
      "5%         0.0000   2006.0000    6577.0000\n",
      "10%     6550.0000   2008.0000   12126.0000\n",
      "15%     8995.0000   2010.0000   16514.0000\n",
      "20%    10850.0000   2011.0000   20251.0000\n",
      "25%    11997.0000   2012.0000   23837.0000\n",
      "30%    13277.0000   2013.0000   27300.0000\n",
      "35%    14455.0000   2013.0000   30543.0000\n",
      "40%    15500.0000   2014.0000   33685.0000\n",
      "45%    16733.0000   2014.0000   36745.0000\n",
      "50%    17900.0000   2014.0000   40265.0000\n",
      "55%    18990.0000   2014.0000   43982.0000\n",
      "60%    20295.0000   2015.0000   48539.0000\n",
      "65%    21999.0000   2015.0000   54845.0000\n",
      "70%    23998.0000   2015.0000   62988.0000\n",
      "75%    26398.0000   2016.0000   72228.0000\n",
      "80%    28900.0000   2016.0000   82443.0000\n",
      "85%    31843.0000   2016.0000   94358.0000\n",
      "90%    35595.0000   2017.0000  109636.9000\n",
      "95%    42840.8000   2017.0000  134379.7000\n",
      "max   499500.0000   2018.0000 2856196.0000\n"
     ]
    }
   ],
   "source": [
    "print(numeric.describe(percentiles=np.arange(start=0.0, stop=1.00, step=0.05)))"
   ]
  },
  {
   "cell_type": "markdown",
   "id": "e78519f3-c01f-4b9a-a0fe-30cbb4c09fb6",
   "metadata": {},
   "source": [
    "Интересно. А сколько у нас записей до, скажем, 2000-го года?"
   ]
  },
  {
   "cell_type": "code",
   "execution_count": 5,
   "id": "7d28eddf-22b0-4b81-9589-5538fc57518e",
   "metadata": {},
   "outputs": [
    {
     "name": "stdout",
     "output_type": "stream",
     "text": [
      "            Price      Year     Mileage\n",
      "count   4557.0000 4557.0000   3871.0000\n",
      "mean    6905.0266 1998.9928 144933.2304\n",
      "std    10903.3134    1.0571  69101.1093\n",
      "min        0.0000 1997.0000    111.0000\n",
      "25%     2995.0000 1998.0000  98420.5000\n",
      "50%     4680.0000 1999.0000 140723.0000\n",
      "75%     7500.0000 2000.0000 183427.0000\n",
      "max   224995.0000 2000.0000 999999.0000\n"
     ]
    }
   ],
   "source": [
    "print(numeric.where(src_df['Year'] <= 2000).describe())"
   ]
  },
  {
   "cell_type": "markdown",
   "id": "4614775f-5cc5-40c2-88b1-3ec0f97cf843",
   "metadata": {},
   "source": [
    "2010-го?"
   ]
  },
  {
   "cell_type": "code",
   "execution_count": 6,
   "id": "6ae04883-d27b-4ca9-9602-1cdcab5b5984",
   "metadata": {},
   "outputs": [
    {
     "name": "stdout",
     "output_type": "stream",
     "text": [
      "            Price        Year      Mileage\n",
      "count 143274.0000 143274.0000  122931.0000\n",
      "mean   10920.9394   2006.9331  112431.4654\n",
      "std     9615.6580      2.7149   47737.7481\n",
      "min        0.0000   1997.0000       5.0000\n",
      "25%     5999.2500   2006.0000   82909.5000\n",
      "50%     9299.0000   2007.0000  107684.0000\n",
      "75%    13980.0000   2009.0000  136679.5000\n",
      "max   490000.0000   2010.0000 2856196.0000\n"
     ]
    }
   ],
   "source": [
    "print(numeric.where(src_df['Year'] <= 2010).describe())"
   ]
  },
  {
   "cell_type": "markdown",
   "id": "cb539461-3e5c-4ac2-9b07-28dc2bd1da79",
   "metadata": {},
   "source": [
    "Пока только ясно, что древних машин в наборе мало. Попробую оценить выбросы по пробегу."
   ]
  },
  {
   "cell_type": "code",
   "execution_count": 7,
   "id": "9236292f-abeb-493f-aa86-e05867289291",
   "metadata": {},
   "outputs": [
    {
     "name": "stdout",
     "output_type": "stream",
     "text": [
      "           Price      Year      Mileage\n",
      "count    12.0000   12.0000      12.0000\n",
      "mean   8907.3333 2006.5833 1680738.5000\n",
      "std    9008.4631    3.1176  555704.0516\n",
      "min       0.0000 2002.0000 1000000.0000\n",
      "25%    3899.7500 2005.0000 1392331.0000\n",
      "50%    5490.5000 2006.0000 1511505.5000\n",
      "75%   14013.2500 2008.0000 1895310.2500\n",
      "max   31500.0000 2013.0000 2856196.0000\n"
     ]
    }
   ],
   "source": [
    "print(numeric.where(src_df['Mileage'] >= 1000000).describe())"
   ]
  },
  {
   "cell_type": "code",
   "execution_count": 8,
   "id": "06470a89-bea5-4638-9867-4184c3a2387d",
   "metadata": {},
   "outputs": [
    {
     "name": "stdout",
     "output_type": "stream",
     "text": [
      "           Price      Year      Mileage\n",
      "count    47.0000   47.0000      47.0000\n",
      "mean  15533.0851 2007.2766 1066293.6596\n",
      "std   18357.8012    4.8486  476885.9661\n",
      "min       0.0000 1997.0000  527411.0000\n",
      "25%    3449.5000 2004.5000  777427.0000\n",
      "50%    5999.0000 2006.0000  999999.0000\n",
      "75%   25835.0000 2011.0000  999999.5000\n",
      "max   99999.0000 2017.0000 2856196.0000\n"
     ]
    }
   ],
   "source": [
    "print(numeric.where(src_df['Mileage'] >= 500000).describe())"
   ]
  },
  {
   "cell_type": "code",
   "execution_count": 9,
   "id": "d56f97fc-6952-461c-a114-b9d419dee22d",
   "metadata": {},
   "outputs": [
    {
     "name": "stdout",
     "output_type": "stream",
     "text": [
      "           Price      Year      Mileage\n",
      "count  4838.0000 4838.0000    4838.0000\n",
      "mean   7299.2433 2004.5043  241234.6561\n",
      "std    6862.7746    3.6458  100097.1164\n",
      "min       0.0000 1997.0000  200000.0000\n",
      "25%    3498.2500 2002.0000  209619.2500\n",
      "50%    5500.0000 2004.0000  223245.5000\n",
      "75%    9599.7500 2007.0000  246694.0000\n",
      "max   99999.0000 2017.0000 2856196.0000\n"
     ]
    }
   ],
   "source": [
    "print(numeric.where(src_df['Mileage'] >= 200000).describe())"
   ]
  },
  {
   "cell_type": "markdown",
   "id": "f4230b85-62b0-4065-a9a4-c7d72d8bce5a",
   "metadata": {},
   "source": [
    "**Дилема.** Всё было бы понятно, если бы не 100+К значений NaN пробега. Нужно проанализировать какие авто попали в пробег более 200К."
   ]
  },
  {
   "cell_type": "markdown",
   "id": "46421bab-69cf-4def-a57c-6dd7a64ec09d",
   "metadata": {},
   "source": [
    "А сколько моделей есть в наборе до 2004 и нет в после?"
   ]
  },
  {
   "cell_type": "code",
   "execution_count": 10,
   "id": "cbb44d72-d8f9-4e84-a6e6-92339bd02490",
   "metadata": {},
   "outputs": [
    {
     "name": "stdout",
     "output_type": "stream",
     "text": [
      "There is 269 unique models before 2004.\n"
     ]
    }
   ],
   "source": [
    "src_df['Model'] = proceed_cat_str(src_df['Model'])\n",
    "\n",
    "before2004 = src_df.where(src_df['Year'] <= 2004)['Model'].value_counts().keys()\n",
    "after2004 = src_df.where(src_df['Year'] > 2004)['Model'].value_counts().keys()\n",
    "\n",
    "inter = np.setdiff1d(before2004, after2004)\n",
    "print(\"There is {} unique models before 2004.\".format(len(inter)))"
   ]
  },
  {
   "cell_type": "markdown",
   "id": "7d8772fe-bb9e-4c1f-8df8-8549bcd0df9e",
   "metadata": {},
   "source": [
    "И сколько записей входит в это условие?"
   ]
  },
  {
   "cell_type": "code",
   "execution_count": 11,
   "id": "cb3800aa-03bc-44eb-b6f7-a58bfc12d075",
   "metadata": {},
   "outputs": [
    {
     "name": "stdout",
     "output_type": "stream",
     "text": [
      "There is 2765 rows to delete.\n"
     ]
    }
   ],
   "source": [
    "old_model_df = src_df.query('Model in @inter')\n",
    "print(\"There is {} rows to delete.\".format(old_model_df.shape[0]))"
   ]
  },
  {
   "cell_type": "markdown",
   "id": "08844f43-4589-4379-b8cb-13cff14254ab",
   "metadata": {},
   "source": [
    "Итак, попробуем удалить записи, где: <br>\n",
    "1. Уникальные модели до 2004-го года.\n",
    "2. До 2004-го года выпуска.\n",
    "3. Пробег более 200К"
   ]
  },
  {
   "cell_type": "code",
   "execution_count": 12,
   "id": "99a99c87-e5a4-4b9b-bf12-b0dc11fe69ed",
   "metadata": {},
   "outputs": [
    {
     "name": "stdout",
     "output_type": "stream",
     "text": [
      "144512 rows was deleted.\n"
     ]
    }
   ],
   "source": [
    "src_row_c = src_df.shape[0]\n",
    "\n",
    "src_df = src_df.loc[\n",
    "        (~src_df['Model'].isin(old_model_df['Model'])) &\n",
    "        (src_df['Year'] > 2004) &\n",
    "        (src_df['Mileage'] < 200000)\n",
    "]\n",
    "\n",
    "processed_row_c = src_df.shape[0]\n",
    "\n",
    "print(\"{} rows was deleted.\".format(src_row_c - processed_row_c))"
   ]
  },
  {
   "cell_type": "markdown",
   "id": "23e4be87-f1f5-4e92-bd51-e509556737ee",
   "metadata": {},
   "source": [
    "Интересно, а сколько порченых записей осталось."
   ]
  },
  {
   "cell_type": "code",
   "execution_count": 13,
   "id": "64b5126f-33b0-4342-aeb5-8ef26fbd17f2",
   "metadata": {},
   "outputs": [
    {
     "name": "stdout",
     "output_type": "stream",
     "text": [
      "Price          0\n",
      "Year           0\n",
      "Mileage        0\n",
      "City           0\n",
      "State          0\n",
      "Vin            0\n",
      "Make           0\n",
      "Model      64071\n",
      "dtype: int64\n"
     ]
    }
   ],
   "source": [
    "print(src_df.isna().sum())"
   ]
  },
  {
   "cell_type": "markdown",
   "id": "74d2f392-4b31-42dc-a5ba-46827f4223ae",
   "metadata": {},
   "source": [
    "Вот это номер - ушли все порченные значения пробега!"
   ]
  },
  {
   "cell_type": "markdown",
   "id": "5303460d-8b6a-453f-8555-c202db5c9855",
   "metadata": {},
   "source": [
    "**Рассуждение.**"
   ]
  },
  {
   "cell_type": "markdown",
   "id": "2ee583c1-beb3-4a26-80be-566680df46ba",
   "metadata": {},
   "source": [
    "На первый взгляд, то к чему я пришел выглядит не обоснованным. Шутка ли, 140К записей убрать? <br>\n",
    "Но на самом деле, всё логично. \n",
    "1. США автомобильная страна. Автомобили стоят там дешево. Для штатов автомобиль старше 15 лет - металлолом. Или коллекционная модель. Поэтому при заполнении базы для таких авто могли просто пробег не указывать - зачем?\n",
    "2. Автомобили с большим пробегом вполне могут стоить денег - грузовики и коммерческий ресурсный транспорт. И вот вопрос - а он нам в модели нужен? Мы же явно работаем с легковыми автомобилями.\n",
    "3. Рассуждение касательно коллекционных автомобилей то-же, что для коммерческих."
   ]
  },
  {
   "cell_type": "code",
   "execution_count": 14,
   "id": "0ffc6b54-6656-4704-b7ee-3abb144c70fd",
   "metadata": {},
   "outputs": [
    {
     "name": "stdout",
     "output_type": "stream",
     "text": [
      "44210\n"
     ]
    }
   ],
   "source": [
    "print(src_df.loc[src_df['Price'] == 0].shape[0])"
   ]
  },
  {
   "cell_type": "markdown",
   "id": "5442360e-c505-4840-b25e-a1b4f0dd2843",
   "metadata": {},
   "source": [
    "Как видно, нам ещё есть что предсказывать."
   ]
  },
  {
   "cell_type": "markdown",
   "id": "5f9141d0-b838-4d4d-83e4-965ce330edc6",
   "metadata": {},
   "source": [
    "![title](img/09.png)"
   ]
  },
  {
   "cell_type": "markdown",
   "id": "a1f26f3d-1bb0-4599-bf92-d71fe6afef43",
   "metadata": {},
   "source": [
    "Намного более приятная картина."
   ]
  },
  {
   "cell_type": "markdown",
   "id": "08f0b8c8-8b98-4fa0-a018-5d0c3d30e416",
   "metadata": {},
   "source": [
    "Хотя явно видно, что за какую-то модель золотишка отсыпают вне зависимости от пробега. Уж не NaN ли это? Узнаем истину вместе, как говорится."
   ]
  },
  {
   "cell_type": "markdown",
   "id": "a05400f4-0ce6-42fb-87a5-efb8a0184560",
   "metadata": {},
   "source": [
    "# **Категориальные данные.**"
   ]
  },
  {
   "cell_type": "markdown",
   "id": "a5101357-d67f-415c-8d9b-ccc07a21c0f9",
   "metadata": {},
   "source": [
    "В общем случае есть два варианта, закодировать числом или унитарным кодом. Я экспериментировал с унитарным кодом - мне очень не понравилось. Если категорий мало, до десятка, то еще ничего. \n",
    "Но при большом количестве категорий унитарный код создает слишком большую матрицу, что приводит к катострофическому расходу памяти. Поэтому я буду использовать Label encodng. "
   ]
  },
  {
   "cell_type": "code",
   "execution_count": 15,
   "id": "88e02ea4-930f-4887-8b9d-9e24833392c4",
   "metadata": {},
   "outputs": [
    {
     "name": "stdout",
     "output_type": "stream",
     "text": [
      "<bound method NDFrame.head of         Price  Year    Mileage  City  State  Make     Model\n",
      "0        8995  2014 35725.0000   626     43     0 1045.0000\n",
      "2        8995  2013 48851.0000   626     43     0 1045.0000\n",
      "3       10999  2014 39922.0000  2334      5     0 1044.0000\n",
      "6       14490  2014 34032.0000   835     34     0 2030.0000\n",
      "7       13995  2013 32384.0000  2280     44     0 2026.0000\n",
      "...       ...   ...        ...   ...    ...   ...       ...\n",
      "852117  63215  2017     9.0000   477      4    53 1756.0000\n",
      "852118  72260  2017  3201.0000   636     31    53 2216.0000\n",
      "852119  55999  2016 28941.0000   717      5    53 2210.0000\n",
      "852120  60240  2017  3005.0000  1875      4    53 2069.0000\n",
      "852121  76995  2017  2502.0000  1484     34    53 2217.0000\n",
      "\n",
      "[707593 rows x 7 columns]>\n"
     ]
    }
   ],
   "source": [
    "src_df.drop('Vin', inplace=True, axis=1)\n",
    "\n",
    "src_df['Make'] = proceed_cat_str(src_df['Make'])\n",
    "src_df['City'] = proceed_cat_str(src_df['City'])\n",
    "src_df['State'] = proceed_cat_str(src_df['State'])\n",
    "\n",
    "temp_df = src_df[['Model', 'Make', 'City', 'State']].astype('category').apply(lambda x: x.cat.codes)\n",
    "temp_df = temp_df.where(~src_df.isna(), src_df)\n",
    "\n",
    "src_df['Model'] = temp_df['Model'].astype('float')\n",
    "src_df['Make'] = temp_df['Make']\n",
    "src_df['City'] = temp_df['City']\n",
    "src_df['State'] = temp_df['State']\n",
    "\n",
    "del temp_df\n",
    "gc.collect()\n",
    "\n",
    "print(src_df.head)"
   ]
  },
  {
   "cell_type": "code",
   "execution_count": 17,
   "id": "0b886bef-25f3-4d6c-b990-58118b4a804e",
   "metadata": {},
   "outputs": [
    {
     "name": "stdout",
     "output_type": "stream",
     "text": [
      "Price          0\n",
      "Year           0\n",
      "Mileage        0\n",
      "City           0\n",
      "State          0\n",
      "Make           0\n",
      "Model      64071\n",
      "dtype: int64\n"
     ]
    }
   ],
   "source": [
    "print(src_df.isna().sum())"
   ]
  },
  {
   "cell_type": "markdown",
   "id": "922691a1-41b6-4ecf-bfc6-8acaabe606e5",
   "metadata": {},
   "source": [
    "![title](img/10.png)"
   ]
  },
  {
   "cell_type": "markdown",
   "id": "3a8ced76-efab-421e-9e1c-f795dc78a7c0",
   "metadata": {},
   "source": [
    "![title](img/11.png)"
   ]
  },
  {
   "cell_type": "markdown",
   "id": "cea2d16e-9756-4830-a2ba-11cd0a5029af",
   "metadata": {},
   "source": [
    "На данный момент никаких аномалий я не наблюдаю."
   ]
  },
  {
   "cell_type": "markdown",
   "id": "4232a6fd-7e2f-4b89-9bf9-ea299358c166",
   "metadata": {},
   "source": [
    "# **Импутация данных.**"
   ]
  },
  {
   "cell_type": "markdown",
   "id": "37811a5d-6513-4502-b716-02650a362ea8",
   "metadata": {},
   "source": [
    "Собственно, нужно импутировать только модель."
   ]
  },
  {
   "cell_type": "markdown",
   "id": "f232464e-c348-4ba0-b9d6-9a977b24940c",
   "metadata": {},
   "source": [
    "Посмотрим, где нулевая цена пересекается с порченной моделью."
   ]
  },
  {
   "cell_type": "code",
   "execution_count": 16,
   "id": "92a936fd-c240-4ef7-bc4c-77f4ae238241",
   "metadata": {},
   "outputs": [
    {
     "name": "stdout",
     "output_type": "stream",
     "text": [
      "4037\n"
     ]
    }
   ],
   "source": [
    "temp_df = src_df.loc[\n",
    "    (src_df['Price'] == 0) &\n",
    "    (src_df['Model'].isna())\n",
    "]\n",
    "\n",
    "print(temp_df.shape[0])"
   ]
  },
  {
   "cell_type": "markdown",
   "id": "e5e7a8db-4463-4290-bb87-4a06c2811cfa",
   "metadata": {},
   "source": [
    "По крайней мере 90% моделей можно попробовать предсказать."
   ]
  },
  {
   "cell_type": "code",
   "execution_count": null,
   "id": "9fa8af92-740c-43d8-ba65-76e7f4c8986f",
   "metadata": {},
   "outputs": [],
   "source": []
  }
 ],
 "metadata": {
  "kernelspec": {
   "display_name": "Python 3 (ipykernel)",
   "language": "python",
   "name": "python3"
  },
  "language_info": {
   "codemirror_mode": {
    "name": "ipython",
    "version": 3
   },
   "file_extension": ".py",
   "mimetype": "text/x-python",
   "name": "python",
   "nbconvert_exporter": "python",
   "pygments_lexer": "ipython3",
   "version": "3.8.10"
  }
 },
 "nbformat": 4,
 "nbformat_minor": 5
}
