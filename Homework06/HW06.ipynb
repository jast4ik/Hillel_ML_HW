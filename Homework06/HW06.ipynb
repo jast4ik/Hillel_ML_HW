{
 "cells": [
  {
   "cell_type": "markdown",
   "id": "e1f13a22-1105-4f96-9f58-9f2cf136b2e3",
   "metadata": {},
   "source": [
    "## **Импорт и анализ данных.**"
   ]
  },
  {
   "cell_type": "code",
   "execution_count": 1,
   "id": "3ab2c1eb-7c60-4fbb-80d1-e730def17c99",
   "metadata": {},
   "outputs": [],
   "source": [
    "import pandas as pd\n",
    "from sklearn.linear_model import SGDRegressor\n",
    "from sklearn.preprocessing import LabelEncoder, OneHotEncoder\n",
    "from sklearn.metrics import r2_score\n",
    "from sklearn.model_selection import KFold\n",
    "import matplotlib.pyplot as plt\n",
    "import numpy as np\n",
    "import seaborn as sns"
   ]
  },
  {
   "cell_type": "markdown",
   "id": "f8390bdb-2650-431f-902e-117aff770676",
   "metadata": {},
   "source": [
    "Проверим данные на отсутствующие значения."
   ]
  },
  {
   "cell_type": "code",
   "execution_count": 2,
   "id": "6e4e899a-345a-42dc-8b06-86bc9cb8772d",
   "metadata": {},
   "outputs": [
    {
     "data": {
      "text/plain": [
       "Price           0\n",
       "Year            0\n",
       "Mileage    120943\n",
       "City            0\n",
       "State           0\n",
       "Vin             0\n",
       "Make            0\n",
       "Model       77122\n",
       "dtype: int64"
      ]
     },
     "execution_count": 2,
     "metadata": {},
     "output_type": "execute_result"
    }
   ],
   "source": [
    "src_df = pd.read_csv('true_car_listings_prepeared.csv')\n",
    "\n",
    "src_df.isna().sum()"
   ]
  },
  {
   "cell_type": "markdown",
   "id": "d8e180aa-a25d-4099-88cf-f26487e66431",
   "metadata": {},
   "source": [
    "Не очень хорошо, но не смертельно."
   ]
  },
  {
   "cell_type": "markdown",
   "id": "8b696740-a9ed-45ea-949a-b5b1f10f28ef",
   "metadata": {},
   "source": [
    "**Для начала нужно осмыслить данные, не затронутые порчей.**"
   ]
  },
  {
   "cell_type": "markdown",
   "id": "47af9af2-4315-44cb-bbd6-78bcb56f5365",
   "metadata": {},
   "source": [
    "Посмотрим на типы данных."
   ]
  },
  {
   "cell_type": "code",
   "execution_count": 3,
   "id": "2645fba4-c413-4acc-a6d3-cdf18f68b44e",
   "metadata": {
    "tags": []
   },
   "outputs": [
    {
     "data": {
      "text/plain": [
       "Price        int64\n",
       "Year         int64\n",
       "Mileage    float64\n",
       "City        object\n",
       "State       object\n",
       "Vin         object\n",
       "Make        object\n",
       "Model       object\n",
       "dtype: object"
      ]
     },
     "execution_count": 3,
     "metadata": {},
     "output_type": "execute_result"
    }
   ],
   "source": [
    "src_df.dtypes"
   ]
  },
  {
   "cell_type": "code",
   "execution_count": 4,
   "id": "a76819c0-757b-4ba6-8a7b-7224a5ccdd6b",
   "metadata": {
    "tags": []
   },
   "outputs": [
    {
     "name": "stdout",
     "output_type": "stream",
     "text": [
      "<class 'pandas.core.frame.DataFrame'>\n",
      "RangeIndex: 852122 entries, 0 to 852121\n",
      "Data columns (total 8 columns):\n",
      " #   Column   Non-Null Count   Dtype  \n",
      "---  ------   --------------   -----  \n",
      " 0   Price    852122 non-null  int64  \n",
      " 1   Year     852122 non-null  int64  \n",
      " 2   Mileage  731179 non-null  float64\n",
      " 3   City     852122 non-null  object \n",
      " 4   State    852122 non-null  object \n",
      " 5   Vin      852122 non-null  object \n",
      " 6   Make     852122 non-null  object \n",
      " 7   Model    775000 non-null  object \n",
      "dtypes: float64(1), int64(2), object(5)\n",
      "memory usage: 52.0+ MB\n"
     ]
    }
   ],
   "source": [
    "src_df.info()"
   ]
  },
  {
   "cell_type": "markdown",
   "id": "2580f456-3d15-41cb-b103-63fcfd913714",
   "metadata": {},
   "source": [
    "Памяти не много, так что оставлю как есть."
   ]
  },
  {
   "cell_type": "markdown",
   "id": "0732c6c9-ad8a-47ed-93ef-12052b256095",
   "metadata": {},
   "source": [
    "VIN точно никак ни на что не влияет, поскольку это изначально уникальный идентификатор. Удаляем."
   ]
  },
  {
   "cell_type": "code",
   "execution_count": 5,
   "id": "df32b8a4-d14f-42cb-9556-d360af0d9612",
   "metadata": {},
   "outputs": [
    {
     "name": "stdout",
     "output_type": "stream",
     "text": [
      "Dataframe:\n",
      "\t-Columns:Index(['Price', 'Year', 'Mileage', 'City', 'State', 'Vin', 'Make', 'Model'], dtype='object')\n",
      "\t-Rows count:852122\n",
      "\n"
     ]
    }
   ],
   "source": [
    "print(\"Dataframe:\\n\\t-Columns:{}\\n\\t-Rows count:{}\\n\".format(src_df.columns, src_df.shape[0]))"
   ]
  },
  {
   "cell_type": "code",
   "execution_count": 6,
   "id": "649c6a96-6ffd-4e9f-b404-99b83a51f556",
   "metadata": {},
   "outputs": [
    {
     "name": "stdout",
     "output_type": "stream",
     "text": [
      "Dataframe:\n",
      "\t-Columns:Index(['Price', 'Year', 'Mileage', 'City', 'State', 'Make', 'Model'], dtype='object')\n",
      "\t-Rows count:852122\n",
      "\n"
     ]
    }
   ],
   "source": [
    "src_df.drop(['Vin'], axis=1, inplace=True)\n",
    "print(\"Dataframe:\\n\\t-Columns:{}\\n\\t-Rows count:{}\\n\".format(src_df.columns, src_df.shape[0]))"
   ]
  },
  {
   "cell_type": "markdown",
   "id": "16231c19-ce11-4079-9775-66bffeffdec2",
   "metadata": {},
   "source": [
    "Посмотрим на диапазоны цены и пробега."
   ]
  },
  {
   "cell_type": "code",
   "execution_count": 7,
   "id": "3510d4bc-bda0-4382-a632-8bb0f7ff0876",
   "metadata": {},
   "outputs": [
    {
     "name": "stdout",
     "output_type": "stream",
     "text": [
      "Range of prices is:\t499500\n",
      "Range of mileage is:\t2856191.0\n"
     ]
    }
   ],
   "source": [
    "print(\"Range of prices is:\\t{}\".format(src_df.Price.max() - src_df.Price.min()))\n",
    "print(\"Range of mileage is:\\t{}\".format(src_df.Mileage.max() - src_df.Mileage.min()))"
   ]
  },
  {
   "cell_type": "markdown",
   "id": "9bbf152c-160b-4388-93a3-ae5c4ca3b892",
   "metadata": {},
   "source": [
    "Многовато. Натуральный логорифм нам в помощь.<br>\n",
    "Но есть нюанс - нулевые значения. Посмотрим есть ли они и сколько."
   ]
  },
  {
   "cell_type": "code",
   "execution_count": 8,
   "id": "31be135b-845a-4614-a1b7-8f82971408b4",
   "metadata": {},
   "outputs": [
    {
     "data": {
      "text/plain": [
       "Price      53308\n",
       "Year           0\n",
       "Mileage        0\n",
       "City           0\n",
       "State          0\n",
       "Make           0\n",
       "Model          0\n",
       "dtype: int64"
      ]
     },
     "execution_count": 8,
     "metadata": {},
     "output_type": "execute_result"
    }
   ],
   "source": [
    "src_df.isin([0]).sum()"
   ]
  },
  {
   "cell_type": "markdown",
   "id": "8703f026-0104-4934-af3a-09055f9bd2e7",
   "metadata": {},
   "source": [
    "Нда. В этом датасете хоть что-то в порядке?<br>\n",
    "Получается, автомобили с нулевой ценой это что? Заберите даром? Ну такое, в принципе, возможно. Но только для очень старых или битых автомобилей. "
   ]
  },
  {
   "cell_type": "code",
   "execution_count": 9,
   "id": "61fd6821-c6a4-413a-984a-3a05fe545f90",
   "metadata": {},
   "outputs": [
    {
     "name": "stdout",
     "output_type": "stream",
     "text": [
      "2018\n"
     ]
    }
   ],
   "source": [
    "print(src_df['Year'].max())"
   ]
  },
  {
   "cell_type": "code",
   "execution_count": 10,
   "id": "de9edaa5-2878-41c8-a28e-a176195b8d84",
   "metadata": {},
   "outputs": [
    {
     "data": {
      "text/html": [
       "<div>\n",
       "<style scoped>\n",
       "    .dataframe tbody tr th:only-of-type {\n",
       "        vertical-align: middle;\n",
       "    }\n",
       "\n",
       "    .dataframe tbody tr th {\n",
       "        vertical-align: top;\n",
       "    }\n",
       "\n",
       "    .dataframe thead th {\n",
       "        text-align: right;\n",
       "    }\n",
       "</style>\n",
       "<table border=\"1\" class=\"dataframe\">\n",
       "  <thead>\n",
       "    <tr style=\"text-align: right;\">\n",
       "      <th></th>\n",
       "      <th>Price</th>\n",
       "      <th>Year</th>\n",
       "      <th>Mileage</th>\n",
       "      <th>City</th>\n",
       "      <th>State</th>\n",
       "      <th>Make</th>\n",
       "      <th>Model</th>\n",
       "    </tr>\n",
       "  </thead>\n",
       "  <tbody>\n",
       "    <tr>\n",
       "      <th>4</th>\n",
       "      <td>0</td>\n",
       "      <td>2016</td>\n",
       "      <td>NaN</td>\n",
       "      <td>Lindon</td>\n",
       "      <td>UT</td>\n",
       "      <td>Acura</td>\n",
       "      <td>ILXAutomatic</td>\n",
       "    </tr>\n",
       "    <tr>\n",
       "      <th>49</th>\n",
       "      <td>0</td>\n",
       "      <td>2014</td>\n",
       "      <td>16848.0</td>\n",
       "      <td>Clearwater</td>\n",
       "      <td>FL</td>\n",
       "      <td>Acura</td>\n",
       "      <td>ILX5-Speed</td>\n",
       "    </tr>\n",
       "    <tr>\n",
       "      <th>74</th>\n",
       "      <td>0</td>\n",
       "      <td>2014</td>\n",
       "      <td>21064.0</td>\n",
       "      <td>Stanton</td>\n",
       "      <td>CA</td>\n",
       "      <td>Acura</td>\n",
       "      <td>TSX5-Speed</td>\n",
       "    </tr>\n",
       "    <tr>\n",
       "      <th>79</th>\n",
       "      <td>0</td>\n",
       "      <td>2015</td>\n",
       "      <td>18583.0</td>\n",
       "      <td>Montclair</td>\n",
       "      <td>CA</td>\n",
       "      <td>Acura</td>\n",
       "      <td>ILX5-Speed</td>\n",
       "    </tr>\n",
       "    <tr>\n",
       "      <th>91</th>\n",
       "      <td>0</td>\n",
       "      <td>2012</td>\n",
       "      <td>81301.0</td>\n",
       "      <td>Homestead</td>\n",
       "      <td>FL</td>\n",
       "      <td>Acura</td>\n",
       "      <td>NaN</td>\n",
       "    </tr>\n",
       "    <tr>\n",
       "      <th>...</th>\n",
       "      <td>...</td>\n",
       "      <td>...</td>\n",
       "      <td>...</td>\n",
       "      <td>...</td>\n",
       "      <td>...</td>\n",
       "      <td>...</td>\n",
       "      <td>...</td>\n",
       "    </tr>\n",
       "    <tr>\n",
       "      <th>852015</th>\n",
       "      <td>0</td>\n",
       "      <td>2016</td>\n",
       "      <td>43699.0</td>\n",
       "      <td>Odessa</td>\n",
       "      <td>TX</td>\n",
       "      <td>Volvo</td>\n",
       "      <td>XC90AWD</td>\n",
       "    </tr>\n",
       "    <tr>\n",
       "      <th>852044</th>\n",
       "      <td>0</td>\n",
       "      <td>2016</td>\n",
       "      <td>14942.0</td>\n",
       "      <td>Clive</td>\n",
       "      <td>IA</td>\n",
       "      <td>Volvo</td>\n",
       "      <td>XC90AWD</td>\n",
       "    </tr>\n",
       "    <tr>\n",
       "      <th>852060</th>\n",
       "      <td>0</td>\n",
       "      <td>2016</td>\n",
       "      <td>18435.0</td>\n",
       "      <td>Oak Park</td>\n",
       "      <td>IL</td>\n",
       "      <td>Volvo</td>\n",
       "      <td>XC90AWD</td>\n",
       "    </tr>\n",
       "    <tr>\n",
       "      <th>852095</th>\n",
       "      <td>0</td>\n",
       "      <td>2017</td>\n",
       "      <td>3335.0</td>\n",
       "      <td>Concord</td>\n",
       "      <td>NH</td>\n",
       "      <td>Volvo</td>\n",
       "      <td>V90</td>\n",
       "    </tr>\n",
       "    <tr>\n",
       "      <th>852108</th>\n",
       "      <td>0</td>\n",
       "      <td>2017</td>\n",
       "      <td>8.0</td>\n",
       "      <td>San Leandro</td>\n",
       "      <td>CA</td>\n",
       "      <td>Volvo</td>\n",
       "      <td>NaN</td>\n",
       "    </tr>\n",
       "  </tbody>\n",
       "</table>\n",
       "<p>53043 rows × 7 columns</p>\n",
       "</div>"
      ],
      "text/plain": [
       "        Price  Year  Mileage         City State   Make         Model\n",
       "4           0  2016      NaN       Lindon    UT  Acura  ILXAutomatic\n",
       "49          0  2014  16848.0   Clearwater    FL  Acura    ILX5-Speed\n",
       "74          0  2014  21064.0      Stanton    CA  Acura    TSX5-Speed\n",
       "79          0  2015  18583.0    Montclair    CA  Acura    ILX5-Speed\n",
       "91          0  2012  81301.0    Homestead    FL  Acura           NaN\n",
       "...       ...   ...      ...          ...   ...    ...           ...\n",
       "852015      0  2016  43699.0       Odessa    TX  Volvo       XC90AWD\n",
       "852044      0  2016  14942.0        Clive    IA  Volvo       XC90AWD\n",
       "852060      0  2016  18435.0     Oak Park    IL  Volvo       XC90AWD\n",
       "852095      0  2017   3335.0      Concord    NH  Volvo           V90\n",
       "852108      0  2017      8.0  San Leandro    CA  Volvo           NaN\n",
       "\n",
       "[53043 rows x 7 columns]"
      ]
     },
     "execution_count": 10,
     "metadata": {},
     "output_type": "execute_result"
    }
   ],
   "source": [
    "wrong_price_mask = (src_df['Year'] > (2000)) & (src_df['Price'] == 0)\n",
    "src_df.loc[wrong_price_mask]"
   ]
  },
  {
   "cell_type": "markdown",
   "id": "f5358361-9f9d-4693-b07a-f386bf8ed911",
   "metadata": {},
   "source": [
    "Поскольку у нас нет никаких данных о состоянии автомобиля, предположу, что это ошибка ввода. Именно эти значения мне и нужно будет предсказать в итоге."
   ]
  },
  {
   "cell_type": "code",
   "execution_count": 11,
   "id": "e1019d19-3f55-43a3-ad99-3b277e7199fa",
   "metadata": {},
   "outputs": [
    {
     "name": "stdout",
     "output_type": "stream",
     "text": [
      "Original:\n",
      "-----\n",
      "729827    17300\n",
      "825968    12615\n",
      "353439    22995\n",
      "477184    53692\n",
      "282908    20900\n",
      "Name: Price, dtype: int64\n",
      "\n",
      "Ln applyed:\n",
      "-----\n",
      "729827     9.758462\n",
      "825968     9.442642\n",
      "353439    10.043032\n",
      "477184    10.891019\n",
      "282908     9.947504\n",
      "Name: Price, dtype: float64\n",
      "\n"
     ]
    }
   ],
   "source": [
    "print(\"Original:\\n-----\\n{}\\n\".format(src_df['Price'].sample(n=5, random_state=42)))\n",
    "\n",
    "src_df['Price'] = src_df.apply(lambda x: np.log(x.Price) if x.Price != 0 else 0, axis=1)\n",
    "\n",
    "print(\"Ln applyed:\\n-----\\n{}\\n\".format(src_df['Price'].sample(n=5, random_state=42)))"
   ]
  },
  {
   "cell_type": "code",
   "execution_count": 12,
   "id": "29772637-23e8-44b4-bb67-da18cf396fd3",
   "metadata": {},
   "outputs": [
    {
     "data": {
      "text/plain": [
       "Price      53308\n",
       "Year           0\n",
       "Mileage        0\n",
       "City           0\n",
       "State          0\n",
       "Make           0\n",
       "Model          0\n",
       "dtype: int64"
      ]
     },
     "execution_count": 12,
     "metadata": {},
     "output_type": "execute_result"
    }
   ],
   "source": [
    "src_df.isin([0]).sum()"
   ]
  },
  {
   "cell_type": "markdown",
   "id": "0bedce48-d708-495c-8d26-a795ee54ccb9",
   "metadata": {},
   "source": [
    "Как видно, нулевые значения не стали np.inf."
   ]
  },
  {
   "cell_type": "code",
   "execution_count": 13,
   "id": "ce3b51b2-e262-4b65-9158-9d2f05a2c9b9",
   "metadata": {
    "tags": []
   },
   "outputs": [
    {
     "name": "stdout",
     "output_type": "stream",
     "text": [
      "Original:\n",
      "-----\n",
      "729827    53490.0\n",
      "825968    41451.0\n",
      "353439    32655.0\n",
      "477184        NaN\n",
      "282908    34284.0\n",
      "Name: Mileage, dtype: float64\n",
      "\n",
      "Ln applyed:\n",
      "-----\n",
      "729827    10.887250\n",
      "825968    10.632267\n",
      "353439    10.393753\n",
      "477184          NaN\n",
      "282908    10.442434\n",
      "Name: Mileage, dtype: float64\n",
      "\n"
     ]
    }
   ],
   "source": [
    "print(\"Original:\\n-----\\n{}\\n\".format(src_df['Mileage'].sample(n=5, random_state=42)))\n",
    "src_df['Mileage'] = src_df['Mileage'].apply(np.log)\n",
    "print(\"Ln applyed:\\n-----\\n{}\\n\".format(src_df['Mileage'].sample(n=5, random_state=42)))"
   ]
  },
  {
   "cell_type": "markdown",
   "id": "b9459adb-7c57-48b6-8ed6-bd774173cd50",
   "metadata": {
    "tags": []
   },
   "source": [
    "Год производства. Сам по себе этот параметр мало что значит. Попробую переделать его в возраст (Age). <br>\n",
    "1 if Age <= 5<br>\n",
    "2 if 5 < Age <= 10<br>\n",
    "3 if 10 < Age <= 20<br>\n",
    "4 if 20 < Age<br>"
   ]
  },
  {
   "cell_type": "markdown",
   "id": "68e017f0-3bd4-49f1-8833-3caba71ad3ce",
   "metadata": {},
   "source": [
    "И тут произошло интересное. Я год из числового значения перевёл в категориальное."
   ]
  },
  {
   "cell_type": "markdown",
   "id": "3c932bd6-dac3-46dd-a966-401a044eec30",
   "metadata": {},
   "source": [
    "**Категориальные данные.**"
   ]
  },
  {
   "cell_type": "markdown",
   "id": "74c02421-4732-43da-90b3-0e9d40f906a4",
   "metadata": {},
   "source": [
    "Тут всё не слишком сложно. Есть две основные методики оформить категориальные данные. Подстановка числового (выбранного по разным алгоритмам) значения или унитарный код (Hash, по сути, вариант унитарного кода). <br>\n",
    "Просто взглянув на унитарный код становится понятно, что придется добавить много предикторов и всё станет не очень наглядно. Но есть один нюанс. Если просто подставить числа, то как понять, что модель автомобиля с числом 1 равнозначна модели с числом 2300? Да вобщем никак.<br>\n",
    "Унитарный же код, если вспомнить уравнение линейной регрессии, позволяет моментально выкинуть (за счет нулевых значений предикторов) целый пласт значений из расчета. Тем самым, по идее, должна вырости точность модели. Посмотрим. "
   ]
  },
  {
   "cell_type": "markdown",
   "id": "34eafea7-0b39-487b-b8a0-a2967b2281d4",
   "metadata": {},
   "source": [
    "Добавлю новые столбцы - Age_0_5, Age_6_10, Age_11_20, Age_20_. "
   ]
  },
  {
   "cell_type": "code",
   "execution_count": 14,
   "id": "e169ba24-ebb3-4f78-be01-3739abc536e5",
   "metadata": {},
   "outputs": [],
   "source": [
    "max_year = src_df['Year'].max()\n",
    "\n",
    "age_0_5 = list()\n",
    "age_6_10 = list()\n",
    "age_11_20 = list()\n",
    "age_20_ = list()\n",
    "\n",
    "for year in src_df['Year']:\n",
    "    age = max_year - year\n",
    "    if age <= 5:\n",
    "        age_0_5.append(1)\n",
    "        age_6_10.append(0)\n",
    "        age_11_20.append(0)\n",
    "        age_20_.append(0)\n",
    "    elif age > 5 and age <=10:\n",
    "        age_0_5.append(0)\n",
    "        age_6_10.append(1)\n",
    "        age_11_20.append(0)\n",
    "        age_20_.append(0)\n",
    "    elif age > 10 and age <=20:\n",
    "        age_0_5.append(0)\n",
    "        age_6_10.append(0)\n",
    "        age_11_20.append(1)\n",
    "        age_20_.append(0)\n",
    "    elif age > 20:\n",
    "        age_0_5.append(0)\n",
    "        age_6_10.append(0)\n",
    "        age_11_20.append(0)\n",
    "        age_20_.append(1)\n",
    "    else:\n",
    "        age_0_5.append(0)\n",
    "        age_6_10.append(0)\n",
    "        age_11_20.append(0)\n",
    "        age_20_.append(0)\n",
    "\n",
    "src_df['Age_0_5'] = age_0_5\n",
    "src_df['Age_6_10'] = age_6_10\n",
    "src_df['Age_11_20'] = age_11_20\n",
    "src_df['Age_20_'] = age_20_\n",
    "\n",
    "del age_0_5\n",
    "del age_6_10\n",
    "del age_11_20\n",
    "del age_20_"
   ]
  },
  {
   "cell_type": "code",
   "execution_count": 15,
   "id": "13e14946-05d6-402b-99bc-5eb87d2caf3c",
   "metadata": {},
   "outputs": [
    {
     "name": "stdout",
     "output_type": "stream",
     "text": [
      "-----\n",
      "            Price  Year    Mileage         City State       Make       Model  \\\n",
      "514487  10.462846  2016        NaN   Schaumburg    IL       Jeep    Wrangler   \n",
      "655545  10.092950  2016   8.543835        Logan    UT     Nissan         NaN   \n",
      "115181   8.612322  2005  11.761542        Ceres    CA  Chevrolet  Equinox4dr   \n",
      "798167   9.391661  2007  11.704215  Blairsville    GA     Toyota  Sequoia2WD   \n",
      "355181   9.902987  2014  10.725204    Homestead    FL        GMC   AcadiaFWD   \n",
      "\n",
      "        Age_0_5  Age_6_10  Age_11_20  Age_20_  \n",
      "514487        1         0          0        0  \n",
      "655545        1         0          0        0  \n",
      "115181        0         0          1        0  \n",
      "798167        0         0          1        0  \n",
      "355181        1         0          0        0  \n",
      "\n"
     ]
    }
   ],
   "source": [
    "print(\"-----\\n{}\\n\".format(src_df.sample(n=5)))"
   ]
  },
  {
   "cell_type": "markdown",
   "id": "a214e402-53d4-425f-bbd4-1efccd6c8dc8",
   "metadata": {},
   "source": [
    "Попробую посмотреть корреляции."
   ]
  },
  {
   "cell_type": "code",
   "execution_count": 16,
   "id": "4669a82f-8484-4d46-b65f-c660c58c0c4b",
   "metadata": {},
   "outputs": [
    {
     "data": {
      "image/png": "[encoded data removed]",
      "text/plain": [
       "<Figure size 432x288 with 2 Axes>"
      ]
     },
     "metadata": {},
     "output_type": "display_data"
    }
   ],
   "source": [
    "src_df.drop(['Year'], axis=1, inplace=True)\n",
    "\n",
    "sns.set_style(style='white')\n",
    "sns.set_palette(sns.color_palette(\"BrBG\"))\n",
    "\n",
    "numeric_df = src_df.select_dtypes(include=['float64', 'int64'])\n",
    "numeric_df = numeric_df.loc[(src_df['Price'] != 0) & (src_df['Mileage'] != np.NaN) & (src_df['Model'] != np.NaN)]\n",
    "\n",
    "sns.heatmap(numeric_df.corr(), annot=True, vmin=-2, vmax=2)\n",
    "\n",
    "del numeric_df"
   ]
  },
  {
   "cell_type": "markdown",
   "id": "8392af74-7666-4072-b41c-4408c71f4d50",
   "metadata": {},
   "source": [
    "Ну, ничего катастрофического я тут не вижу."
   ]
  },
  {
   "cell_type": "markdown",
   "id": "688bf2d0-ab2d-43c0-b01b-d449b79731b5",
   "metadata": {},
   "source": [
    "Попробую то же самое сделать с моделью и штатом. А вот город, пожалуй вобще исключу из исследования. Я не вижу, каким образом город может влиять на цену."
   ]
  },
  {
   "cell_type": "code",
   "execution_count": 17,
   "id": "a75fd781-4d07-4afa-91dc-aef44c565245",
   "metadata": {},
   "outputs": [],
   "source": [
    "src_df.drop(['City'], axis=1, inplace=True)"
   ]
  },
  {
   "cell_type": "code",
   "execution_count": 18,
   "id": "5f6c55a8-1dc0-4f63-aff4-055145990af9",
   "metadata": {},
   "outputs": [],
   "source": [
    "states_one_hot = pd.get_dummies(src_df['State'])\n",
    "\n",
    "src_df.drop(['State'], axis=1, inplace=True)\n",
    "\n",
    "src_df = src_df.join(states_one_hot, how='right', rsuffix=\"state_\")\n",
    "\n",
    "del states_one_hot"
   ]
  },
  {
   "cell_type": "code",
   "execution_count": 19,
   "id": "ab62eb22-baf3-4273-9086-a69658b59c6b",
   "metadata": {},
   "outputs": [],
   "source": [
    "models_one_hot = pd.get_dummies(src_df['Model'])\n",
    "\n",
    "src_df = src_df.join(models_one_hot, how='right', rsuffix=\"model_\")\n",
    "\n",
    "del models_one_hot"
   ]
  },
  {
   "cell_type": "code",
   "execution_count": 20,
   "id": "d43daba9-dece-4e7f-88fb-2b33a7db5f04",
   "metadata": {},
   "outputs": [],
   "source": [
    "makes_one_hot = pd.get_dummies(src_df['Make'])\n",
    "\n",
    "src_df.drop(['Make'], axis=1, inplace=True)\n",
    "\n",
    "src_df = src_df.join(makes_one_hot, how='right', rsuffix=\"make_\")\n",
    "\n",
    "del makes_one_hot"
   ]
  },
  {
   "cell_type": "code",
   "execution_count": 21,
   "id": "a2569efe-964c-4c22-a188-2a63f78a3552",
   "metadata": {},
   "outputs": [
    {
     "data": {
      "text/plain": [
       "(852122, 2818)"
      ]
     },
     "execution_count": 21,
     "metadata": {},
     "output_type": "execute_result"
    }
   ],
   "source": [
    "src_df.shape"
   ]
  },
  {
   "cell_type": "markdown",
   "id": "f3b00c94-d2b6-4a9b-9975-d9ccbc4b60c5",
   "metadata": {},
   "source": [
    "Количество столбцов настораживает."
   ]
  },
  {
   "cell_type": "code",
   "execution_count": 22,
   "id": "17a96457-30af-4575-adee-3d7a9856c7d8",
   "metadata": {},
   "outputs": [
    {
     "data": {
      "text/plain": [
       "Price              0\n",
       "Mileage       120943\n",
       "Model          77122\n",
       "Age_0_5            0\n",
       "Age_6_10           0\n",
       "               ...  \n",
       "Tesla              0\n",
       "Toyota             0\n",
       "Volkswagen         0\n",
       "Volvo              0\n",
       "smart              0\n",
       "Length: 2818, dtype: int64"
      ]
     },
     "execution_count": 22,
     "metadata": {},
     "output_type": "execute_result"
    }
   ],
   "source": [
    "src_df.isna().sum()"
   ]
  },
  {
   "cell_type": "code",
   "execution_count": 23,
   "id": "97ee8ef6-def7-4e6d-ba6a-8162e0101ab1",
   "metadata": {},
   "outputs": [
    {
     "name": "stdout",
     "output_type": "stream",
     "text": [
      "<class 'pandas.core.frame.DataFrame'>\n",
      "RangeIndex: 852122 entries, 0 to 852121\n",
      "Columns: 2818 entries, Price to smart\n",
      "dtypes: float64(2), int64(4), object(1), uint8(2811)\n",
      "memory usage: 2.3+ GB\n"
     ]
    }
   ],
   "source": [
    "src_df.info()"
   ]
  },
  {
   "cell_type": "markdown",
   "id": "41df17ff-da70-4b12-a6ac-5acdde270bdb",
   "metadata": {},
   "source": [
    "Немного (ну совсем чуть-чуть) выросло потребление памяти... В 40 раз..."
   ]
  },
  {
   "cell_type": "code",
   "execution_count": 24,
   "id": "b81de7d8-3068-40bf-a17c-be0db9ad5460",
   "metadata": {},
   "outputs": [],
   "source": [
    "#src_df.head"
   ]
  },
  {
   "cell_type": "markdown",
   "id": "d0e7e71d-9e48-48da-b0a5-52d994ceb155",
   "metadata": {},
   "source": [
    "## **Импутация данных.**"
   ]
  },
  {
   "cell_type": "markdown",
   "id": "f6924011-d74d-4c18-99dc-21d4f005bedf",
   "metadata": {},
   "source": [
    "И вот тольо теперь я могу попробовать импутировать недостающие данные..."
   ]
  }
 ],
 "metadata": {
  "kernelspec": {
   "display_name": "Python 3 (ipykernel)",
   "language": "python",
   "name": "python3"
  },
  "language_info": {
   "codemirror_mode": {
    "name": "ipython",
    "version": 3
   },
   "file_extension": ".py",
   "mimetype": "text/x-python",
   "name": "python",
   "nbconvert_exporter": "python",
   "pygments_lexer": "ipython3",
   "version": "3.8.10"
  }
 },
 "nbformat": 4,
 "nbformat_minor": 5
}
