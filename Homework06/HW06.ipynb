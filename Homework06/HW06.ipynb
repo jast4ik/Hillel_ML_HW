{
 "cells": [
  {
   "cell_type": "markdown",
   "id": "e1f13a22-1105-4f96-9f58-9f2cf136b2e3",
   "metadata": {},
   "source": [
    "## **Импорт и анализ данных.**"
   ]
  },
  {
   "cell_type": "code",
   "execution_count": 1,
   "id": "3ab2c1eb-7c60-4fbb-80d1-e730def17c99",
   "metadata": {},
   "outputs": [],
   "source": [
    "import pandas as pd\n",
    "from sklearn.linear_model import SGDRegressor\n",
    "from sklearn.neighbors import KNeighborsClassifier\n",
    "from sklearn.preprocessing import LabelEncoder, OneHotEncoder\n",
    "from sklearn.metrics import r2_score\n",
    "from sklearn.model_selection import KFold\n",
    "from sklearn.model_selection import train_test_split\n",
    "from sklearn.linear_model import Ridge\n",
    "from sklearn.linear_model import LinearRegression\n",
    "from sklearn import svm\n",
    "import matplotlib.pyplot as plt\n",
    "from sklearn import linear_model\n",
    "import numpy as np\n",
    "import seaborn as sns\n",
    "import gc, sys"
   ]
  },
  {
   "cell_type": "code",
   "execution_count": 2,
   "id": "570ca3c6-7afb-4214-bb0d-e95fa6022459",
   "metadata": {},
   "outputs": [],
   "source": [
    "gc.enable()"
   ]
  },
  {
   "cell_type": "code",
   "execution_count": 3,
   "id": "24f06595-25e1-4e46-9474-b3c11d7abe7f",
   "metadata": {},
   "outputs": [],
   "source": [
    "def obj_size_fmt(num):\n",
    "    if num<10**3:\n",
    "        return \"{:.2f}{}\".format(num,\"B\")\n",
    "    elif ((num>=10**3)&(num<10**6)):\n",
    "        return \"{:.2f}{}\".format(num/(1.024*10**3),\"KB\")\n",
    "    elif ((num>=10**6)&(num<10**9)):\n",
    "        return \"{:.2f}{}\".format(num/(1.024*10**6),\"MB\")\n",
    "    else:\n",
    "        return \"{:.2f}{}\".format(num/(1.024*10**9),\"GB\")\n",
    "\n",
    "\n",
    "def memory_usage():\n",
    "    memory_usage_by_variable = pd.DataFrame({k:sys.getsizeof(v) for (k,v) in globals().items()},index=['Size'])    \n",
    "    memory_usage_by_variable = memory_usage_by_variable.T    \n",
    "    memory_usage_by_variable = memory_usage_by_variable.sort_values(by='Size',ascending=False).head(10)   \n",
    "    memory_usage_by_variable['Size'] = memory_usage_by_variable['Size'].apply(lambda x: obj_size_fmt(x))    \n",
    "    return memory_usage_by_variable"
   ]
  },
  {
   "cell_type": "markdown",
   "id": "f8390bdb-2650-431f-902e-117aff770676",
   "metadata": {},
   "source": [
    "Проверим данные на отсутствующие значения."
   ]
  },
  {
   "cell_type": "code",
   "execution_count": 4,
   "id": "6e4e899a-345a-42dc-8b06-86bc9cb8772d",
   "metadata": {},
   "outputs": [
    {
     "data": {
      "text/plain": [
       "Price           0\n",
       "Year            0\n",
       "Mileage    120943\n",
       "City            0\n",
       "State           0\n",
       "Vin             0\n",
       "Make            0\n",
       "Model       77122\n",
       "dtype: int64"
      ]
     },
     "execution_count": 4,
     "metadata": {},
     "output_type": "execute_result"
    }
   ],
   "source": [
    "src_df = pd.read_csv('true_car_listings_prepeared.csv')\n",
    "\n",
    "src_df.isna().sum()"
   ]
  },
  {
   "cell_type": "markdown",
   "id": "d8e180aa-a25d-4099-88cf-f26487e66431",
   "metadata": {},
   "source": [
    "Не очень хорошо, но не смертельно."
   ]
  },
  {
   "cell_type": "markdown",
   "id": "8b696740-a9ed-45ea-949a-b5b1f10f28ef",
   "metadata": {},
   "source": [
    "**Для начала нужно осмыслить данные, не затронутые порчей.**"
   ]
  },
  {
   "cell_type": "markdown",
   "id": "47af9af2-4315-44cb-bbd6-78bcb56f5365",
   "metadata": {},
   "source": [
    "Посмотрим на типы данных."
   ]
  },
  {
   "cell_type": "code",
   "execution_count": 5,
   "id": "2645fba4-c413-4acc-a6d3-cdf18f68b44e",
   "metadata": {
    "tags": []
   },
   "outputs": [
    {
     "data": {
      "text/plain": [
       "Price        int64\n",
       "Year         int64\n",
       "Mileage    float64\n",
       "City        object\n",
       "State       object\n",
       "Vin         object\n",
       "Make        object\n",
       "Model       object\n",
       "dtype: object"
      ]
     },
     "execution_count": 5,
     "metadata": {},
     "output_type": "execute_result"
    }
   ],
   "source": [
    "src_df.dtypes"
   ]
  },
  {
   "cell_type": "code",
   "execution_count": 6,
   "id": "a76819c0-757b-4ba6-8a7b-7224a5ccdd6b",
   "metadata": {
    "tags": []
   },
   "outputs": [
    {
     "name": "stdout",
     "output_type": "stream",
     "text": [
      "<class 'pandas.core.frame.DataFrame'>\n",
      "RangeIndex: 852122 entries, 0 to 852121\n",
      "Data columns (total 8 columns):\n",
      " #   Column   Non-Null Count   Dtype  \n",
      "---  ------   --------------   -----  \n",
      " 0   Price    852122 non-null  int64  \n",
      " 1   Year     852122 non-null  int64  \n",
      " 2   Mileage  731179 non-null  float64\n",
      " 3   City     852122 non-null  object \n",
      " 4   State    852122 non-null  object \n",
      " 5   Vin      852122 non-null  object \n",
      " 6   Make     852122 non-null  object \n",
      " 7   Model    775000 non-null  object \n",
      "dtypes: float64(1), int64(2), object(5)\n",
      "memory usage: 52.0+ MB\n"
     ]
    }
   ],
   "source": [
    "src_df.info()"
   ]
  },
  {
   "cell_type": "markdown",
   "id": "2580f456-3d15-41cb-b103-63fcfd913714",
   "metadata": {},
   "source": [
    "Памяти не много, так что оставлю как есть."
   ]
  },
  {
   "cell_type": "code",
   "execution_count": 7,
   "id": "dad8b629-c9e5-4e0c-9bad-f18a5cc69348",
   "metadata": {},
   "outputs": [
    {
     "data": {
      "text/html": [
       "<div>\n",
       "<style scoped>\n",
       "    .dataframe tbody tr th:only-of-type {\n",
       "        vertical-align: middle;\n",
       "    }\n",
       "\n",
       "    .dataframe tbody tr th {\n",
       "        vertical-align: top;\n",
       "    }\n",
       "\n",
       "    .dataframe thead th {\n",
       "        text-align: right;\n",
       "    }\n",
       "</style>\n",
       "<table border=\"1\" class=\"dataframe\">\n",
       "  <thead>\n",
       "    <tr style=\"text-align: right;\">\n",
       "      <th></th>\n",
       "      <th>Size</th>\n",
       "    </tr>\n",
       "  </thead>\n",
       "  <tbody>\n",
       "    <tr>\n",
       "      <th>src_df</th>\n",
       "      <td>290.51MB</td>\n",
       "    </tr>\n",
       "    <tr>\n",
       "      <th>_</th>\n",
       "      <td>1.60KB</td>\n",
       "    </tr>\n",
       "    <tr>\n",
       "      <th>_5</th>\n",
       "      <td>1.60KB</td>\n",
       "    </tr>\n",
       "    <tr>\n",
       "      <th>LabelEncoder</th>\n",
       "      <td>1.04KB</td>\n",
       "    </tr>\n",
       "    <tr>\n",
       "      <th>LinearRegression</th>\n",
       "      <td>1.04KB</td>\n",
       "    </tr>\n",
       "    <tr>\n",
       "      <th>Ridge</th>\n",
       "      <td>1.04KB</td>\n",
       "    </tr>\n",
       "    <tr>\n",
       "      <th>KFold</th>\n",
       "      <td>1.04KB</td>\n",
       "    </tr>\n",
       "    <tr>\n",
       "      <th>OneHotEncoder</th>\n",
       "      <td>1.04KB</td>\n",
       "    </tr>\n",
       "    <tr>\n",
       "      <th>KNeighborsClassifier</th>\n",
       "      <td>1.04KB</td>\n",
       "    </tr>\n",
       "    <tr>\n",
       "      <th>SGDRegressor</th>\n",
       "      <td>1.04KB</td>\n",
       "    </tr>\n",
       "  </tbody>\n",
       "</table>\n",
       "</div>"
      ],
      "text/plain": [
       "                          Size\n",
       "src_df                290.51MB\n",
       "_                       1.60KB\n",
       "_5                      1.60KB\n",
       "LabelEncoder            1.04KB\n",
       "LinearRegression        1.04KB\n",
       "Ridge                   1.04KB\n",
       "KFold                   1.04KB\n",
       "OneHotEncoder           1.04KB\n",
       "KNeighborsClassifier    1.04KB\n",
       "SGDRegressor            1.04KB"
      ]
     },
     "execution_count": 7,
     "metadata": {},
     "output_type": "execute_result"
    }
   ],
   "source": [
    "memory_usage()"
   ]
  },
  {
   "cell_type": "markdown",
   "id": "0732c6c9-ad8a-47ed-93ef-12052b256095",
   "metadata": {},
   "source": [
    "VIN точно никак ни на что не влияет, поскольку это изначально уникальный идентификатор. Удаляем."
   ]
  },
  {
   "cell_type": "code",
   "execution_count": 8,
   "id": "df32b8a4-d14f-42cb-9556-d360af0d9612",
   "metadata": {},
   "outputs": [
    {
     "name": "stdout",
     "output_type": "stream",
     "text": [
      "Dataframe:\n",
      "\t-Columns:Index(['Price', 'Year', 'Mileage', 'City', 'State', 'Vin', 'Make', 'Model'], dtype='object')\n",
      "\t-Rows count:852122\n",
      "\n"
     ]
    }
   ],
   "source": [
    "print(\"Dataframe:\\n\\t-Columns:{}\\n\\t-Rows count:{}\\n\".format(src_df.columns, src_df.shape[0]))"
   ]
  },
  {
   "cell_type": "code",
   "execution_count": 9,
   "id": "649c6a96-6ffd-4e9f-b404-99b83a51f556",
   "metadata": {},
   "outputs": [
    {
     "name": "stdout",
     "output_type": "stream",
     "text": [
      "Dataframe:\n",
      "\t-Columns:Index(['Price', 'Year', 'Mileage', 'City', 'State', 'Make', 'Model'], dtype='object')\n",
      "\t-Rows count:852122\n",
      "\n"
     ]
    }
   ],
   "source": [
    "src_df.drop(['Vin'], axis=1, inplace=True)\n",
    "print(\"Dataframe:\\n\\t-Columns:{}\\n\\t-Rows count:{}\\n\".format(src_df.columns, src_df.shape[0]))"
   ]
  },
  {
   "cell_type": "markdown",
   "id": "16231c19-ce11-4079-9775-66bffeffdec2",
   "metadata": {},
   "source": [
    "Посмотрим на диапазоны цены и пробега."
   ]
  },
  {
   "cell_type": "code",
   "execution_count": 10,
   "id": "3510d4bc-bda0-4382-a632-8bb0f7ff0876",
   "metadata": {},
   "outputs": [
    {
     "name": "stdout",
     "output_type": "stream",
     "text": [
      "Range of prices is:\t499500\n",
      "Range of mileage is:\t2856191.0\n"
     ]
    }
   ],
   "source": [
    "print(\"Range of prices is:\\t{}\".format(src_df.Price.max() - src_df.Price.min()))\n",
    "print(\"Range of mileage is:\\t{}\".format(src_df.Mileage.max() - src_df.Mileage.min()))"
   ]
  },
  {
   "cell_type": "markdown",
   "id": "9bbf152c-160b-4388-93a3-ae5c4ca3b892",
   "metadata": {},
   "source": [
    "Многовато. Натуральный логорифм нам в помощь.<br>\n",
    "Но есть нюанс - нулевые значения. Посмотрим есть ли они и сколько."
   ]
  },
  {
   "cell_type": "code",
   "execution_count": 11,
   "id": "31be135b-845a-4614-a1b7-8f82971408b4",
   "metadata": {},
   "outputs": [
    {
     "data": {
      "text/plain": [
       "Price      53308\n",
       "Year           0\n",
       "Mileage        0\n",
       "City           0\n",
       "State          0\n",
       "Make           0\n",
       "Model          0\n",
       "dtype: int64"
      ]
     },
     "execution_count": 11,
     "metadata": {},
     "output_type": "execute_result"
    }
   ],
   "source": [
    "src_df.isin([0]).sum()"
   ]
  },
  {
   "cell_type": "markdown",
   "id": "8703f026-0104-4934-af3a-09055f9bd2e7",
   "metadata": {},
   "source": [
    "Нда. В этом датасете хоть что-то в порядке?<br>\n",
    "Получается, автомобили с нулевой ценой это что? Заберите даром? Ну такое, в принципе, возможно. Но только для очень старых или битых автомобилей. "
   ]
  },
  {
   "cell_type": "code",
   "execution_count": 12,
   "id": "61fd6821-c6a4-413a-984a-3a05fe545f90",
   "metadata": {},
   "outputs": [
    {
     "name": "stdout",
     "output_type": "stream",
     "text": [
      "2018\n"
     ]
    }
   ],
   "source": [
    "print(src_df['Year'].max())"
   ]
  },
  {
   "cell_type": "code",
   "execution_count": 13,
   "id": "de9edaa5-2878-41c8-a28e-a176195b8d84",
   "metadata": {},
   "outputs": [
    {
     "data": {
      "text/html": [
       "<div>\n",
       "<style scoped>\n",
       "    .dataframe tbody tr th:only-of-type {\n",
       "        vertical-align: middle;\n",
       "    }\n",
       "\n",
       "    .dataframe tbody tr th {\n",
       "        vertical-align: top;\n",
       "    }\n",
       "\n",
       "    .dataframe thead th {\n",
       "        text-align: right;\n",
       "    }\n",
       "</style>\n",
       "<table border=\"1\" class=\"dataframe\">\n",
       "  <thead>\n",
       "    <tr style=\"text-align: right;\">\n",
       "      <th></th>\n",
       "      <th>Price</th>\n",
       "      <th>Year</th>\n",
       "      <th>Mileage</th>\n",
       "      <th>City</th>\n",
       "      <th>State</th>\n",
       "      <th>Make</th>\n",
       "      <th>Model</th>\n",
       "    </tr>\n",
       "  </thead>\n",
       "  <tbody>\n",
       "    <tr>\n",
       "      <th>4</th>\n",
       "      <td>0</td>\n",
       "      <td>2016</td>\n",
       "      <td>NaN</td>\n",
       "      <td>Lindon</td>\n",
       "      <td>UT</td>\n",
       "      <td>Acura</td>\n",
       "      <td>ILXAutomatic</td>\n",
       "    </tr>\n",
       "    <tr>\n",
       "      <th>49</th>\n",
       "      <td>0</td>\n",
       "      <td>2014</td>\n",
       "      <td>16848.0</td>\n",
       "      <td>Clearwater</td>\n",
       "      <td>FL</td>\n",
       "      <td>Acura</td>\n",
       "      <td>ILX5-Speed</td>\n",
       "    </tr>\n",
       "    <tr>\n",
       "      <th>74</th>\n",
       "      <td>0</td>\n",
       "      <td>2014</td>\n",
       "      <td>21064.0</td>\n",
       "      <td>Stanton</td>\n",
       "      <td>CA</td>\n",
       "      <td>Acura</td>\n",
       "      <td>TSX5-Speed</td>\n",
       "    </tr>\n",
       "    <tr>\n",
       "      <th>79</th>\n",
       "      <td>0</td>\n",
       "      <td>2015</td>\n",
       "      <td>18583.0</td>\n",
       "      <td>Montclair</td>\n",
       "      <td>CA</td>\n",
       "      <td>Acura</td>\n",
       "      <td>ILX5-Speed</td>\n",
       "    </tr>\n",
       "    <tr>\n",
       "      <th>91</th>\n",
       "      <td>0</td>\n",
       "      <td>2012</td>\n",
       "      <td>81301.0</td>\n",
       "      <td>Homestead</td>\n",
       "      <td>FL</td>\n",
       "      <td>Acura</td>\n",
       "      <td>NaN</td>\n",
       "    </tr>\n",
       "    <tr>\n",
       "      <th>...</th>\n",
       "      <td>...</td>\n",
       "      <td>...</td>\n",
       "      <td>...</td>\n",
       "      <td>...</td>\n",
       "      <td>...</td>\n",
       "      <td>...</td>\n",
       "      <td>...</td>\n",
       "    </tr>\n",
       "    <tr>\n",
       "      <th>852015</th>\n",
       "      <td>0</td>\n",
       "      <td>2016</td>\n",
       "      <td>43699.0</td>\n",
       "      <td>Odessa</td>\n",
       "      <td>TX</td>\n",
       "      <td>Volvo</td>\n",
       "      <td>XC90AWD</td>\n",
       "    </tr>\n",
       "    <tr>\n",
       "      <th>852044</th>\n",
       "      <td>0</td>\n",
       "      <td>2016</td>\n",
       "      <td>14942.0</td>\n",
       "      <td>Clive</td>\n",
       "      <td>IA</td>\n",
       "      <td>Volvo</td>\n",
       "      <td>XC90AWD</td>\n",
       "    </tr>\n",
       "    <tr>\n",
       "      <th>852060</th>\n",
       "      <td>0</td>\n",
       "      <td>2016</td>\n",
       "      <td>18435.0</td>\n",
       "      <td>Oak Park</td>\n",
       "      <td>IL</td>\n",
       "      <td>Volvo</td>\n",
       "      <td>XC90AWD</td>\n",
       "    </tr>\n",
       "    <tr>\n",
       "      <th>852095</th>\n",
       "      <td>0</td>\n",
       "      <td>2017</td>\n",
       "      <td>3335.0</td>\n",
       "      <td>Concord</td>\n",
       "      <td>NH</td>\n",
       "      <td>Volvo</td>\n",
       "      <td>V90</td>\n",
       "    </tr>\n",
       "    <tr>\n",
       "      <th>852108</th>\n",
       "      <td>0</td>\n",
       "      <td>2017</td>\n",
       "      <td>8.0</td>\n",
       "      <td>San Leandro</td>\n",
       "      <td>CA</td>\n",
       "      <td>Volvo</td>\n",
       "      <td>NaN</td>\n",
       "    </tr>\n",
       "  </tbody>\n",
       "</table>\n",
       "<p>53043 rows × 7 columns</p>\n",
       "</div>"
      ],
      "text/plain": [
       "        Price  Year  Mileage         City State   Make         Model\n",
       "4           0  2016      NaN       Lindon    UT  Acura  ILXAutomatic\n",
       "49          0  2014  16848.0   Clearwater    FL  Acura    ILX5-Speed\n",
       "74          0  2014  21064.0      Stanton    CA  Acura    TSX5-Speed\n",
       "79          0  2015  18583.0    Montclair    CA  Acura    ILX5-Speed\n",
       "91          0  2012  81301.0    Homestead    FL  Acura           NaN\n",
       "...       ...   ...      ...          ...   ...    ...           ...\n",
       "852015      0  2016  43699.0       Odessa    TX  Volvo       XC90AWD\n",
       "852044      0  2016  14942.0        Clive    IA  Volvo       XC90AWD\n",
       "852060      0  2016  18435.0     Oak Park    IL  Volvo       XC90AWD\n",
       "852095      0  2017   3335.0      Concord    NH  Volvo           V90\n",
       "852108      0  2017      8.0  San Leandro    CA  Volvo           NaN\n",
       "\n",
       "[53043 rows x 7 columns]"
      ]
     },
     "execution_count": 13,
     "metadata": {},
     "output_type": "execute_result"
    }
   ],
   "source": [
    "wrong_price_mask = (src_df['Year'] > (2000)) & (src_df['Price'] == 0)\n",
    "src_df.loc[wrong_price_mask]"
   ]
  },
  {
   "cell_type": "markdown",
   "id": "f5358361-9f9d-4693-b07a-f386bf8ed911",
   "metadata": {},
   "source": [
    "Поскольку у нас нет никаких данных о состоянии автомобиля, предположу, что это ошибка ввода. Именно эти значения мне и нужно будет предсказать в итоге."
   ]
  },
  {
   "cell_type": "code",
   "execution_count": 14,
   "id": "e1019d19-3f55-43a3-ad99-3b277e7199fa",
   "metadata": {},
   "outputs": [
    {
     "name": "stdout",
     "output_type": "stream",
     "text": [
      "Original:\n",
      "-----\n",
      "729827    17300\n",
      "825968    12615\n",
      "353439    22995\n",
      "477184    53692\n",
      "282908    20900\n",
      "Name: Price, dtype: int64\n",
      "\n",
      "Ln applyed:\n",
      "-----\n",
      "729827    17300\n",
      "825968    12615\n",
      "353439    22995\n",
      "477184    53692\n",
      "282908    20900\n",
      "Name: Price, dtype: int64\n",
      "\n"
     ]
    }
   ],
   "source": [
    "print(\"Original:\\n-----\\n{}\\n\".format(src_df['Price'].sample(n=5, random_state=42)))\n",
    "\n",
    "#src_df['Price'] = src_df.apply(lambda x: np.log(x.Price) if x.Price != 0 else 0, axis=1)\n",
    "\n",
    "print(\"Ln applyed:\\n-----\\n{}\\n\".format(src_df['Price'].sample(n=5, random_state=42)))"
   ]
  },
  {
   "cell_type": "code",
   "execution_count": 15,
   "id": "29772637-23e8-44b4-bb67-da18cf396fd3",
   "metadata": {},
   "outputs": [
    {
     "data": {
      "text/plain": [
       "Price      53308\n",
       "Year           0\n",
       "Mileage        0\n",
       "City           0\n",
       "State          0\n",
       "Make           0\n",
       "Model          0\n",
       "dtype: int64"
      ]
     },
     "execution_count": 15,
     "metadata": {},
     "output_type": "execute_result"
    }
   ],
   "source": [
    "src_df.isin([0]).sum()"
   ]
  },
  {
   "cell_type": "markdown",
   "id": "0bedce48-d708-495c-8d26-a795ee54ccb9",
   "metadata": {},
   "source": [
    "Как видно, нулевые значения не стали np.inf."
   ]
  },
  {
   "cell_type": "code",
   "execution_count": 16,
   "id": "ce3b51b2-e262-4b65-9158-9d2f05a2c9b9",
   "metadata": {
    "tags": []
   },
   "outputs": [
    {
     "name": "stdout",
     "output_type": "stream",
     "text": [
      "Original:\n",
      "-----\n",
      "729827    53490.0\n",
      "825968    41451.0\n",
      "353439    32655.0\n",
      "477184        NaN\n",
      "282908    34284.0\n",
      "Name: Mileage, dtype: float64\n",
      "\n",
      "Ln applyed:\n",
      "-----\n",
      "729827    53490.0\n",
      "825968    41451.0\n",
      "353439    32655.0\n",
      "477184        NaN\n",
      "282908    34284.0\n",
      "Name: Mileage, dtype: float64\n",
      "\n"
     ]
    }
   ],
   "source": [
    "print(\"Original:\\n-----\\n{}\\n\".format(src_df['Mileage'].sample(n=5, random_state=42)))\n",
    "# src_df['Mileage'] = src_df['Mileage'].apply(np.log)\n",
    "print(\"Ln applyed:\\n-----\\n{}\\n\".format(src_df['Mileage'].sample(n=5, random_state=42)))"
   ]
  },
  {
   "cell_type": "markdown",
   "id": "b9459adb-7c57-48b6-8ed6-bd774173cd50",
   "metadata": {
    "tags": []
   },
   "source": [
    "Год производства. Сам по себе этот параметр мало что значит. Попробую переделать его в возраст (Age). <br>\n",
    "1 if Age <= 5<br>\n",
    "2 if 5 < Age <= 10<br>\n",
    "3 if 10 < Age <= 20<br>\n",
    "4 if 20 < Age<br>"
   ]
  },
  {
   "cell_type": "markdown",
   "id": "68e017f0-3bd4-49f1-8833-3caba71ad3ce",
   "metadata": {},
   "source": [
    "И тут произошло интересное. Я год из числового значения перевёл в категориальное."
   ]
  },
  {
   "cell_type": "markdown",
   "id": "3c932bd6-dac3-46dd-a966-401a044eec30",
   "metadata": {},
   "source": [
    "**Категориальные данные.**"
   ]
  },
  {
   "cell_type": "markdown",
   "id": "74c02421-4732-43da-90b3-0e9d40f906a4",
   "metadata": {},
   "source": [
    "Тут всё не слишком сложно. Есть две основные методики оформить категориальные данные. Подстановка числового (выбранного по разным алгоритмам) значения или унитарный код (Hash, по сути, вариант унитарного кода). <br>\n",
    "Просто взглянув на унитарный код становится понятно, что придется добавить много предикторов и всё станет не очень наглядно. Но есть один нюанс. Если просто подставить числа, то как понять, что модель автомобиля с числом 1 равнозначна модели с числом 2300? Да вобщем никак.<br>\n",
    "Унитарный же код, если вспомнить уравнение линейной регрессии, позволяет моментально выкинуть (за счет нулевых значений предикторов) целый пласт значений из расчета. Тем самым, по идее, должна вырости точность модели. Посмотрим. "
   ]
  },
  {
   "cell_type": "markdown",
   "id": "34eafea7-0b39-487b-b8a0-a2967b2281d4",
   "metadata": {},
   "source": [
    "Добавлю новые столбцы - Age_0_5, Age_6_10, Age_11_20, Age_20_. "
   ]
  },
  {
   "cell_type": "code",
   "execution_count": 17,
   "id": "e169ba24-ebb3-4f78-be01-3739abc536e5",
   "metadata": {},
   "outputs": [],
   "source": [
    "max_year = src_df['Year'].max()\n",
    "\n",
    "age_0_5 = list()\n",
    "age_6_10 = list()\n",
    "age_11_20 = list()\n",
    "age_20_ = list()\n",
    "\n",
    "for year in src_df['Year']:\n",
    "    age = max_year - year\n",
    "    if age <= 5:\n",
    "        age_0_5.append(1)\n",
    "        age_6_10.append(0)\n",
    "        age_11_20.append(0)\n",
    "        age_20_.append(0)\n",
    "    elif age > 5 and age <=10:\n",
    "        age_0_5.append(0)\n",
    "        age_6_10.append(1)\n",
    "        age_11_20.append(0)\n",
    "        age_20_.append(0)\n",
    "    elif age > 10 and age <=20:\n",
    "        age_0_5.append(0)\n",
    "        age_6_10.append(0)\n",
    "        age_11_20.append(1)\n",
    "        age_20_.append(0)\n",
    "    elif age > 20:\n",
    "        age_0_5.append(0)\n",
    "        age_6_10.append(0)\n",
    "        age_11_20.append(0)\n",
    "        age_20_.append(1)\n",
    "    else:\n",
    "        age_0_5.append(0)\n",
    "        age_6_10.append(0)\n",
    "        age_11_20.append(0)\n",
    "        age_20_.append(0)\n",
    "\n",
    "src_df['Age_0_5'] = age_0_5\n",
    "src_df['Age_6_10'] = age_6_10\n",
    "src_df['Age_11_20'] = age_11_20\n",
    "src_df['Age_20_'] = age_20_"
   ]
  },
  {
   "cell_type": "code",
   "execution_count": 18,
   "id": "13e14946-05d6-402b-99bc-5eb87d2caf3c",
   "metadata": {},
   "outputs": [
    {
     "name": "stdout",
     "output_type": "stream",
     "text": [
      "-----\n",
      "        Price  Year   Mileage          City State       Make     Model  \\\n",
      "794484   6900  2007  104042.0  Merrillville    IN     Toyota       NaN   \n",
      "76030   22999  2016   38732.0       Orlando    FL   Cadillac    XTSFWD   \n",
      "371948  37448  2015   58010.0       McAllen    TX        GMC  Yukon2WD   \n",
      "365068  37400  2017   13170.0  Broken Arrow    OK        GMC    Acadia   \n",
      "106650  17977  2017       NaN        Sumter    SC  Chevrolet   TraxFWD   \n",
      "\n",
      "        Age_0_5  Age_6_10  Age_11_20  Age_20_  \n",
      "794484        0         0          1        0  \n",
      "76030         1         0          0        0  \n",
      "371948        1         0          0        0  \n",
      "365068        1         0          0        0  \n",
      "106650        1         0          0        0  \n",
      "\n"
     ]
    }
   ],
   "source": [
    "print(\"-----\\n{}\\n\".format(src_df.sample(n=5)))"
   ]
  },
  {
   "cell_type": "markdown",
   "id": "a214e402-53d4-425f-bbd4-1efccd6c8dc8",
   "metadata": {},
   "source": [
    "Попробую посмотреть корреляции."
   ]
  },
  {
   "cell_type": "code",
   "execution_count": 19,
   "id": "4669a82f-8484-4d46-b65f-c660c58c0c4b",
   "metadata": {},
   "outputs": [
    {
     "data": {
      "text/plain": [
       "<AxesSubplot:>"
      ]
     },
     "execution_count": 19,
     "metadata": {},
     "output_type": "execute_result"
    },
    {
     "data": {
      "image/png": "[encoded data removed]",
      "text/plain": [
       "<Figure size 432x288 with 2 Axes>"
      ]
     },
     "metadata": {},
     "output_type": "display_data"
    }
   ],
   "source": [
    "src_df.drop(['Year'], axis=1, inplace=True)\n",
    "\n",
    "sns.set_style(style='white')\n",
    "sns.set_palette(sns.color_palette(\"BrBG\"))\n",
    "\n",
    "numeric_df = src_df.select_dtypes(include=['float64', 'int64'])\n",
    "numeric_df = numeric_df.loc[(src_df['Price'] != 0) & (src_df['Mileage'] != np.NaN) & (src_df['Model'] != np.NaN)]\n",
    "\n",
    "sns.heatmap(numeric_df.corr(), annot=True, vmin=-2, vmax=2)"
   ]
  },
  {
   "cell_type": "markdown",
   "id": "8392af74-7666-4072-b41c-4408c71f4d50",
   "metadata": {},
   "source": [
    "Ну, ничего катастрофического я тут не вижу."
   ]
  },
  {
   "cell_type": "markdown",
   "id": "688bf2d0-ab2d-43c0-b01b-d449b79731b5",
   "metadata": {},
   "source": [
    "Попробую то же самое сделать с моделью и штатом. А вот город, пожалуй вобще исключу из исследования. Я не вижу, каким образом город может влиять на цену."
   ]
  },
  {
   "cell_type": "code",
   "execution_count": 20,
   "id": "a75fd781-4d07-4afa-91dc-aef44c565245",
   "metadata": {},
   "outputs": [],
   "source": [
    "src_df.drop(['City'], axis=1, inplace=True)"
   ]
  },
  {
   "cell_type": "code",
   "execution_count": 21,
   "id": "5f6c55a8-1dc0-4f63-aff4-055145990af9",
   "metadata": {},
   "outputs": [],
   "source": [
    "states_one_hot = pd.get_dummies(src_df['State'], prefix=\"state\")\n",
    "\n",
    "src_df.drop(['State'], axis=1, inplace=True)\n",
    "\n",
    "src_df = src_df.join(states_one_hot)"
   ]
  },
  {
   "cell_type": "code",
   "execution_count": 22,
   "id": "ab62eb22-baf3-4273-9086-a69658b59c6b",
   "metadata": {},
   "outputs": [],
   "source": [
    "models_one_hot = pd.get_dummies(src_df['Model'], prefix=\"model\")\n",
    "\n",
    "src_df = src_df.join(models_one_hot)"
   ]
  },
  {
   "cell_type": "code",
   "execution_count": 23,
   "id": "d43daba9-dece-4e7f-88fb-2b33a7db5f04",
   "metadata": {},
   "outputs": [],
   "source": [
    "makes_one_hot = pd.get_dummies(src_df['Make'], prefix=\"make\")\n",
    "\n",
    "src_df.drop(['Make'], axis=1, inplace=True)\n",
    "\n",
    "src_df = src_df.join(makes_one_hot)"
   ]
  },
  {
   "cell_type": "code",
   "execution_count": 24,
   "id": "a2569efe-964c-4c22-a188-2a63f78a3552",
   "metadata": {},
   "outputs": [
    {
     "data": {
      "text/plain": [
       "(852122, 2818)"
      ]
     },
     "execution_count": 24,
     "metadata": {},
     "output_type": "execute_result"
    }
   ],
   "source": [
    "src_df.shape"
   ]
  },
  {
   "cell_type": "markdown",
   "id": "f3b00c94-d2b6-4a9b-9975-d9ccbc4b60c5",
   "metadata": {},
   "source": [
    "Количество столбцов настораживает."
   ]
  },
  {
   "cell_type": "code",
   "execution_count": 25,
   "id": "17a96457-30af-4575-adee-3d7a9856c7d8",
   "metadata": {},
   "outputs": [
    {
     "data": {
      "text/plain": [
       "Price                   0\n",
       "Mileage            120943\n",
       "Model               77122\n",
       "Age_0_5                 0\n",
       "Age_6_10                0\n",
       "                    ...  \n",
       "make_Tesla              0\n",
       "make_Toyota             0\n",
       "make_Volkswagen         0\n",
       "make_Volvo              0\n",
       "make_smart              0\n",
       "Length: 2818, dtype: int64"
      ]
     },
     "execution_count": 25,
     "metadata": {},
     "output_type": "execute_result"
    }
   ],
   "source": [
    "src_df.isna().sum()"
   ]
  },
  {
   "cell_type": "code",
   "execution_count": 26,
   "id": "97ee8ef6-def7-4e6d-ba6a-8162e0101ab1",
   "metadata": {},
   "outputs": [
    {
     "name": "stdout",
     "output_type": "stream",
     "text": [
      "<class 'pandas.core.frame.DataFrame'>\n",
      "RangeIndex: 852122 entries, 0 to 852121\n",
      "Columns: 2818 entries, Price to make_smart\n",
      "dtypes: float64(1), int64(5), object(1), uint8(2811)\n",
      "memory usage: 2.3+ GB\n"
     ]
    }
   ],
   "source": [
    "src_df.info()"
   ]
  },
  {
   "cell_type": "markdown",
   "id": "41df17ff-da70-4b12-a6ac-5acdde270bdb",
   "metadata": {},
   "source": [
    "Немного (ну совсем чуть-чуть) выросло потребление памяти... В 40 раз..."
   ]
  },
  {
   "cell_type": "code",
   "execution_count": 27,
   "id": "b81de7d8-3068-40bf-a17c-be0db9ad5460",
   "metadata": {},
   "outputs": [
    {
     "data": {
      "text/html": [
       "<div>\n",
       "<style scoped>\n",
       "    .dataframe tbody tr th:only-of-type {\n",
       "        vertical-align: middle;\n",
       "    }\n",
       "\n",
       "    .dataframe tbody tr th {\n",
       "        vertical-align: top;\n",
       "    }\n",
       "\n",
       "    .dataframe thead th {\n",
       "        text-align: right;\n",
       "    }\n",
       "</style>\n",
       "<table border=\"1\" class=\"dataframe\">\n",
       "  <thead>\n",
       "    <tr style=\"text-align: right;\">\n",
       "      <th></th>\n",
       "      <th>Size</th>\n",
       "    </tr>\n",
       "  </thead>\n",
       "  <tbody>\n",
       "    <tr>\n",
       "      <th>src_df</th>\n",
       "      <td>2.43GB</td>\n",
       "    </tr>\n",
       "    <tr>\n",
       "      <th>models_one_hot</th>\n",
       "      <td>2.24GB</td>\n",
       "    </tr>\n",
       "    <tr>\n",
       "      <th>states_one_hot</th>\n",
       "      <td>49.10MB</td>\n",
       "    </tr>\n",
       "    <tr>\n",
       "      <th>makes_one_hot</th>\n",
       "      <td>48.26MB</td>\n",
       "    </tr>\n",
       "    <tr>\n",
       "      <th>numeric_df</th>\n",
       "      <td>43.69MB</td>\n",
       "    </tr>\n",
       "    <tr>\n",
       "      <th>_13</th>\n",
       "      <td>14.66MB</td>\n",
       "    </tr>\n",
       "    <tr>\n",
       "      <th>age_11_20</th>\n",
       "      <td>6.71MB</td>\n",
       "    </tr>\n",
       "    <tr>\n",
       "      <th>age_20_</th>\n",
       "      <td>6.71MB</td>\n",
       "    </tr>\n",
       "    <tr>\n",
       "      <th>age_6_10</th>\n",
       "      <td>6.71MB</td>\n",
       "    </tr>\n",
       "    <tr>\n",
       "      <th>age_0_5</th>\n",
       "      <td>6.71MB</td>\n",
       "    </tr>\n",
       "  </tbody>\n",
       "</table>\n",
       "</div>"
      ],
      "text/plain": [
       "                   Size\n",
       "src_df           2.43GB\n",
       "models_one_hot   2.24GB\n",
       "states_one_hot  49.10MB\n",
       "makes_one_hot   48.26MB\n",
       "numeric_df      43.69MB\n",
       "_13             14.66MB\n",
       "age_11_20        6.71MB\n",
       "age_20_          6.71MB\n",
       "age_6_10         6.71MB\n",
       "age_0_5          6.71MB"
      ]
     },
     "execution_count": 27,
     "metadata": {},
     "output_type": "execute_result"
    }
   ],
   "source": [
    "memory_usage()"
   ]
  },
  {
   "cell_type": "markdown",
   "id": "d0e7e71d-9e48-48da-b0a5-52d994ceb155",
   "metadata": {},
   "source": [
    "## **Импутация данных.**"
   ]
  },
  {
   "cell_type": "markdown",
   "id": "f6924011-d74d-4c18-99dc-21d4f005bedf",
   "metadata": {},
   "source": [
    "И вот тольо теперь я могу попробовать импутировать недостающие данные..."
   ]
  },
  {
   "cell_type": "markdown",
   "id": "87eaf3ac-3b1b-4d34-90eb-71e96248c8fa",
   "metadata": {},
   "source": [
    "Для начала нужно понять, пересекаются порченные данные или нет."
   ]
  },
  {
   "cell_type": "code",
   "execution_count": 28,
   "id": "3ece96a2-043d-4e08-bd59-93a6411d7832",
   "metadata": {
    "tags": []
   },
   "outputs": [
    {
     "name": "stdout",
     "output_type": "stream",
     "text": [
      "(120943, 2818)\n",
      "10909\n",
      "7634\n"
     ]
    }
   ],
   "source": [
    "corrupted_mileage = src_df.loc[src_df['Mileage'].isna()]\n",
    "\n",
    "print(corrupted_mileage.shape)\n",
    "print(corrupted_mileage['Model'].isna().sum())\n",
    "print(corrupted_mileage['Price'].isin([0]).sum())\n",
    "#corrupted_mileage.head"
   ]
  },
  {
   "cell_type": "code",
   "execution_count": 29,
   "id": "46666893-5661-4f7d-af6b-be78b4abb5cf",
   "metadata": {},
   "outputs": [
    {
     "name": "stdout",
     "output_type": "stream",
     "text": [
      "(103067, 2818)\n"
     ]
    }
   ],
   "source": [
    "corrupted_mileage = corrupted_mileage.loc[(src_df['Price'] != 0) & (~src_df['Model'].isna())]\n",
    "print(corrupted_mileage.shape)"
   ]
  },
  {
   "cell_type": "markdown",
   "id": "18f097a5-ff15-4f04-b4fc-d4f9d2e5cc10",
   "metadata": {},
   "source": [
    "Плохо, но не смертельно. Возможно эти 17 тысяч записей придется выкинуть."
   ]
  },
  {
   "cell_type": "markdown",
   "id": "b84cde64-3559-4617-8440-cf7df033d026",
   "metadata": {},
   "source": [
    "Попробую применить KNN для нахождения пробега. Предикторами будут штат, модель, производитель, возраст и цена."
   ]
  },
  {
   "cell_type": "code",
   "execution_count": 30,
   "id": "879063b1-98f1-4237-ae88-ba389bea672f",
   "metadata": {},
   "outputs": [
    {
     "name": "stdout",
     "output_type": "stream",
     "text": [
      "(623472, 2818)\n",
      "0\n",
      "0\n",
      "0\n"
     ]
    }
   ],
   "source": [
    "clear_df = src_df.loc[(src_df['Price'] != 0) & (~src_df['Mileage'].isna()) & (~src_df['Model'].isna())]\n",
    "print(clear_df.shape)\n",
    "print(clear_df['Price'].isin([0]).sum())\n",
    "print(clear_df['Model'].isna().sum())\n",
    "print(clear_df['Mileage'].isna().sum())"
   ]
  },
  {
   "cell_type": "code",
   "execution_count": 31,
   "id": "943f5ce7-c237-4360-8f11-ceb2e8934097",
   "metadata": {
    "tags": []
   },
   "outputs": [
    {
     "data": {
      "text/html": [
       "<div>\n",
       "<style scoped>\n",
       "    .dataframe tbody tr th:only-of-type {\n",
       "        vertical-align: middle;\n",
       "    }\n",
       "\n",
       "    .dataframe tbody tr th {\n",
       "        vertical-align: top;\n",
       "    }\n",
       "\n",
       "    .dataframe thead th {\n",
       "        text-align: right;\n",
       "    }\n",
       "</style>\n",
       "<table border=\"1\" class=\"dataframe\">\n",
       "  <thead>\n",
       "    <tr style=\"text-align: right;\">\n",
       "      <th></th>\n",
       "      <th>Size</th>\n",
       "    </tr>\n",
       "  </thead>\n",
       "  <tbody>\n",
       "    <tr>\n",
       "      <th>X</th>\n",
       "      <td>1.76GB</td>\n",
       "    </tr>\n",
       "    <tr>\n",
       "      <th>corrupted_mileage</th>\n",
       "      <td>295.14MB</td>\n",
       "    </tr>\n",
       "    <tr>\n",
       "      <th>y</th>\n",
       "      <td>26.25MB</td>\n",
       "    </tr>\n",
       "    <tr>\n",
       "      <th>_13</th>\n",
       "      <td>14.66MB</td>\n",
       "    </tr>\n",
       "    <tr>\n",
       "      <th>__</th>\n",
       "      <td>284.29KB</td>\n",
       "    </tr>\n",
       "    <tr>\n",
       "      <th>_25</th>\n",
       "      <td>284.29KB</td>\n",
       "    </tr>\n",
       "    <tr>\n",
       "      <th>_5</th>\n",
       "      <td>1.60KB</td>\n",
       "    </tr>\n",
       "    <tr>\n",
       "      <th>_27</th>\n",
       "      <td>1.28KB</td>\n",
       "    </tr>\n",
       "    <tr>\n",
       "      <th>_</th>\n",
       "      <td>1.28KB</td>\n",
       "    </tr>\n",
       "    <tr>\n",
       "      <th>_7</th>\n",
       "      <td>1.28KB</td>\n",
       "    </tr>\n",
       "  </tbody>\n",
       "</table>\n",
       "</div>"
      ],
      "text/plain": [
       "                       Size\n",
       "X                    1.76GB\n",
       "corrupted_mileage  295.14MB\n",
       "y                   26.25MB\n",
       "_13                 14.66MB\n",
       "__                 284.29KB\n",
       "_25                284.29KB\n",
       "_5                   1.60KB\n",
       "_27                  1.28KB\n",
       "_                    1.28KB\n",
       "_7                   1.28KB"
      ]
     },
     "execution_count": 31,
     "metadata": {},
     "output_type": "execute_result"
    }
   ],
   "source": [
    "X = clear_df.filter(regex='^Age_',axis=1)\n",
    "X = X.join(clear_df.filter(regex='^state_',axis=1))\n",
    "X = X.join(clear_df.filter(regex='^model_',axis=1))\n",
    "X = X.join(clear_df.filter(regex='^make_',axis=1))\n",
    "X = X.join(clear_df.Price)\n",
    "\n",
    "y = pd.DataFrame(clear_df['Mileage'])\n",
    "\n",
    "clear_df.to_pickle('clear_df.bak')\n",
    "src_df.to_pickle('src_df.bak')\n",
    "\n",
    "del age_0_5\n",
    "del age_6_10\n",
    "del age_11_20\n",
    "del age_20_\n",
    "del numeric_df\n",
    "del states_one_hot\n",
    "del models_one_hot\n",
    "del makes_one_hot\n",
    "del clear_df\n",
    "del src_df\n",
    "del wrong_price_mask\n",
    "\n",
    "gc.collect()\n",
    "memory_usage()"
   ]
  },
  {
   "cell_type": "markdown",
   "id": "0c6830f2-e25e-47de-9969-ec9e41b7f1b5",
   "metadata": {},
   "source": [
    "# **И тут я понял, что в ML памяти много не бывает!**"
   ]
  },
  {
   "cell_type": "code",
   "execution_count": null,
   "id": "aa5ba85c-189a-4983-aac0-a971556a447f",
   "metadata": {},
   "outputs": [
    {
     "name": "stdout",
     "output_type": "stream",
     "text": [
      "Current R2 score for LinearRegression at the moment is:\t-1945699883.7718973.\n",
      "Best R2 score for KNN at the moment is:\t0.21012902904919262.\n",
      "Current R2 score for LinearRegression at the moment is:\t-2106.0649771783037.\n"
     ]
    }
   ],
   "source": [
    "X['Price'] = X['Price'].astype(np.int64)\n",
    "y = y.astype(np.int64)\n",
    "\n",
    "#print(X.head)\n",
    "#print(y.head)\n",
    "\n",
    "X_ = X.sample(frac=0.3, random_state=42)\n",
    "y_ = y.sample(frac=0.3, random_state=42)\n",
    "\n",
    "\n",
    "best_r_model = LinearRegression()\n",
    "best_r_score = 0.0\n",
    "best_knn_model = KNeighborsClassifier()\n",
    "best_knn_score = 0.0\n",
    "\n",
    "k_fold = KFold(n_splits=5, shuffle=True, random_state=42)\n",
    "k_fold.get_n_splits(X_)\n",
    "\n",
    "for train_index, test_index in k_fold.split(X_):\n",
    "    X_train = X_.iloc[train_index]\n",
    "    X_test = X_.iloc[test_index]\n",
    "    y_train = y_.iloc[train_index]\n",
    "    y_test = y_.iloc[test_index]\n",
    "    \n",
    "    r_model = LinearRegression()\n",
    "    r_model.fit(X_train, y_train)\n",
    "    preds = r_model.predict(X_test)\n",
    "    \n",
    "    r2 = r2_score(y_test, preds)\n",
    "    if r2 > best_r_score:\n",
    "        best_r_model = r_model\n",
    "        best_r_score = r2\n",
    "        print(\"Best R2 score for LinearRegression at the moment is:\\t{}.\".format(r2))\n",
    "    else:\n",
    "        print(\"Current R2 score for LinearRegression at the moment is:\\t{}.\".format(r2))\n",
    "        \n",
    "    knn_model = KNeighborsClassifier(n_neighbors=3)\n",
    "    knn_model.fit(X_train, y_train.values.ravel())\n",
    "    knn_preds = knn_model.predict(X_test)\n",
    "    \n",
    "    r2 = r2_score(y_test, knn_preds)\n",
    "    if r2 > best_knn_score:\n",
    "        best_knn_model = knn_model\n",
    "        best_knn_score = r2\n",
    "        print(\"Best R2 score for KNN at the moment is:\\t{}.\".format(r2))\n",
    "    else:\n",
    "        print(\"Current R2 score for KNN at the moment is:\\t{}.\".format(r2))\n",
    "\n",
    "        \n",
    "print (\"KFold done.\")\n",
    "\n",
    "\n",
    "#model.fit(X_train, y_train)        \n",
    "#print(y.head)"
   ]
  },
  {
   "cell_type": "code",
   "execution_count": null,
   "id": "065a1924-113b-40d4-9365-c9a7eca712a7",
   "metadata": {},
   "outputs": [],
   "source": [
    "#preds = model.predict(X_test)\n",
    "\n",
    "#print(\"R^2: \", r2_score(y_test, preds))"
   ]
  },
  {
   "cell_type": "markdown",
   "id": "401a59f4-f5f1-4775-9f9a-b0055abf4eab",
   "metadata": {},
   "source": [
    "Лучше, чем наугад, но плохо..."
   ]
  },
  {
   "cell_type": "markdown",
   "id": "5fb88c30-04ce-4f9e-a6ae-be0d45b814ae",
   "metadata": {},
   "source": [
    "Попробую методом тыка. Научного, само собой!!!"
   ]
  },
  {
   "cell_type": "code",
   "execution_count": null,
   "id": "2aea05ed-1f5b-41c0-ae90-9f3bfcf7e97e",
   "metadata": {},
   "outputs": [],
   "source": [
    "#X_ = X.sample(frac=0.25, random_state=42)\n",
    "#y_ = y.sample(frac=0.25, random_state=42)\n",
    "\n",
    "\n",
    "#X_train, X_test, y_train, y_test = train_test_split(X_, y_, test_size=0.75)\n",
    "\n",
    "classifiers = [\n",
    "    #svm.SVR()\n",
    "    #linear_model.Ridge(),\n",
    "    #linear_model.Lasso(),\n",
    "    #linear_model.SGDRegressor(),\n",
    "    #linear_model.BayesianRidge(),\n",
    "    #linear_model.LassoLars(),\n",
    "    #linear_model.ARDRegression(),\n",
    "    #linear_model.PassiveAggressiveRegressor(),\n",
    "    #linear_model.TheilSenRegressor(),\n",
    "    #linear_model.LinearRegression()\n",
    "]\n",
    "\n",
    "for item in classifiers:\n",
    "    model = item\n",
    "    model.fit(X_train, y_train)#.values.ravel()) \n",
    "    preds = model.predict(X_test)\n",
    "    print(\"R2 score for {} is:\\t{}.\".format(item, r2_score(y_test, preds)))"
   ]
  },
  {
   "cell_type": "markdown",
   "id": "1e9e82c4-e696-4751-bec7-e2cbf6772825",
   "metadata": {},
   "source": [
    "0.6410646403641409 - price year no cat<br>\n",
    "0.577232476900628 - price year_cat<br>\n",
    "0.6640694949285478 - price year make_cat<br>\n",
    "0.6909865280529583 - price year make_cat model_cat<br>\n",
    "0.6917988655789165 - price year make_cat model_cat state_cat<br>\n",
    "0.6914529038815127 - price year make_cat model_cat state_cat city<br>\n",
    "0.6901096137806162 - price year make_oh model_cat<br>\n",
    "\n"
   ]
  },
  {
   "cell_type": "code",
   "execution_count": null,
   "id": "2133910d-bff9-4d0e-b6c0-51689322144b",
   "metadata": {},
   "outputs": [],
   "source": []
  }
 ],
 "metadata": {
  "kernelspec": {
   "display_name": "Python 3 (ipykernel)",
   "language": "python",
   "name": "python3"
  },
  "language_info": {
   "codemirror_mode": {
    "name": "ipython",
    "version": 3
   },
   "file_extension": ".py",
   "mimetype": "text/x-python",
   "name": "python",
   "nbconvert_exporter": "python",
   "pygments_lexer": "ipython3",
   "version": "3.8.10"
  }
 },
 "nbformat": 4,
 "nbformat_minor": 5
}
