{
 "cells": [
  {
   "cell_type": "code",
   "execution_count": 81,
   "id": "ed47e22b-53b5-46df-857b-9fd1675714bc",
   "metadata": {},
   "outputs": [],
   "source": [
    "import pandas as pd\n",
    "pd.set_option('float_format', '{:.6f}'.format)\n",
    "pd.options.mode.chained_assignment = None\n",
    "\n",
    "from prince import MCA\n",
    "\n",
    "import numpy as np\n",
    "np.random.RandomState(seed=42)\n",
    "\n",
    "import matplotlib.pyplot as plt\n",
    "\n",
    "import xgboost as xgb\n",
    "\n",
    "from os.path import isfile\n",
    "import pickle\n",
    "import lzma\n",
    "\n",
    "from sklearn.model_selection import train_test_split, KFold\n",
    "from sklearn.metrics import roc_auc_score, accuracy_score\n",
    "from sklearn.preprocessing import StandardScaler, scale\n",
    "from sklearn.cluster import AgglomerativeClustering\n",
    "from sklearn.decomposition import PCA\n",
    "from sklearn.datasets import make_blobs\n",
    "\n",
    "from scipy.cluster.hierarchy import dendrogram\n",
    "from scipy.cluster import hierarchy\n",
    "\n",
    "from imblearn.under_sampling import RandomUnderSampler\n",
    "from imblearn.over_sampling import SMOTE\n",
    "\n",
    "import seaborn as sns\n",
    "\n",
    "from pyclustertend import hopkins, vat"
   ]
  },
  {
   "cell_type": "markdown",
   "id": "bc2714d6-50e2-4470-b22b-3a2445e6674c",
   "metadata": {},
   "source": [
    "## **Импорт и обработка данных**"
   ]
  },
  {
   "cell_type": "markdown",
   "id": "7178ff94-f411-4141-a69d-f2330f34a38f",
   "metadata": {},
   "source": [
    "В предыдущей работе я провел некоторое конструирование признаков. Добавил информацию о NaN, импутировал данные."
   ]
  },
  {
   "cell_type": "markdown",
   "id": "7aa2e899-2e19-477c-b999-a30dd8ebe4eb",
   "metadata": {},
   "source": [
    "Однако для кластеризации эта обработка не подходит ввиду наличия категориальных данных. "
   ]
  },
  {
   "cell_type": "markdown",
   "id": "e9d02990-6b46-42c2-87c5-02e1f5645083",
   "metadata": {},
   "source": [
    "Попробую применить <a href=\"https://en.wikipedia.org/wiki/Multiple_correspondence_analysis\">Multiple Correspondence Analysis (MCA)</a>  для категориальных данных. Использую для этого библиотеку <a href=https://github.com/MaxHalford/prince#multiple-correspondence-analysis-mca>prince</a>."
   ]
  },
  {
   "cell_type": "code",
   "execution_count": 2,
   "id": "a369dc7c-edd4-4324-b69f-71f590c32c68",
   "metadata": {},
   "outputs": [],
   "source": [
    "src_df = pd.read_csv(\"./data/merged_df.csv\", compression='xz')"
   ]
  },
  {
   "cell_type": "markdown",
   "id": "564561a7-3159-4183-83f0-429da5f95c3c",
   "metadata": {},
   "source": [
    "Для начала выброшу TransactionID, isFraud как бесполезные."
   ]
  },
  {
   "cell_type": "code",
   "execution_count": 3,
   "id": "e0e2aca0-068b-4cdb-92f1-0361310939ec",
   "metadata": {},
   "outputs": [],
   "source": [
    "work_df = src_df.drop(['TransactionID', 'isFraud', 'Unnamed: 0'], axis=1)"
   ]
  },
  {
   "cell_type": "code",
   "execution_count": 4,
   "id": "f0f35dfc-9df6-4812-950f-407bd616106d",
   "metadata": {},
   "outputs": [],
   "source": [
    "nan_columns = list(src_df.filter(regex='_nan'))"
   ]
  },
  {
   "cell_type": "code",
   "execution_count": 5,
   "id": "a35aa79c-bfc2-4866-9230-425bf6cc4719",
   "metadata": {},
   "outputs": [],
   "source": [
    "mca_df = work_df[nan_columns]"
   ]
  },
  {
   "cell_type": "markdown",
   "id": "eb4de0f7-a24a-47fb-bde9-4f5f99e6ce09",
   "metadata": {},
   "source": [
    "Категориальными предикторами являются также M5 и id_29. "
   ]
  },
  {
   "cell_type": "code",
   "execution_count": 6,
   "id": "451f5f3d-6cbb-470c-8c7e-dc3b68cd615c",
   "metadata": {},
   "outputs": [],
   "source": [
    "mca_df = mca_df.join(work_df[['M5', 'id_29']])"
   ]
  },
  {
   "cell_type": "code",
   "execution_count": 7,
   "id": "4f895c97-1830-4f46-88f8-f74f170643e9",
   "metadata": {},
   "outputs": [],
   "source": [
    "mca_worker = MCA(n_components=2, n_iter=10, copy=True, check_input=True, engine='auto', random_state=42)"
   ]
  },
  {
   "cell_type": "code",
   "execution_count": 8,
   "id": "92e1dafa-bd2d-4bf1-a165-f0f77cb09224",
   "metadata": {},
   "outputs": [],
   "source": [
    "mca_values = mca_worker.fit_transform(mca_df)"
   ]
  },
  {
   "cell_type": "code",
   "execution_count": 9,
   "id": "8cb9a61f-9d4e-42b0-9fa5-b662c2d0d1b7",
   "metadata": {},
   "outputs": [
    {
     "data": {
      "text/html": [
       "<div>\n",
       "<style scoped>\n",
       "    .dataframe tbody tr th:only-of-type {\n",
       "        vertical-align: middle;\n",
       "    }\n",
       "\n",
       "    .dataframe tbody tr th {\n",
       "        vertical-align: top;\n",
       "    }\n",
       "\n",
       "    .dataframe thead th {\n",
       "        text-align: right;\n",
       "    }\n",
       "</style>\n",
       "<table border=\"1\" class=\"dataframe\">\n",
       "  <thead>\n",
       "    <tr style=\"text-align: right;\">\n",
       "      <th></th>\n",
       "      <th>count</th>\n",
       "      <th>mean</th>\n",
       "      <th>std</th>\n",
       "      <th>min</th>\n",
       "      <th>25%</th>\n",
       "      <th>50%</th>\n",
       "      <th>75%</th>\n",
       "      <th>max</th>\n",
       "    </tr>\n",
       "  </thead>\n",
       "  <tbody>\n",
       "    <tr>\n",
       "      <th>0</th>\n",
       "      <td>144233.000000</td>\n",
       "      <td>-0.056736</td>\n",
       "      <td>0.679294</td>\n",
       "      <td>-1.057185</td>\n",
       "      <td>-0.662898</td>\n",
       "      <td>-0.317881</td>\n",
       "      <td>0.489415</td>\n",
       "      <td>1.485478</td>\n",
       "    </tr>\n",
       "    <tr>\n",
       "      <th>1</th>\n",
       "      <td>144233.000000</td>\n",
       "      <td>-0.083663</td>\n",
       "      <td>0.511396</td>\n",
       "      <td>-0.905093</td>\n",
       "      <td>-0.642106</td>\n",
       "      <td>-0.006409</td>\n",
       "      <td>0.149150</td>\n",
       "      <td>2.782979</td>\n",
       "    </tr>\n",
       "  </tbody>\n",
       "</table>\n",
       "</div>"
      ],
      "text/plain": [
       "          count      mean      std       min       25%       50%      75%  \\\n",
       "0 144233.000000 -0.056736 0.679294 -1.057185 -0.662898 -0.317881 0.489415   \n",
       "1 144233.000000 -0.083663 0.511396 -0.905093 -0.642106 -0.006409 0.149150   \n",
       "\n",
       "       max  \n",
       "0 1.485478  \n",
       "1 2.782979  "
      ]
     },
     "execution_count": 9,
     "metadata": {},
     "output_type": "execute_result"
    }
   ],
   "source": [
    "mca_values.describe().T"
   ]
  },
  {
   "cell_type": "code",
   "execution_count": 10,
   "id": "12df5be6-c03c-4cc6-b97e-5b8cc6ebd849",
   "metadata": {
    "tags": []
   },
   "outputs": [
    {
     "data": {
      "image/png": "[encoded data removed]",
      "text/plain": [
       "<Figure size 720x720 with 1 Axes>"
      ]
     },
     "metadata": {
      "needs_background": "light"
     },
     "output_type": "display_data"
    }
   ],
   "source": [
    "figure, ax = plt.subplots(figsize=(10, 10))\n",
    "mca_values.plot.scatter(x=0, y=1, ax=ax)\n",
    "plt.show()"
   ]
  },
  {
   "cell_type": "markdown",
   "id": "537d5868-809e-40ff-8524-d216c4f447f3",
   "metadata": {
    "tags": []
   },
   "source": [
    "Не знаю, что бы это могло значить, но выглядит вполне научно! :-)"
   ]
  },
  {
   "cell_type": "markdown",
   "id": "0bcd64fb-29a3-449a-886d-2d7c17064876",
   "metadata": {},
   "source": [
    "**Эксперимент**"
   ]
  },
  {
   "cell_type": "markdown",
   "id": "08b74f83-fb1d-4923-8188-9973a7490a3d",
   "metadata": {},
   "source": [
    "Интересно, а какая точность будет у классификатора на этих данных?"
   ]
  },
  {
   "cell_type": "code",
   "execution_count": 11,
   "id": "714c7fc3-612f-4cfe-8a41-c8bf74004470",
   "metadata": {},
   "outputs": [
    {
     "name": "stdout",
     "output_type": "stream",
     "text": [
      "ROC-AUC: 0.943759\n",
      "Accuracy: 0.961314\n"
     ]
    }
   ],
   "source": [
    "test_df = pd.DataFrame(data=mca_values.to_numpy(), columns=['MCA_1', 'MCA_2'])\n",
    "test_df = test_df.join(work_df.drop(nan_columns, axis=1))\n",
    "test_df = test_df.join(src_df[['isFraud']])\n",
    "\n",
    "X = test_df.drop(['isFraud'], axis=1)\n",
    "y = test_df[['isFraud']]\n",
    "\n",
    "X_train, X_test, y_train, y_test = train_test_split(X, y, test_size=0.1, shuffle=True, random_state=42, stratify=y)\n",
    "\n",
    "over_sampler = SMOTE(random_state=42, n_jobs=-1, sampling_strategy='minority')\n",
    "\n",
    "X_train, y_train = over_sampler.fit_resample(X_train, y_train)\n",
    "\n",
    "dm_train = xgb.DMatrix(X_train, y_train)\n",
    "dm_test = xgb.DMatrix(X_test, y_test)\n",
    "\n",
    "xgb_01 = xgb.XGBClassifier\n",
    "\n",
    "if isfile(\"./data/models/xgb_01.xz\"):\n",
    "    with lzma.open(\"./data/models/xgb_01.xz\", \"rb\") as m_file:\n",
    "        xgb_01 = pickle.load(m_file)\n",
    "else:\n",
    "    xgb_01 = xgb.train(\n",
    "        params={\n",
    "            'objective': 'binary:logistic',\n",
    "            'eval_metric': 'auc'\n",
    "        },\n",
    "        dtrain=dm_train,\n",
    "        evals=[(dm_train, \"train\"), (dm_test, \"validation\")],\n",
    "        num_boost_round=10000,\n",
    "        verbose_eval=20,\n",
    "        early_stopping_rounds=25\n",
    "    )\n",
    "    \n",
    "    with lzma.open(\"./data/models/xgb_01.xz\", \"wb\") as m_file:\n",
    "        pickle.dump(xgb_01, m_file)\n",
    "        \n",
    "print(\"ROC-AUC: {:.6f}\".format(roc_auc_score(y_test, xgb_01.predict(dm_test))))\n",
    "print(\"Accuracy: {:.6f}\".format(accuracy_score(y_test, [round(x) for x in xgb_01.predict(dm_test)])))"
   ]
  },
  {
   "cell_type": "markdown",
   "id": "6e9babb9-60e7-4fb2-99ca-bf1778fe97c0",
   "metadata": {},
   "source": [
    "Ну, по крайней мере, радикального падения точности не произошло. "
   ]
  },
  {
   "cell_type": "markdown",
   "id": "96ae1161-8cbe-4935-ae31-74b62a874fb5",
   "metadata": {},
   "source": [
    "## **Кластеризация**"
   ]
  },
  {
   "cell_type": "markdown",
   "id": "65796c98-af06-4e1c-80b8-27a5f503fa69",
   "metadata": {},
   "source": [
    "**Стандартизация и сборка рабочего датасета**"
   ]
  },
  {
   "cell_type": "code",
   "execution_count": 12,
   "id": "9f993e6b-fba4-4927-935c-d954af4d8042",
   "metadata": {},
   "outputs": [
    {
     "data": {
      "text/html": [
       "<div>\n",
       "<style scoped>\n",
       "    .dataframe tbody tr th:only-of-type {\n",
       "        vertical-align: middle;\n",
       "    }\n",
       "\n",
       "    .dataframe tbody tr th {\n",
       "        vertical-align: top;\n",
       "    }\n",
       "\n",
       "    .dataframe thead th {\n",
       "        text-align: right;\n",
       "    }\n",
       "</style>\n",
       "<table border=\"1\" class=\"dataframe\">\n",
       "  <thead>\n",
       "    <tr style=\"text-align: right;\">\n",
       "      <th></th>\n",
       "      <th>count</th>\n",
       "      <th>mean</th>\n",
       "      <th>std</th>\n",
       "      <th>min</th>\n",
       "      <th>25%</th>\n",
       "      <th>50%</th>\n",
       "      <th>75%</th>\n",
       "      <th>max</th>\n",
       "    </tr>\n",
       "  </thead>\n",
       "  <tbody>\n",
       "    <tr>\n",
       "      <th>id_04</th>\n",
       "      <td>144233.000000</td>\n",
       "      <td>-0.000000</td>\n",
       "      <td>1.000003</td>\n",
       "      <td>-39.341701</td>\n",
       "      <td>0.083712</td>\n",
       "      <td>0.083712</td>\n",
       "      <td>0.083712</td>\n",
       "      <td>0.083712</td>\n",
       "    </tr>\n",
       "    <tr>\n",
       "      <th>id_20</th>\n",
       "      <td>144233.000000</td>\n",
       "      <td>-0.000000</td>\n",
       "      <td>1.000003</td>\n",
       "      <td>-2.014836</td>\n",
       "      <td>-0.911266</td>\n",
       "      <td>0.379246</td>\n",
       "      <td>0.863753</td>\n",
       "      <td>1.714698</td>\n",
       "    </tr>\n",
       "    <tr>\n",
       "      <th>id_24</th>\n",
       "      <td>144233.000000</td>\n",
       "      <td>0.000000</td>\n",
       "      <td>1.000003</td>\n",
       "      <td>-1.574710</td>\n",
       "      <td>-0.771115</td>\n",
       "      <td>-0.118692</td>\n",
       "      <td>0.684903</td>\n",
       "      <td>10.359866</td>\n",
       "    </tr>\n",
       "    <tr>\n",
       "      <th>id_33</th>\n",
       "      <td>144233.000000</td>\n",
       "      <td>-0.000000</td>\n",
       "      <td>1.000003</td>\n",
       "      <td>-1.983769</td>\n",
       "      <td>-0.914988</td>\n",
       "      <td>0.367548</td>\n",
       "      <td>0.670369</td>\n",
       "      <td>2.629800</td>\n",
       "    </tr>\n",
       "    <tr>\n",
       "      <th>id_22</th>\n",
       "      <td>144233.000000</td>\n",
       "      <td>0.000000</td>\n",
       "      <td>1.000003</td>\n",
       "      <td>-1.433587</td>\n",
       "      <td>-1.010588</td>\n",
       "      <td>-0.343894</td>\n",
       "      <td>1.009307</td>\n",
       "      <td>1.934556</td>\n",
       "    </tr>\n",
       "    <tr>\n",
       "      <th>id_02</th>\n",
       "      <td>144233.000000</td>\n",
       "      <td>-0.000000</td>\n",
       "      <td>1.000003</td>\n",
       "      <td>-1.114309</td>\n",
       "      <td>-0.678375</td>\n",
       "      <td>-0.301370</td>\n",
       "      <td>0.369431</td>\n",
       "      <td>5.176942</td>\n",
       "    </tr>\n",
       "    <tr>\n",
       "      <th>D4</th>\n",
       "      <td>144233.000000</td>\n",
       "      <td>0.000000</td>\n",
       "      <td>1.000003</td>\n",
       "      <td>-1.114616</td>\n",
       "      <td>-0.488223</td>\n",
       "      <td>-0.485732</td>\n",
       "      <td>-0.159479</td>\n",
       "      <td>6.070044</td>\n",
       "    </tr>\n",
       "    <tr>\n",
       "      <th>card1</th>\n",
       "      <td>144233.000000</td>\n",
       "      <td>0.000000</td>\n",
       "      <td>1.000003</td>\n",
       "      <td>-1.759047</td>\n",
       "      <td>-0.825341</td>\n",
       "      <td>-0.048738</td>\n",
       "      <td>1.027015</td>\n",
       "      <td>1.687325</td>\n",
       "    </tr>\n",
       "    <tr>\n",
       "      <th>card2</th>\n",
       "      <td>144233.000000</td>\n",
       "      <td>0.000000</td>\n",
       "      <td>1.000003</td>\n",
       "      <td>-1.816341</td>\n",
       "      <td>-0.793345</td>\n",
       "      <td>0.104896</td>\n",
       "      <td>0.959472</td>\n",
       "      <td>1.302550</td>\n",
       "    </tr>\n",
       "    <tr>\n",
       "      <th>card3</th>\n",
       "      <td>144233.000000</td>\n",
       "      <td>0.000000</td>\n",
       "      <td>1.000003</td>\n",
       "      <td>-3.178650</td>\n",
       "      <td>-0.601975</td>\n",
       "      <td>-0.601975</td>\n",
       "      <td>1.201697</td>\n",
       "      <td>3.572238</td>\n",
       "    </tr>\n",
       "    <tr>\n",
       "      <th>addr1</th>\n",
       "      <td>144233.000000</td>\n",
       "      <td>-0.000000</td>\n",
       "      <td>1.000003</td>\n",
       "      <td>-2.367076</td>\n",
       "      <td>-0.597400</td>\n",
       "      <td>-0.021182</td>\n",
       "      <td>0.426778</td>\n",
       "      <td>2.819826</td>\n",
       "    </tr>\n",
       "    <tr>\n",
       "      <th>addr2</th>\n",
       "      <td>144233.000000</td>\n",
       "      <td>0.000000</td>\n",
       "      <td>1.000003</td>\n",
       "      <td>-4.200349</td>\n",
       "      <td>-0.958499</td>\n",
       "      <td>0.792100</td>\n",
       "      <td>0.792100</td>\n",
       "      <td>1.764655</td>\n",
       "    </tr>\n",
       "    <tr>\n",
       "      <th>TransactionAmt</th>\n",
       "      <td>144233.000000</td>\n",
       "      <td>-0.000000</td>\n",
       "      <td>1.000003</td>\n",
       "      <td>-0.834287</td>\n",
       "      <td>-0.581889</td>\n",
       "      <td>-0.336050</td>\n",
       "      <td>0.164702</td>\n",
       "      <td>17.190255</td>\n",
       "    </tr>\n",
       "    <tr>\n",
       "      <th>C13</th>\n",
       "      <td>144233.000000</td>\n",
       "      <td>-0.000000</td>\n",
       "      <td>1.000003</td>\n",
       "      <td>-0.123856</td>\n",
       "      <td>-0.117819</td>\n",
       "      <td>-0.117819</td>\n",
       "      <td>-0.111783</td>\n",
       "      <td>17.490594</td>\n",
       "    </tr>\n",
       "    <tr>\n",
       "      <th>D10</th>\n",
       "      <td>144233.000000</td>\n",
       "      <td>0.000000</td>\n",
       "      <td>1.000003</td>\n",
       "      <td>-0.325213</td>\n",
       "      <td>-0.325213</td>\n",
       "      <td>-0.325213</td>\n",
       "      <td>-0.281418</td>\n",
       "      <td>9.265841</td>\n",
       "    </tr>\n",
       "    <tr>\n",
       "      <th>D1</th>\n",
       "      <td>144233.000000</td>\n",
       "      <td>-0.000000</td>\n",
       "      <td>1.000003</td>\n",
       "      <td>-0.308814</td>\n",
       "      <td>-0.308814</td>\n",
       "      <td>-0.308814</td>\n",
       "      <td>-0.308814</td>\n",
       "      <td>6.399132</td>\n",
       "    </tr>\n",
       "    <tr>\n",
       "      <th>V225</th>\n",
       "      <td>144233.000000</td>\n",
       "      <td>0.000000</td>\n",
       "      <td>1.000003</td>\n",
       "      <td>-0.193285</td>\n",
       "      <td>-0.193285</td>\n",
       "      <td>-0.193285</td>\n",
       "      <td>-0.193285</td>\n",
       "      <td>41.267260</td>\n",
       "    </tr>\n",
       "    <tr>\n",
       "      <th>V277</th>\n",
       "      <td>144233.000000</td>\n",
       "      <td>-0.000000</td>\n",
       "      <td>1.000003</td>\n",
       "      <td>-0.085008</td>\n",
       "      <td>-0.085008</td>\n",
       "      <td>-0.085008</td>\n",
       "      <td>-0.085008</td>\n",
       "      <td>145.366275</td>\n",
       "    </tr>\n",
       "    <tr>\n",
       "      <th>V243</th>\n",
       "      <td>144233.000000</td>\n",
       "      <td>-0.000000</td>\n",
       "      <td>1.000003</td>\n",
       "      <td>-0.931331</td>\n",
       "      <td>-0.190139</td>\n",
       "      <td>-0.190139</td>\n",
       "      <td>-0.190139</td>\n",
       "      <td>41.316568</td>\n",
       "    </tr>\n",
       "    <tr>\n",
       "      <th>V40</th>\n",
       "      <td>144233.000000</td>\n",
       "      <td>-0.000000</td>\n",
       "      <td>1.000003</td>\n",
       "      <td>-1.821818</td>\n",
       "      <td>-0.114095</td>\n",
       "      <td>-0.114095</td>\n",
       "      <td>-0.097017</td>\n",
       "      <td>39.163555</td>\n",
       "    </tr>\n",
       "    <tr>\n",
       "      <th>V46</th>\n",
       "      <td>144233.000000</td>\n",
       "      <td>0.000000</td>\n",
       "      <td>1.000003</td>\n",
       "      <td>-4.809144</td>\n",
       "      <td>-0.176275</td>\n",
       "      <td>-0.176275</td>\n",
       "      <td>-0.176275</td>\n",
       "      <td>22.988066</td>\n",
       "    </tr>\n",
       "    <tr>\n",
       "      <th>V244</th>\n",
       "      <td>144233.000000</td>\n",
       "      <td>0.000000</td>\n",
       "      <td>1.000003</td>\n",
       "      <td>-1.635279</td>\n",
       "      <td>-0.260289</td>\n",
       "      <td>-0.260289</td>\n",
       "      <td>-0.260289</td>\n",
       "      <td>28.614507</td>\n",
       "    </tr>\n",
       "    <tr>\n",
       "      <th>V274</th>\n",
       "      <td>144233.000000</td>\n",
       "      <td>0.000000</td>\n",
       "      <td>1.000003</td>\n",
       "      <td>-0.097082</td>\n",
       "      <td>-0.097082</td>\n",
       "      <td>-0.097082</td>\n",
       "      <td>-0.097082</td>\n",
       "      <td>53.845972</td>\n",
       "    </tr>\n",
       "    <tr>\n",
       "      <th>V73</th>\n",
       "      <td>144233.000000</td>\n",
       "      <td>0.000000</td>\n",
       "      <td>1.000003</td>\n",
       "      <td>-0.803157</td>\n",
       "      <td>-0.803157</td>\n",
       "      <td>-0.803157</td>\n",
       "      <td>1.048693</td>\n",
       "      <td>12.159794</td>\n",
       "    </tr>\n",
       "    <tr>\n",
       "      <th>V147</th>\n",
       "      <td>144233.000000</td>\n",
       "      <td>-0.000000</td>\n",
       "      <td>1.000003</td>\n",
       "      <td>-0.350964</td>\n",
       "      <td>-0.350964</td>\n",
       "      <td>-0.350964</td>\n",
       "      <td>-0.041602</td>\n",
       "      <td>31.822692</td>\n",
       "    </tr>\n",
       "    <tr>\n",
       "      <th>MCA_1</th>\n",
       "      <td>144233.000000</td>\n",
       "      <td>-0.056736</td>\n",
       "      <td>0.679294</td>\n",
       "      <td>-1.057185</td>\n",
       "      <td>-0.662898</td>\n",
       "      <td>-0.317881</td>\n",
       "      <td>0.489415</td>\n",
       "      <td>1.485478</td>\n",
       "    </tr>\n",
       "    <tr>\n",
       "      <th>MCA_2</th>\n",
       "      <td>144233.000000</td>\n",
       "      <td>-0.083663</td>\n",
       "      <td>0.511396</td>\n",
       "      <td>-0.905093</td>\n",
       "      <td>-0.642106</td>\n",
       "      <td>-0.006409</td>\n",
       "      <td>0.149150</td>\n",
       "      <td>2.782979</td>\n",
       "    </tr>\n",
       "  </tbody>\n",
       "</table>\n",
       "</div>"
      ],
      "text/plain": [
       "                       count      mean      std        min       25%  \\\n",
       "id_04          144233.000000 -0.000000 1.000003 -39.341701  0.083712   \n",
       "id_20          144233.000000 -0.000000 1.000003  -2.014836 -0.911266   \n",
       "id_24          144233.000000  0.000000 1.000003  -1.574710 -0.771115   \n",
       "id_33          144233.000000 -0.000000 1.000003  -1.983769 -0.914988   \n",
       "id_22          144233.000000  0.000000 1.000003  -1.433587 -1.010588   \n",
       "id_02          144233.000000 -0.000000 1.000003  -1.114309 -0.678375   \n",
       "D4             144233.000000  0.000000 1.000003  -1.114616 -0.488223   \n",
       "card1          144233.000000  0.000000 1.000003  -1.759047 -0.825341   \n",
       "card2          144233.000000  0.000000 1.000003  -1.816341 -0.793345   \n",
       "card3          144233.000000  0.000000 1.000003  -3.178650 -0.601975   \n",
       "addr1          144233.000000 -0.000000 1.000003  -2.367076 -0.597400   \n",
       "addr2          144233.000000  0.000000 1.000003  -4.200349 -0.958499   \n",
       "TransactionAmt 144233.000000 -0.000000 1.000003  -0.834287 -0.581889   \n",
       "C13            144233.000000 -0.000000 1.000003  -0.123856 -0.117819   \n",
       "D10            144233.000000  0.000000 1.000003  -0.325213 -0.325213   \n",
       "D1             144233.000000 -0.000000 1.000003  -0.308814 -0.308814   \n",
       "V225           144233.000000  0.000000 1.000003  -0.193285 -0.193285   \n",
       "V277           144233.000000 -0.000000 1.000003  -0.085008 -0.085008   \n",
       "V243           144233.000000 -0.000000 1.000003  -0.931331 -0.190139   \n",
       "V40            144233.000000 -0.000000 1.000003  -1.821818 -0.114095   \n",
       "V46            144233.000000  0.000000 1.000003  -4.809144 -0.176275   \n",
       "V244           144233.000000  0.000000 1.000003  -1.635279 -0.260289   \n",
       "V274           144233.000000  0.000000 1.000003  -0.097082 -0.097082   \n",
       "V73            144233.000000  0.000000 1.000003  -0.803157 -0.803157   \n",
       "V147           144233.000000 -0.000000 1.000003  -0.350964 -0.350964   \n",
       "MCA_1          144233.000000 -0.056736 0.679294  -1.057185 -0.662898   \n",
       "MCA_2          144233.000000 -0.083663 0.511396  -0.905093 -0.642106   \n",
       "\n",
       "                     50%       75%        max  \n",
       "id_04           0.083712  0.083712   0.083712  \n",
       "id_20           0.379246  0.863753   1.714698  \n",
       "id_24          -0.118692  0.684903  10.359866  \n",
       "id_33           0.367548  0.670369   2.629800  \n",
       "id_22          -0.343894  1.009307   1.934556  \n",
       "id_02          -0.301370  0.369431   5.176942  \n",
       "D4             -0.485732 -0.159479   6.070044  \n",
       "card1          -0.048738  1.027015   1.687325  \n",
       "card2           0.104896  0.959472   1.302550  \n",
       "card3          -0.601975  1.201697   3.572238  \n",
       "addr1          -0.021182  0.426778   2.819826  \n",
       "addr2           0.792100  0.792100   1.764655  \n",
       "TransactionAmt -0.336050  0.164702  17.190255  \n",
       "C13            -0.117819 -0.111783  17.490594  \n",
       "D10            -0.325213 -0.281418   9.265841  \n",
       "D1             -0.308814 -0.308814   6.399132  \n",
       "V225           -0.193285 -0.193285  41.267260  \n",
       "V277           -0.085008 -0.085008 145.366275  \n",
       "V243           -0.190139 -0.190139  41.316568  \n",
       "V40            -0.114095 -0.097017  39.163555  \n",
       "V46            -0.176275 -0.176275  22.988066  \n",
       "V244           -0.260289 -0.260289  28.614507  \n",
       "V274           -0.097082 -0.097082  53.845972  \n",
       "V73            -0.803157  1.048693  12.159794  \n",
       "V147           -0.350964 -0.041602  31.822692  \n",
       "MCA_1          -0.317881  0.489415   1.485478  \n",
       "MCA_2          -0.006409  0.149150   2.782979  "
      ]
     },
     "execution_count": 12,
     "metadata": {},
     "output_type": "execute_result"
    }
   ],
   "source": [
    "zscored_data = StandardScaler().fit_transform(work_df.drop(nan_columns, axis=1))\n",
    "\n",
    "clust_df = pd.DataFrame(\n",
    "    data=zscored_data,\n",
    "    columns=work_df.drop(nan_columns, axis=1).columns.values\n",
    ")\n",
    "\n",
    "clust_df.drop(['id_29', 'M5'], axis=1, inplace=True)\n",
    "clust_df = clust_df.join(pd.DataFrame(data=mca_values.to_numpy(), columns=['MCA_1', 'MCA_2']))\n",
    "\n",
    "clust_df.describe().T"
   ]
  },
  {
   "cell_type": "markdown",
   "id": "2eff3629-1f46-4a48-bf37-2fd711cc45f9",
   "metadata": {},
   "source": [
    "**Clustering tendency**"
   ]
  },
  {
   "cell_type": "markdown",
   "id": "f65c672a-ea43-468b-bc18-03537de82ea2",
   "metadata": {},
   "source": [
    "Мне стало интересно, а насколько вобще мои данные подходят для кластеризации? Оказалось, не только мне."
   ]
  },
  {
   "cell_type": "code",
   "execution_count": 27,
   "id": "35b71ef9-5e4b-43cb-b928-64e4f69c47b6",
   "metadata": {},
   "outputs": [
    {
     "name": "stdout",
     "output_type": "stream",
     "text": [
      "Clustering tendency is 0.0172.\n"
     ]
    }
   ],
   "source": [
    "c_tendency = -1.0\n",
    "\n",
    "if isfile(\"./data/models/c_tendency.xz\"):\n",
    "    with lzma.open(\"./data/models/c_tendency.xz\", \"rb\") as m_file:\n",
    "        c_tendency = pickle.load(m_file)\n",
    "else:\n",
    "    c_tendency = hopkins(clust_df, round(clust_df.shape[0]*.25))\n",
    "    \n",
    "    with lzma.open(\"./data/models/c_tendency.xz\", \"wb\") as m_file:\n",
    "        pickle.dump(c_tendency, m_file)\n",
    "\n",
    "print(\"Clustering tendency is {:.4f}.\".format(c_tendency))"
   ]
  },
  {
   "cell_type": "markdown",
   "id": "9631bdba-6ac6-4665-9f10-1a20fa526563",
   "metadata": {},
   "source": [
    "Нда... Данные имеют практически равномерное распределение. Пусть это будет гипотеза. Хотелось бы её опровергнуть."
   ]
  },
  {
   "cell_type": "code",
   "execution_count": 105,
   "id": "81119714-a04a-4fe6-86c6-b06bbbe45eff",
   "metadata": {},
   "outputs": [
    {
     "data": {
      "image/png": "[encoded data removed]",
      "text/plain": [
       "<Figure size 864x864 with 1 Axes>"
      ]
     },
     "metadata": {
      "needs_background": "light"
     },
     "output_type": "display_data"
    }
   ],
   "source": [
    "pca_worker = PCA(n_components=2)\n",
    "\n",
    "clust_pca_df = pca_worker.fit_transform(clust_df)\n",
    "\n",
    "fig = plt.figure(figsize=(12, 12))\n",
    "\n",
    "plt.scatter(x=clust_pca_df[:, 0], y=clust_pca_df[:, 1], s=3)\n",
    "\n",
    "plt.show()"
   ]
  },
  {
   "cell_type": "markdown",
   "id": "c377f527-9c3c-4cf7-b769-e2ae9bd657b1",
   "metadata": {},
   "source": [
    "Какбы кластеров тут не видно. То есть, кластера формироваться будут, но не очень удачно с точки зрения определения isFraud."
   ]
  },
  {
   "cell_type": "markdown",
   "id": "83160034-c548-4af4-a272-dc210e326bcb",
   "metadata": {},
   "source": [
    "**Иерархическая кластеризация**"
   ]
  },
  {
   "cell_type": "markdown",
   "id": "8d2743b1-ec80-4864-8957-abba4cb6079b",
   "metadata": {},
   "source": [
    "Вобщем иерархическая кластеризация не подходит для данного датасета ввиду очень большого потребления памяти для такого количества записей. "
   ]
  },
  {
   "cell_type": "markdown",
   "id": "0bcb8452-a7c5-4b25-a37d-7126d85ca879",
   "metadata": {},
   "source": [
    "Но попробовать интересно, поэтому сделаю downsample и посмотрю что из этого получится."
   ]
  },
  {
   "cell_type": "code",
   "execution_count": 13,
   "id": "6b9f2357-3edf-4071-8c5e-64a0215664b8",
   "metadata": {},
   "outputs": [],
   "source": [
    "cluster_unsdersampled_df, cluster_undersampled_isFraud_df = RandomUnderSampler(random_state=42).fit_resample(clust_df, src_df[['isFraud']])"
   ]
  },
  {
   "cell_type": "markdown",
   "id": "890c3c10-eb45-4a65-bfc0-1b8e82f8ad37",
   "metadata": {},
   "source": [
    "Нужно подобрать дистанцию. Применю для этого самый научный метод - научного тыка и чувства прекрасного."
   ]
  },
  {
   "cell_type": "code",
   "execution_count": 14,
   "id": "e18bab08-a823-4496-b780-a3a277574339",
   "metadata": {},
   "outputs": [
    {
     "name": "stdout",
     "output_type": "stream",
     "text": [
      "{1: 19010, 5: 3065, 25: 171, 50: 57, 100: 20, 150: 11, 200: 7, 300: 3, 500: 1, 1000: 1}\n"
     ]
    }
   ],
   "source": [
    "distances = [1, 5, 25, 50, 100, 150, 200, 300, 500, 1000]\n",
    "n_clusters = {}\n",
    "\n",
    "if isfile(\"./data/models/n_clusters.xz\"):\n",
    "    with lzma.open(\"./data/models/n_clusters.xz\", \"rb\") as m_file:\n",
    "        n_clusters = pickle.load(m_file)\n",
    "else:\n",
    "    for distance in distances:\n",
    "        cluster = AgglomerativeClustering(distance_threshold=distance, n_clusters=None).fit(cluster_unsdersampled_df)\n",
    "        n_clusters[distance] = cluster.n_clusters_\n",
    "    \n",
    "    with lzma.open(\"./data/models/n_clusters.xz\", \"wb\") as m_file:\n",
    "        pickle.dump(n_clusters, m_file)\n",
    "\n",
    "print(n_clusters)"
   ]
  },
  {
   "cell_type": "markdown",
   "id": "e7778415-2a24-4c03-9c46-08e28eb74267",
   "metadata": {},
   "source": [
    "Ну, возьму 100. И 100 и 20 числа красивые, мне так нравится."
   ]
  },
  {
   "cell_type": "code",
   "execution_count": 15,
   "id": "6bd48481-054e-4faf-bab9-d3b39c547a26",
   "metadata": {},
   "outputs": [],
   "source": [
    "h_distance = 100"
   ]
  },
  {
   "cell_type": "code",
   "execution_count": 16,
   "id": "64e9a6f1-47fc-4698-bc66-459b8e5f9fe2",
   "metadata": {},
   "outputs": [
    {
     "data": {
      "image/png": "[encoded data removed]",
      "text/plain": [
       "<Figure size 1584x792 with 1 Axes>"
      ]
     },
     "metadata": {
      "needs_background": "light"
     },
     "output_type": "display_data"
    }
   ],
   "source": [
    "h_cluster = AgglomerativeClustering(distance_threshold=h_distance, n_clusters=None)\n",
    "\n",
    "if isfile(\"./data/models/h_cluster.xz\"):\n",
    "    with lzma.open(\"./data/models/h_cluster.xz\", \"rb\") as m_file:\n",
    "        h_cluster = pickle.load(m_file)\n",
    "else:\n",
    "    h_cluster = AgglomerativeClustering(distance_threshold=h_distance, n_clusters=None).fit(cluster_unsdersampled_df)\n",
    "    \n",
    "    with lzma.open(\"./data/models/h_cluster.xz\", \"wb\") as m_file:\n",
    "        pickle.dump(h_cluster, m_file)\n",
    "\n",
    "\n",
    "z = hierarchy.linkage(h_cluster.children_, 'ward')\n",
    "\n",
    "figure, ax = plt.subplots(1, 1, figsize=(22,11))\n",
    "\n",
    "dn = hierarchy.dendrogram(z, ax=ax, no_labels=True)\n",
    "\n",
    "plt.show()"
   ]
  },
  {
   "cell_type": "markdown",
   "id": "6b023b89-922f-43f6-aa91-d55678f846f7",
   "metadata": {},
   "source": [
    "Проверю, как кластеры соответствуют isFraud."
   ]
  },
  {
   "cell_type": "code",
   "execution_count": 17,
   "id": "af7050ed-5cdb-44ca-bcb1-909b9f5eda18",
   "metadata": {},
   "outputs": [],
   "source": [
    "test_df = cluster_unsdersampled_df.join(cluster_undersampled_isFraud_df)\n",
    "predicted_clusters = None\n",
    "\n",
    "if isfile(\"./data/models/test_df_clusters.xz\"):\n",
    "    with lzma.open(\"./data/models/test_df_clusters.xz\", \"rb\") as m_file:\n",
    "        predicted_clusters = pickle.load(m_file)\n",
    "else:\n",
    "    predicted_clusters = h_cluster.fit_predict(test_df)\n",
    "    \n",
    "    with lzma.open(\"./data/models/test_df_clusters.xz\", \"wb\") as m_file:\n",
    "        pickle.dump(predicted_clusters, m_file)\n",
    "        \n",
    "test_df['Cluster'] = predicted_clusters"
   ]
  },
  {
   "cell_type": "code",
   "execution_count": 108,
   "id": "011c56db-c360-4323-a7ad-d59252cba03e",
   "metadata": {},
   "outputs": [
    {
     "data": {
      "text/html": [
       "<div>\n",
       "<style scoped>\n",
       "    .dataframe tbody tr th:only-of-type {\n",
       "        vertical-align: middle;\n",
       "    }\n",
       "\n",
       "    .dataframe tbody tr th {\n",
       "        vertical-align: top;\n",
       "    }\n",
       "\n",
       "    .dataframe thead th {\n",
       "        text-align: right;\n",
       "    }\n",
       "</style>\n",
       "<table border=\"1\" class=\"dataframe\">\n",
       "  <thead>\n",
       "    <tr style=\"text-align: right;\">\n",
       "      <th></th>\n",
       "      <th>Cluster % in DS</th>\n",
       "      <th>isFraud (cluster %)</th>\n",
       "      <th>isFraud (total isFraud %)</th>\n",
       "    </tr>\n",
       "  </thead>\n",
       "  <tbody>\n",
       "    <tr>\n",
       "      <th>0</th>\n",
       "      <td>26.200000</td>\n",
       "      <td>54.000000</td>\n",
       "      <td>28.290000</td>\n",
       "    </tr>\n",
       "    <tr>\n",
       "      <th>1</th>\n",
       "      <td>6.160000</td>\n",
       "      <td>31.400000</td>\n",
       "      <td>3.870000</td>\n",
       "    </tr>\n",
       "    <tr>\n",
       "      <th>2</th>\n",
       "      <td>9.780000</td>\n",
       "      <td>78.080000</td>\n",
       "      <td>15.270000</td>\n",
       "    </tr>\n",
       "    <tr>\n",
       "      <th>3</th>\n",
       "      <td>1.160000</td>\n",
       "      <td>90.870000</td>\n",
       "      <td>2.110000</td>\n",
       "    </tr>\n",
       "    <tr>\n",
       "      <th>4</th>\n",
       "      <td>18.510000</td>\n",
       "      <td>21.000000</td>\n",
       "      <td>7.780000</td>\n",
       "    </tr>\n",
       "    <tr>\n",
       "      <th>5</th>\n",
       "      <td>0.180000</td>\n",
       "      <td>17.500000</td>\n",
       "      <td>0.060000</td>\n",
       "    </tr>\n",
       "    <tr>\n",
       "      <th>6</th>\n",
       "      <td>5.770000</td>\n",
       "      <td>80.110000</td>\n",
       "      <td>9.250000</td>\n",
       "    </tr>\n",
       "    <tr>\n",
       "      <th>7</th>\n",
       "      <td>0.900000</td>\n",
       "      <td>99.510000</td>\n",
       "      <td>1.790000</td>\n",
       "    </tr>\n",
       "    <tr>\n",
       "      <th>8</th>\n",
       "      <td>2.830000</td>\n",
       "      <td>54.220000</td>\n",
       "      <td>3.070000</td>\n",
       "    </tr>\n",
       "    <tr>\n",
       "      <th>9</th>\n",
       "      <td>0.930000</td>\n",
       "      <td>96.670000</td>\n",
       "      <td>1.790000</td>\n",
       "    </tr>\n",
       "    <tr>\n",
       "      <th>10</th>\n",
       "      <td>1.120000</td>\n",
       "      <td>69.290000</td>\n",
       "      <td>1.560000</td>\n",
       "    </tr>\n",
       "    <tr>\n",
       "      <th>11</th>\n",
       "      <td>1.890000</td>\n",
       "      <td>97.900000</td>\n",
       "      <td>3.700000</td>\n",
       "    </tr>\n",
       "    <tr>\n",
       "      <th>12</th>\n",
       "      <td>1.150000</td>\n",
       "      <td>97.700000</td>\n",
       "      <td>2.250000</td>\n",
       "    </tr>\n",
       "    <tr>\n",
       "      <th>13</th>\n",
       "      <td>2.940000</td>\n",
       "      <td>83.460000</td>\n",
       "      <td>4.900000</td>\n",
       "    </tr>\n",
       "    <tr>\n",
       "      <th>14</th>\n",
       "      <td>0.890000</td>\n",
       "      <td>58.910000</td>\n",
       "      <td>1.050000</td>\n",
       "    </tr>\n",
       "    <tr>\n",
       "      <th>15</th>\n",
       "      <td>3.730000</td>\n",
       "      <td>34.720000</td>\n",
       "      <td>2.590000</td>\n",
       "    </tr>\n",
       "    <tr>\n",
       "      <th>16</th>\n",
       "      <td>4.050000</td>\n",
       "      <td>38.390000</td>\n",
       "      <td>3.110000</td>\n",
       "    </tr>\n",
       "    <tr>\n",
       "      <th>17</th>\n",
       "      <td>10.760000</td>\n",
       "      <td>27.760000</td>\n",
       "      <td>5.970000</td>\n",
       "    </tr>\n",
       "    <tr>\n",
       "      <th>18</th>\n",
       "      <td>0.580000</td>\n",
       "      <td>84.090000</td>\n",
       "      <td>0.980000</td>\n",
       "    </tr>\n",
       "    <tr>\n",
       "      <th>19</th>\n",
       "      <td>0.020000</td>\n",
       "      <td>0.000000</td>\n",
       "      <td>0.000000</td>\n",
       "    </tr>\n",
       "    <tr>\n",
       "      <th>20</th>\n",
       "      <td>0.400000</td>\n",
       "      <td>63.330000</td>\n",
       "      <td>0.500000</td>\n",
       "    </tr>\n",
       "    <tr>\n",
       "      <th>21</th>\n",
       "      <td>0.050000</td>\n",
       "      <td>100.000000</td>\n",
       "      <td>0.100000</td>\n",
       "    </tr>\n",
       "  </tbody>\n",
       "</table>\n",
       "</div>"
      ],
      "text/plain": [
       "    Cluster % in DS  isFraud (cluster %)  isFraud (total isFraud %)\n",
       "0         26.200000            54.000000                  28.290000\n",
       "1          6.160000            31.400000                   3.870000\n",
       "2          9.780000            78.080000                  15.270000\n",
       "3          1.160000            90.870000                   2.110000\n",
       "4         18.510000            21.000000                   7.780000\n",
       "5          0.180000            17.500000                   0.060000\n",
       "6          5.770000            80.110000                   9.250000\n",
       "7          0.900000            99.510000                   1.790000\n",
       "8          2.830000            54.220000                   3.070000\n",
       "9          0.930000            96.670000                   1.790000\n",
       "10         1.120000            69.290000                   1.560000\n",
       "11         1.890000            97.900000                   3.700000\n",
       "12         1.150000            97.700000                   2.250000\n",
       "13         2.940000            83.460000                   4.900000\n",
       "14         0.890000            58.910000                   1.050000\n",
       "15         3.730000            34.720000                   2.590000\n",
       "16         4.050000            38.390000                   3.110000\n",
       "17        10.760000            27.760000                   5.970000\n",
       "18         0.580000            84.090000                   0.980000\n",
       "19         0.020000             0.000000                   0.000000\n",
       "20         0.400000            63.330000                   0.500000\n",
       "21         0.050000           100.000000                   0.100000"
      ]
     },
     "execution_count": 108,
     "metadata": {},
     "output_type": "execute_result"
    }
   ],
   "source": [
    "cluster_corr = {}\n",
    "\n",
    "\n",
    "for cluster in np.unique(test_df['Cluster']):\n",
    "    cluster_corr[cluster] = [\n",
    "        round(test_df.loc[test_df['Cluster'] == cluster].shape[0] / test_df.shape[0] * 100, ndigits=2),\n",
    "        round(test_df.loc[test_df['Cluster'] == cluster]['isFraud'].isin([1]).sum() / test_df.loc[test_df['Cluster'] == cluster].shape[0] * 100, ndigits=2),\n",
    "        round(test_df.loc[test_df['Cluster'] == cluster]['isFraud'].isin([1]).sum() / test_df.loc[test_df['isFraud'] == 1].shape[0] * 100, ndigits=2),\n",
    "    ]\n",
    "\n",
    "pd.DataFrame(data=cluster_corr, index=['Cluster % in DS', 'isFraud (cluster %)', 'isFraud (total isFraud %)']).T"
   ]
  },
  {
   "cell_type": "code",
   "execution_count": null,
   "id": "dbea297b-eaa0-40b9-89a6-3e43064ba36f",
   "metadata": {},
   "outputs": [],
   "source": []
  }
 ],
 "metadata": {
  "kernelspec": {
   "display_name": "Python 3 (ipykernel)",
   "language": "python",
   "name": "python3"
  },
  "language_info": {
   "codemirror_mode": {
    "name": "ipython",
    "version": 3
   },
   "file_extension": ".py",
   "mimetype": "text/x-python",
   "name": "python",
   "nbconvert_exporter": "python",
   "pygments_lexer": "ipython3",
   "version": "3.8.10"
  }
 },
 "nbformat": 4,
 "nbformat_minor": 5
}
