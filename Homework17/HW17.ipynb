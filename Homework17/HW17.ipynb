{
 "cells": [
  {
   "cell_type": "code",
   "execution_count": null,
   "metadata": {},
   "outputs": [],
   "source": [
    "import numpy as np\n",
    "import random\n",
    "from functools import partial\n",
    "\n",
    "from os.path import isfile\n",
    "import pickle\n",
    "\n",
    "import matplotlib.pylab as plt\n",
    "\n",
    "import tensorflow as tf\n",
    "import tensorflow_hub as hub\n",
    "import tensorflow_datasets as tfds\n",
    "from tensorflow.keras.models import Sequential, load_model\n",
    "from tensorflow.keras.callbacks import LearningRateScheduler, ModelCheckpoint\n",
    "from tensorflow.keras.optimizers import Adam\n",
    "\n",
    "import datetime\n",
    "\n",
    "from albumentations import (Compose, HorizontalFlip, Rotate, OneOf, VerticalFlip, RandomScale)\n",
    "\n",
    "AUTOTUNE = tf.data.experimental.AUTOTUNE\n",
    "\n",
    "%load_ext tensorboard"
   ]
  },
  {
   "cell_type": "code",
   "execution_count": null,
   "metadata": {},
   "outputs": [],
   "source": [
    "cifar100_labels = [\n",
    "    'apple', 'aquarium_fish', 'baby', 'bear', 'beaver', 'bed', 'bee', 'beetle', 'bicycle', 'bottle', \n",
    "    'bowl', 'boy', 'bridge', 'bus', 'butterfly', 'camel', 'can', 'castle', 'caterpillar', 'cattle', 'chair', \n",
    "    'chimpanzee', 'clock', 'cloud', 'cockroach', 'couch', 'crab', 'crocodile', 'cup', 'dinosaur', 'dolphin', \n",
    "    'elephant', 'flatfish', 'forest', 'fox', 'girl', 'hamster', 'house', 'kangaroo', 'keyboard', 'lamp', \n",
    "    'lawn_mower', 'leopard', 'lion', 'lizard', 'lobster', 'man', 'maple_tree', 'motorcycle', 'mountain',\n",
    "    'mouse', 'mushroom', 'oak_tree', 'orange', 'orchid', 'otter', 'palm_tree', 'pear', 'pickup_truck', \n",
    "    'pine_tree', 'plain', 'plate', 'poppy', 'porcupine', 'possum', 'rabbit', 'raccoon', 'ray', 'road', \n",
    "    'rocket', 'rose', 'sea', 'seal', 'shark', 'shrew', 'skunk', 'skyscraper', 'snail', 'snake', 'spider', \n",
    "    'squirrel', 'streetcar', 'sunflower', 'sweet_pepper', 'table', 'tank', 'telephone', 'television', 'tiger', \n",
    "    'tractor', 'train', 'trout', 'tulip', 'turtle', 'wardrobe', 'whale', 'willow_tree', 'wolf', 'woman', 'worm'\n",
    "]"
   ]
  },
  {
   "cell_type": "code",
   "execution_count": null,
   "metadata": {},
   "outputs": [],
   "source": []
  },
  {
   "cell_type": "code",
   "execution_count": null,
   "metadata": {},
   "outputs": [],
   "source": [
    "def view_image(ds):\n",
    "    image, label = next(iter(ds)) \n",
    "    image = image.numpy()\n",
    "    label = label.numpy()\n",
    "    \n",
    "    fig = plt.figure(figsize=(16, 16))\n",
    "\n",
    "    for i in range(20):\n",
    "        ax = fig.add_subplot(4, 5, i+1, xticks=[], yticks=[])\n",
    "        ax.imshow(image[i])\n",
    "        label_idx = np.argmax(label[i], axis=0)\n",
    "        ax.set_title(f\"Label: {cifar100_labels[label_idx]}\")"
   ]
  },
  {
   "cell_type": "code",
   "execution_count": null,
   "metadata": {},
   "outputs": [],
   "source": [
    "IMAGE_SHAPE = (224, 224)\n",
    "def AUG_PROBA(x=0): return random.uniform(0.35, 0.75)\n",
    "NUM_EPOCHS = 32\n",
    "BATCH_SIZE = 32\n",
    "VAL_BATCH_SIZE = 32\n",
    "NUM_CLASSES = 100\n",
    "INITIAL_LR = 0.05\n",
    "DATASET_PERCENT = 5"
   ]
  },
  {
   "cell_type": "code",
   "execution_count": null,
   "metadata": {},
   "outputs": [],
   "source": [
    "aug_transforms = Compose([\n",
    "        OneOf([\n",
    "                Rotate(limit=15, p=AUG_PROBA()),\n",
    "                Rotate(limit=45, p=AUG_PROBA()),\n",
    "                Rotate(limit=90, p=AUG_PROBA())\n",
    "            ], p=AUG_PROBA()),\n",
    "        OneOf([\n",
    "                HorizontalFlip(p=AUG_PROBA()),\n",
    "                VerticalFlip(p=AUG_PROBA())\n",
    "            ], p=AUG_PROBA()),\n",
    "        RandomScale(scale_limit=0.05, p=AUG_PROBA()),\n",
    "    ]\n",
    ")"
   ]
  },
  {
   "cell_type": "code",
   "execution_count": null,
   "metadata": {},
   "outputs": [],
   "source": [
    "def train_model(model_name: str, model=None, train=None, test=None, tb_logdir='logs/fit/'):\n",
    "    model_history_fn = \"./data/models/\" + model_name + \"-history.pickle\"\n",
    "    model_fn = './data/models/' + model_name + '-best_model.hdf5'\n",
    "    ret_model = model\n",
    "\n",
    "    if isfile(model_history_fn):\n",
    "        model_history = {}\n",
    "        \n",
    "        with open(model_history_fn, \"rb\") as m_file:\n",
    "            model_history = pickle.load(m_file)\n",
    "            \n",
    "        ret_model = load_model(model_fn, custom_objects={'KerasLayer': hub.KerasLayer})\n",
    "        \n",
    "        return model_history, ret_model\n",
    "    else:\n",
    "        # Early stop callback\n",
    "        early_stop = tf.keras.callbacks.EarlyStopping(monitor='val_loss', patience=2, mode='min', verbose=1)\n",
    "        \n",
    "        # Learning rate exp decay\n",
    "        def lr_exp_decay(epoch, lr):\n",
    "            k = 0.1\n",
    "            return INITIAL_LR * np.exp(-k * epoch)\n",
    "\n",
    "        # Save best model\n",
    "        checkpoint = ModelCheckpoint(filepath=model_fn,\n",
    "            monitor='val_loss',\n",
    "            verbose=1,\n",
    "            save_best_only=True,\n",
    "            mode='min'\n",
    "        )\n",
    "        \n",
    "        log_dir = tb_logdir + datetime.datetime.now().strftime(\"%Y%m%d-%H%M%S\")\n",
    "        \n",
    "        tensorboard_callback = tf.keras.callbacks.TensorBoard(\n",
    "            log_dir=log_dir,\n",
    "            histogram_freq=1)\n",
    "\n",
    "        model_history = ret_model.fit(\n",
    "            train, \n",
    "            batch_size=BATCH_SIZE, \n",
    "            epochs=NUM_EPOCHS,\n",
    "            validation_data=test,\n",
    "            validation_batch_size=VAL_BATCH_SIZE,\n",
    "            callbacks=[early_stop, LearningRateScheduler(lr_exp_decay, verbose=1), checkpoint, tensorboard_callback]\n",
    "        )\n",
    "        \n",
    "        with open(model_history_fn, \"wb\") as m_file:\n",
    "            pickle.dump(model_history.history, m_file)\n",
    "\n",
    "        return model_history.history, ret_model"
   ]
  },
  {
   "cell_type": "code",
   "execution_count": null,
   "metadata": {},
   "outputs": [],
   "source": [
    "def get_dataset(ds_name: str, augment=True):\n",
    "    def aug_fn(image):\n",
    "        data = {\"image\": image}\n",
    "        aug_data = aug_transforms(**data)\n",
    "        aug_img = aug_data[\"image\"]\n",
    "        aug_img = tf.image.resize(aug_img, size=[IMAGE_SHAPE[0], IMAGE_SHAPE[1]])\n",
    "        return aug_img\n",
    "    \n",
    "    def resize_fn(image, label):\n",
    "        return tf.image.resize(image, size=[IMAGE_SHAPE[0], IMAGE_SHAPE[1]]), label\n",
    "\n",
    "    def process_data(image, label):\n",
    "        aug_img = tf.numpy_function(func=aug_fn, inp=[image], Tout=tf.float32)\n",
    "        return aug_img, label\n",
    "\n",
    "    def normilize_func(image):\n",
    "        return tf.cast(image/255.0, tf.float32)\n",
    "\n",
    "    def normilize_data(image, label):\n",
    "        image = tf.numpy_function(func=normilize_func, inp=[image], Tout=tf.float32)\n",
    "        return image, tf.one_hot(label, depth=NUM_CLASSES)\n",
    "\n",
    "    train_ds, test_ds = tfds.load(\n",
    "        name=ds_name, \n",
    "        split=['train[:{}%]'.format(DATASET_PERCENT), 'test[:{}%]'.format(DATASET_PERCENT)], \n",
    "        as_supervised=True, with_info=False, shuffle_files=True\n",
    "    ) \n",
    "\n",
    "    if augment:\n",
    "        train_ds = train_ds.map(partial(process_data), num_parallel_calls=AUTOTUNE).prefetch(AUTOTUNE)\n",
    "        test_ds = test_ds.map(partial(resize_fn), num_parallel_calls=AUTOTUNE).prefetch(AUTOTUNE)\n",
    "        \n",
    "    train_ds = train_ds.map(partial(normilize_data), num_parallel_calls=AUTOTUNE).batch(BATCH_SIZE).prefetch(AUTOTUNE)\n",
    "\n",
    "    test_ds = test_ds.map(partial(normilize_data), num_parallel_calls=AUTOTUNE).batch(VAL_BATCH_SIZE).prefetch(AUTOTUNE)\n",
    "\n",
    "    return train_ds, test_ds"
   ]
  },
  {
   "cell_type": "code",
   "execution_count": null,
   "metadata": {},
   "outputs": [],
   "source": [
    "train_ds, test_ds = get_dataset(\"cifar\" + str(NUM_CLASSES), augment=True)\n",
    "view_image(train_ds)"
   ]
  },
  {
   "cell_type": "code",
   "execution_count": null,
   "metadata": {},
   "outputs": [],
   "source": [
    "mobilenet_v2 = \"https://tfhub.dev/google/tf2-preview/mobilenet_v2/feature_vector/4\"\n",
    "inception_v3 = \"https://tfhub.dev/google/tf2-preview/inception_v3/feature_vector/4\"\n",
    "\n",
    "feature_extractor_layer = hub.KerasLayer(\n",
    "    inception_v3,\n",
    "    input_shape=(IMAGE_SHAPE[0], IMAGE_SHAPE[1], 3),\n",
    "    trainable=False)\n",
    "\n",
    "model = tf.keras.Sequential([\n",
    "    feature_extractor_layer,\n",
    "    tf.keras.layers.Dense(NUM_CLASSES, activation='softmax')\n",
    "])\n",
    "\n",
    "model.summary()\n"
   ]
  },
  {
   "cell_type": "code",
   "execution_count": null,
   "metadata": {},
   "outputs": [],
   "source": [
    "adam_optimizer = Adam(learning_rate=INITIAL_LR)\n",
    "\n",
    "model.compile(optimizer=adam_optimizer, loss='categorical_crossentropy', metrics=['accuracy'])\n",
    "\n",
    "history, model_dense = train_model(model_name='dense_output', model=model, train=train_ds, test=test_ds, tb_logdir='logs/fit_dense/')"
   ]
  },
  {
   "cell_type": "code",
   "execution_count": null,
   "metadata": {},
   "outputs": [],
   "source": [
    "# from tensorboard import notebook\n",
    "# notebook.list()\n",
    "# %tensorboard --logdir ./logs/fit_dense/"
   ]
  },
  {
   "cell_type": "code",
   "execution_count": null,
   "metadata": {},
   "outputs": [],
   "source": [
    "feature_extractor_layer = hub.KerasLayer(\n",
    "    inception_v3,\n",
    "    input_shape=(IMAGE_SHAPE[0], IMAGE_SHAPE[1], 3),\n",
    "    trainable=True)\n",
    "\n",
    "model = tf.keras.Sequential([\n",
    "    feature_extractor_layer,\n",
    "    tf.keras.layers.Dense(NUM_CLASSES, activation='softmax')\n",
    "])\n",
    "\n",
    "model.summary()"
   ]
  },
  {
   "cell_type": "code",
   "execution_count": null,
   "metadata": {},
   "outputs": [],
   "source": [
    "adam_optimizer = Adam(learning_rate=INITIAL_LR)\n",
    "\n",
    "model.compile(optimizer=adam_optimizer, loss='categorical_crossentropy', metrics=['accuracy'])\n",
    "\n",
    "history, model_all = train_model(model_name='all_layers', model=model, train=train_ds, test=test_ds, tb_logdir='logs/fit_all/')"
   ]
  },
  {
   "cell_type": "code",
   "execution_count": null,
   "metadata": {},
   "outputs": [],
   "source": []
  }
 ],
 "metadata": {
  "interpreter": {
   "hash": "daf67b0fb00a5dad4e5578ab057898829687ca3103e941f8473082152e9dd2a8"
  },
  "kernelspec": {
   "display_name": "Python 3.9.9 64-bit ('hillel_hw_venv': venv)",
   "language": "python",
   "name": "python3"
  },
  "language_info": {
   "codemirror_mode": {
    "name": "ipython",
    "version": 3
   },
   "file_extension": ".py",
   "mimetype": "text/x-python",
   "name": "python",
   "nbconvert_exporter": "python",
   "pygments_lexer": "ipython3",
   "version": "3.9.9"
  },
  "orig_nbformat": 4
 },
 "nbformat": 4,
 "nbformat_minor": 2
}
